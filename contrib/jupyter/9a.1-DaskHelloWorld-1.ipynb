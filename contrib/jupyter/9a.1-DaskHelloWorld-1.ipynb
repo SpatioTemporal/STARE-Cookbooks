{
 "cells": [
  {
   "cell_type": "code",
   "execution_count": 14,
   "metadata": {},
   "outputs": [],
   "source": [
    "from dask_gateway import Gateway\n",
    "from dask_gateway import GatewayCluster\n",
    "from dask.distributed import Client\n",
    "\n",
    "import socket\n",
    "import pprint\n",
    "import numpy\n",
    "import pystare\n",
    "\n",
    "import os\n",
    "import sys\n",
    "\n",
    "import boto3"
   ]
  },
  {
   "cell_type": "code",
   "execution_count": 2,
   "metadata": {},
   "outputs": [],
   "source": [
    "def get_s3_keys(bucket, s3_client, prefix = ''):\n",
    "    \"\"\"\n",
    "    Generate the keys in an S3 bucket.\n",
    "\n",
    "    :param bucket: Name of the S3 bucket.\n",
    "    :param prefix: Only fetch keys that start with this prefix (optional).\n",
    "    \"\"\"\n",
    "    \n",
    "    kwargs = {'Bucket': bucket}\n",
    "\n",
    "    if isinstance(prefix, str):\n",
    "        kwargs['Prefix'] = prefix\n",
    "\n",
    "    done = False\n",
    "    while not done:\n",
    "        resp = s3_client.list_objects_v2(**kwargs)\n",
    "        try:\n",
    "            for obj in resp['Contents']:\n",
    "                key = obj['Key']\n",
    "                if key.startswith(prefix):\n",
    "                    # print('key: ',key)\n",
    "                    yield key\n",
    "        except KeyError:\n",
    "            print('Empty response from s3 for bucket %s with prefix %s'%(bucket,prefix))\n",
    "            break\n",
    "\n",
    "        try:\n",
    "            kwargs['ContinuationToken'] = resp['NextContinuationToken']\n",
    "        except KeyError:\n",
    "            break\n",
    "            \n"
   ]
  },
  {
   "cell_type": "code",
   "execution_count": 3,
   "metadata": {},
   "outputs": [
    {
     "data": {
      "text/plain": [
       "Gateway<http://10.100.222.95:8000/services/dask-gateway>"
      ]
     },
     "execution_count": 3,
     "metadata": {},
     "output_type": "execute_result"
    }
   ],
   "source": [
    "gateway = Gateway(); gateway"
   ]
  },
  {
   "cell_type": "code",
   "execution_count": 7,
   "metadata": {},
   "outputs": [],
   "source": [
    "# gateway.close()"
   ]
  },
  {
   "cell_type": "code",
   "execution_count": 4,
   "metadata": {},
   "outputs": [
    {
     "data": {
      "application/vnd.jupyter.widget-view+json": {
       "model_id": "862371d1e8f6464eadf0c22abfff8df9",
       "version_major": 2,
       "version_minor": 0
      },
      "text/plain": [
       "VBox(children=(HTML(value='<h2>Cluster Options</h2>'), GridBox(children=(HTML(value=\"<p style='font-weight: bo…"
      ]
     },
     "metadata": {},
     "output_type": "display_data"
    }
   ],
   "source": [
    "options = gateway.cluster_options(); options"
   ]
  },
  {
   "cell_type": "code",
   "execution_count": 5,
   "metadata": {},
   "outputs": [
    {
     "data": {
      "application/vnd.jupyter.widget-view+json": {
       "model_id": "b7b889e05e3348cf8e6f75fdcc7b558e",
       "version_major": 2,
       "version_minor": 0
      },
      "text/plain": [
       "VBox(children=(HTML(value='<h2>GatewayCluster</h2>'), HBox(children=(HTML(value='\\n<div>\\n<style scoped>\\n    …"
      ]
     },
     "metadata": {},
     "output_type": "display_data"
    }
   ],
   "source": [
    "cluster = gateway.new_cluster(cluster_options=options); cluster"
   ]
  },
  {
   "cell_type": "code",
   "execution_count": 6,
   "metadata": {},
   "outputs": [
    {
     "data": {
      "text/plain": [
       "[ClusterReport<name=daskhub.58d2ddab00e2474ab92770b30e05bce9, status=RUNNING>]"
      ]
     },
     "execution_count": 6,
     "metadata": {},
     "output_type": "execute_result"
    }
   ],
   "source": [
    "clusters = gateway.list_clusters(); clusters"
   ]
  },
  {
   "cell_type": "code",
   "execution_count": 12,
   "metadata": {},
   "outputs": [],
   "source": [
    "# gateway_uri = \"gateway://traefik-dhub-dask-gateway.daskhub:80/daskhub.\"+gateway.list_clusters()[0].name.split('.')[1]; gateway_uri"
   ]
  },
  {
   "cell_type": "code",
   "execution_count": null,
   "metadata": {},
   "outputs": [],
   "source": []
  },
  {
   "cell_type": "code",
   "execution_count": 7,
   "metadata": {},
   "outputs": [
    {
     "name": "stderr",
     "output_type": "stream",
     "text": [
      "/home/jovyan/users_conda_envs/stare-1/lib/python3.7/site-packages/distributed/client.py:1136: VersionMismatchWarning: Mismatched versions found\n",
      "\n",
      "+---------+--------+-----------+---------+\n",
      "| Package | client | scheduler | workers |\n",
      "+---------+--------+-----------+---------+\n",
      "| numpy   | 1.19.2 | 1.19.1    | 1.19.1  |\n",
      "+---------+--------+-----------+---------+\n",
      "  warnings.warn(version_module.VersionMismatchWarning(msg[0][\"warning\"]))\n"
     ]
    }
   ],
   "source": [
    "# client = cluster.get_client(gateway_uri);\n",
    "client = cluster.get_client();"
   ]
  },
  {
   "cell_type": "code",
   "execution_count": 41,
   "metadata": {},
   "outputs": [
    {
     "data": {
      "text/html": [
       "<table style=\"border: 2px solid white;\">\n",
       "<tr>\n",
       "<td style=\"vertical-align: top; border: 0px solid white\">\n",
       "<h3 style=\"text-align: left;\">Client</h3>\n",
       "<ul style=\"text-align: left; list-style: none; margin: 0; padding: 0;\">\n",
       "  <li><b>Scheduler: </b>gateway://traefik-dhub-dask-gateway.daskhub:80/daskhub.b0e0145223444e15a42df978c2d9216a</li>\n",
       "  <li><b>Dashboard: </b><a href='/services/dask-gateway/clusters/daskhub.b0e0145223444e15a42df978c2d9216a/status' target='_blank'>/services/dask-gateway/clusters/daskhub.b0e0145223444e15a42df978c2d9216a/status</a></li>\n",
       "</ul>\n",
       "</td>\n",
       "<td style=\"vertical-align: top; border: 0px solid white\">\n",
       "<h3 style=\"text-align: left;\">Cluster</h3>\n",
       "<ul style=\"text-align: left; list-style:none; margin: 0; padding: 0;\">\n",
       "  <li><b>Workers: </b>1</li>\n",
       "  <li><b>Cores: </b>2</li>\n",
       "  <li><b>Memory: </b>4.29 GB</li>\n",
       "</ul>\n",
       "</td>\n",
       "</tr>\n",
       "</table>"
      ],
      "text/plain": [
       "<Client: 'tls://192.168.25.216:8786' processes=1 threads=2, memory=4.29 GB>"
      ]
     },
     "execution_count": 41,
     "metadata": {},
     "output_type": "execute_result"
    }
   ],
   "source": [
    "client"
   ]
  },
  {
   "cell_type": "code",
   "execution_count": 8,
   "metadata": {},
   "outputs": [
    {
     "data": {
      "text/plain": [
       "0.0002658398139231805"
      ]
     },
     "execution_count": 8,
     "metadata": {},
     "output_type": "execute_result"
    }
   ],
   "source": [
    "import dask.array as da\n",
    "a = da.random.normal(size=(1000,1000),chunks=(50,50))\n",
    "a.mean().compute()"
   ]
  },
  {
   "cell_type": "code",
   "execution_count": 9,
   "metadata": {},
   "outputs": [
    {
     "data": {
      "text/plain": [
       "{'tls://192.168.26.198:44633': 2}"
      ]
     },
     "execution_count": 9,
     "metadata": {},
     "output_type": "execute_result"
    }
   ],
   "source": [
    "client.nthreads()"
   ]
  },
  {
   "cell_type": "code",
   "execution_count": 10,
   "metadata": {},
   "outputs": [],
   "source": [
    "# Dask helpers\n",
    "def slam(client,action,data,partition_factor=1.5,dbg=0):\n",
    "    np = sum(client.nthreads().values())\n",
    "    if dbg>0: # a\n",
    "        print('slam: np = %i'%np)\n",
    "    shard_bounds = [int(i*len(data)/(1.0*partition_factor*np)) for i in range(int(partition_factor*np))] \n",
    "    if shard_bounds[-1] != len(data):\n",
    "        if dbg>0: # b\n",
    "            print('a sb[-1]: ',shard_bounds[-1],len(data))\n",
    "        shard_bounds = shard_bounds + [len(data)]\n",
    "        if dbg>0: # c\n",
    "            print('sb: ',shard_bounds)\n",
    "    data_shards = [data[shard_bounds[i]:shard_bounds[i+1]] for i in range(len(shard_bounds)-1)]\n",
    "    if dbg>0: # d\n",
    "        print('ds len:        ',len(data_shards))\n",
    "        print('ds item len:   ',len(data_shards[0]))\n",
    "        print('ds type:       ',type(data_shards[0]))\n",
    "        try:\n",
    "            print('ds dtype:      ',data_shards[0].dtype)\n",
    "        except:\n",
    "            pass\n",
    "    big_future = client.scatter(data_shards)\n",
    "    results    = client.map(action,big_future)\n",
    "    return results\n"
   ]
  },
  {
   "cell_type": "code",
   "execution_count": 38,
   "metadata": {},
   "outputs": [],
   "source": [
    "def action(data_shard):\n",
    "    ret = []\n",
    "    for d in data_shard:\n",
    "        if d == 0:\n",
    "            ret.append((d,'touched',os.getcwd(),os.environ))\n",
    "        if d == 1:\n",
    "            ret.append((d,'touched',os.getcwd(),os.listdir()))\n",
    "        if d == 2:\n",
    "            ret.append((d,'touched',socket.gethostname()))\n",
    "        if d == 3:\n",
    "            filename='.bashrc'\n",
    "            with open(filename, 'r') as file:\n",
    "                data = file.read()\n",
    "            ret.append((d,'read .bashrc',data))\n",
    "        if d == 4:\n",
    "            ret.append((d,os.environ['DASK_PARENT'],os.environ['DASK_GATEWAY_WORKER_NAME']))\n",
    "        if d == 5:\n",
    "            # ret.append((d,pystare.from_latlon([30],[30],4)))\n",
    "            pass\n",
    "        if d == 6:\n",
    "            ret.append((d,os.environ))\n",
    "            \n",
    "        # Here's what we really need to work.\n",
    "        if d == 7:\n",
    "            client = boto3.client('s3')\n",
    "            keys = get_s3_keys('daskhub-data',client,prefix='')\n",
    "            ret.append(d,list(keys)[0:10])\n",
    "            \n",
    "    return ret"
   ]
  },
  {
   "cell_type": "code",
   "execution_count": 49,
   "metadata": {},
   "outputs": [
    {
     "name": "stdout",
     "output_type": "stream",
     "text": [
      "['GESDISC/MERRA2/2019/MERRA2_400.tavg1_2d_slv_Nx.20191203.nc4',\n",
      " 'GESDISC/MERRA2/2019/MERRA2_400.tavg1_2d_slv_Nx.20191222.nc4',\n",
      " 'GESDISC/MERRA2/2019/MERRA2_400.tavg1_2d_slv_Nx.20191226.nc4',\n",
      " 'MODAPS/CATALOGS/MOD05_L2/2019/356/catalogue.sqlite',\n",
      " 'MODAPS/MOD05/MOD05_L2.A2019336.2315.061.2019337071952.hdf',\n",
      " 'MODAPS/MOD05/MOD05_L2.A2019336.2315.061.2019337071952_stare.nc',\n",
      " 'MODAPS/MOD05/MOD05_L2.A2019336.2320.061.2019337072008.hdf',\n",
      " 'MODAPS/MOD05/MOD05_L2.A2019336.2320.061.2019337072008_stare.nc',\n",
      " 'MODAPS/MOD05/MOD05_L2.A2019336.2325.061.2019337072403.hdf',\n",
      " 'MODAPS/MOD05/MOD05_L2.A2019336.2325.061.2019337072403_stare.nc']\n"
     ]
    }
   ],
   "source": [
    "if True:\n",
    "    s3_client = boto3.client('s3')\n",
    "    keys = get_s3_keys('daskhub-data',s3_client,prefix='')\n",
    "    pprint.pprint(list(keys)[0:10])"
   ]
  },
  {
   "cell_type": "code",
   "execution_count": 29,
   "metadata": {},
   "outputs": [
    {
     "data": {
      "text/plain": [
       "array([2, 0, 3, 3, 3, 3, 3, 3, 3, 3])"
      ]
     },
     "execution_count": 29,
     "metadata": {},
     "output_type": "execute_result"
    }
   ],
   "source": [
    "data = numpy.arange(10)\n",
    "data[0] = 2\n",
    "data[1] = 0\n",
    "data[2:] = 3\n",
    "data"
   ]
  },
  {
   "cell_type": "code",
   "execution_count": 39,
   "metadata": {},
   "outputs": [],
   "source": [
    "results = slam(client,action,data)"
   ]
  },
  {
   "cell_type": "code",
   "execution_count": 40,
   "metadata": {},
   "outputs": [
    {
     "data": {
      "text/plain": [
       "[<Future: finished, type: builtins.list, key: action-f9be749f42cb134583faad75e4445135>,\n",
       " <Future: finished, type: builtins.list, key: action-cb6d4baae054af18a4e71cb0c9906cf1>,\n",
       " <Future: finished, type: builtins.list, key: action-6b77c139cbbd777ac6187cbdffa43d4b>]"
      ]
     },
     "execution_count": 40,
     "metadata": {},
     "output_type": "execute_result"
    }
   ],
   "source": [
    "results"
   ]
  },
  {
   "cell_type": "code",
   "execution_count": 41,
   "metadata": {},
   "outputs": [
    {
     "data": {
      "text/plain": [
       "[[(2, 'touched', 'dask-worker-58d2ddab00e2474ab92770b30e05bce9-pvmpz'),\n",
       "  (0,\n",
       "   'touched',\n",
       "   '/home/jovyan',\n",
       "   environ{'CONDA_SHLVL': '1',\n",
       "           'LC_ALL': 'C.UTF-8',\n",
       "           'CONDA_EXE': '/srv/conda/bin/conda',\n",
       "           'PROXY_API_PORT': 'tcp://10.100.182.208:8001',\n",
       "           'DASK_GATEWAY_CLUSTER_NAME': 'daskhub.58d2ddab00e2474ab92770b30e05bce9',\n",
       "           'DASK_GATEWAY_API_TOKEN': '/etc/dask-credentials/api-token',\n",
       "           'PROXY_API_PORT_8001_TCP_PORT': '8001',\n",
       "           'LANG': 'C.UTF-8',\n",
       "           'API_DHUB_DASK_GATEWAY_PORT_8000_TCP_PORT': '8000',\n",
       "           'HUB_PORT_8081_TCP_PROTO': 'tcp',\n",
       "           'DASK_GATEWAY_API_URL': 'http://api-dhub-dask-gateway.daskhub:8000/api',\n",
       "           'HUB_SERVICE_HOST': '10.100.33.175',\n",
       "           'HOSTNAME': 'dask-worker-58d2ddab00e2474ab92770b30e05bce9-pvmpz',\n",
       "           'PROXY_HTTP_PORT_8000_TCP_ADDR': '10.100.222.95',\n",
       "           'PANGEO_ENV': 'base-notebook',\n",
       "           'DASK_GATEWAY_TLS_CERT': '/etc/dask-credentials/dask.crt',\n",
       "           'API_DHUB_DASK_GATEWAY_SERVICE_PORT': '8000',\n",
       "           'NB_UID': '1000',\n",
       "           'PROXY_HTTP_SERVICE_PORT': '8000',\n",
       "           'PROXY_PUBLIC_PORT_80_TCP_ADDR': '10.100.215.111',\n",
       "           'PROXY_PUBLIC_PORT_443_TCP_ADDR': '10.100.215.111',\n",
       "           'CONDA_PREFIX': '/srv/conda/envs/notebook',\n",
       "           'PROXY_PUBLIC_PORT_80_TCP_PORT': '80',\n",
       "           'CONDA_ENV': 'notebook',\n",
       "           'CONDA_DIR': '/srv/conda',\n",
       "           'CONDA_VERSION': '4.8.3-4',\n",
       "           'API_DHUB_DASK_GATEWAY_PORT_8000_TCP': 'tcp://10.100.134.122:8000',\n",
       "           'PROXY_PUBLIC_SERVICE_PORT': '443',\n",
       "           '_CE_M': '',\n",
       "           'KUBERNETES_PORT_443_TCP_PROTO': 'tcp',\n",
       "           'PROXY_PUBLIC_SERVICE_HOST': '10.100.215.111',\n",
       "           'KUBERNETES_PORT_443_TCP_ADDR': '10.100.0.1',\n",
       "           'PROXY_HTTP_PORT': 'tcp://10.100.222.95:8000',\n",
       "           'HUB_PORT_8081_TCP': 'tcp://10.100.33.175:8081',\n",
       "           'TRAEFIK_DHUB_DASK_GATEWAY_PORT': 'tcp://10.100.39.162:80',\n",
       "           'PROXY_PUBLIC_PORT_443_TCP': 'tcp://10.100.215.111:443',\n",
       "           'PROXY_PUBLIC_SERVICE_PORT_HTTP': '80',\n",
       "           'AWS_WEB_IDENTITY_TOKEN_FILE': '/var/run/secrets/eks.amazonaws.com/serviceaccount/token',\n",
       "           'KUBERNETES_PORT': 'tcp://10.100.0.1:443',\n",
       "           'HUB_PORT': 'tcp://10.100.33.175:8081',\n",
       "           'PROXY_PUBLIC_PORT_80_TCP': 'tcp://10.100.215.111:80',\n",
       "           'PWD': '/home/jovyan',\n",
       "           'HOME': '/home/jovyan',\n",
       "           'API_DHUB_DASK_GATEWAY_PORT_8000_TCP_ADDR': '10.100.134.122',\n",
       "           'PROXY_API_SERVICE_HOST': '10.100.182.208',\n",
       "           'CONDA_PYTHON_EXE': '/srv/conda/bin/python',\n",
       "           'TRAEFIK_DHUB_DASK_GATEWAY_SERVICE_PORT': '80',\n",
       "           'KUBERNETES_SERVICE_PORT_HTTPS': '443',\n",
       "           'PROXY_API_PORT_8001_TCP': 'tcp://10.100.182.208:8001',\n",
       "           'PROXY_API_SERVICE_PORT': '8001',\n",
       "           'API_DHUB_DASK_GATEWAY_PORT': 'tcp://10.100.134.122:8000',\n",
       "           'DASK_ROOT_CONFIG': '/srv/conda/etc',\n",
       "           'PROXY_API_PORT_8001_TCP_ADDR': '10.100.182.208',\n",
       "           'PROXY_PUBLIC_PORT': 'tcp://10.100.215.111:443',\n",
       "           'KUBERNETES_PORT_443_TCP_PORT': '443',\n",
       "           '_CE_CONDA': '',\n",
       "           'NB_USER': 'jovyan',\n",
       "           'TRAEFIK_DHUB_DASK_GATEWAY_PORT_80_TCP': 'tcp://10.100.39.162:80',\n",
       "           'HUB_PORT_8081_TCP_PORT': '8081',\n",
       "           'PROXY_HTTP_PORT_8000_TCP': 'tcp://10.100.222.95:8000',\n",
       "           'KUBERNETES_PORT_443_TCP': 'tcp://10.100.0.1:443',\n",
       "           'TRAEFIK_DHUB_DASK_GATEWAY_SERVICE_HOST': '10.100.39.162',\n",
       "           'CONDA_PROMPT_MODIFIER': '(notebook) ',\n",
       "           'PROXY_API_PORT_8001_TCP_PROTO': 'tcp',\n",
       "           'HUB_PORT_8081_TCP_ADDR': '10.100.33.175',\n",
       "           'TRAEFIK_DHUB_DASK_GATEWAY_SERVICE_PORT_WEB': '80',\n",
       "           'PROXY_HTTP_SERVICE_HOST': '10.100.222.95',\n",
       "           'SHELL': '/bin/bash',\n",
       "           'API_DHUB_DASK_GATEWAY_SERVICE_HOST': '10.100.134.122',\n",
       "           'TRAEFIK_DHUB_DASK_GATEWAY_PORT_80_TCP_PORT': '80',\n",
       "           'API_DHUB_DASK_GATEWAY_PORT_8000_TCP_PROTO': 'tcp',\n",
       "           'TRAEFIK_DHUB_DASK_GATEWAY_PORT_80_TCP_ADDR': '10.100.39.162',\n",
       "           'NB_PYTHON_PREFIX': '/srv/conda/envs/notebook',\n",
       "           'HUB_SERVICE_PORT': '8081',\n",
       "           'SHLVL': '0',\n",
       "           'PROXY_PUBLIC_PORT_80_TCP_PROTO': 'tcp',\n",
       "           'DASK_GATEWAY_WORKER_NAME': 'dask-worker-58d2ddab00e2474ab92770b30e05bce9-pvmpz',\n",
       "           'AWS_ROLE_ARN': 'arn:aws:iam::306565948140:role/eksctl-smce-eks-dev-addon-iamserviceaccount-Role1-O3ABBCE1PTBI',\n",
       "           'PROXY_HTTP_PORT_8000_TCP_PROTO': 'tcp',\n",
       "           'KUBERNETES_SERVICE_PORT': '443',\n",
       "           'PROXY_PUBLIC_PORT_443_TCP_PORT': '443',\n",
       "           'PROXY_PUBLIC_PORT_443_TCP_PROTO': 'tcp',\n",
       "           'PROXY_PUBLIC_SERVICE_PORT_HTTPS': '443',\n",
       "           'PATH': '/srv/conda/envs/notebook/bin:/srv/conda/condabin:/srv/conda/bin:/usr/local/sbin:/usr/local/bin:/usr/sbin:/usr/bin:/sbin:/bin',\n",
       "           'CONDA_DEFAULT_ENV': 'notebook',\n",
       "           'KUBERNETES_SERVICE_HOST': '10.100.0.1',\n",
       "           'DASK_GATEWAY_TLS_KEY': '/etc/dask-credentials/dask.pem',\n",
       "           'TRAEFIK_DHUB_DASK_GATEWAY_PORT_80_TCP_PROTO': 'tcp',\n",
       "           'PROXY_HTTP_PORT_8000_TCP_PORT': '8000',\n",
       "           'DASK_PARENT': '1'}),\n",
       "  (3,\n",
       "   'read .bashrc',\n",
       "   '# ~/.bashrc: executed by bash(1) for non-login shells.\\n# see /usr/share/doc/bash/examples/startup-files (in the package bash-doc)\\n# for examples\\n\\n# If not running interactively, don\\'t do anything\\ncase $- in\\n    *i*) ;;\\n      *) return;;\\nesac\\n\\n# don\\'t put duplicate lines or lines starting with space in the history.\\n# See bash(1) for more options\\nHISTCONTROL=ignoreboth\\n\\n# append to the history file, don\\'t overwrite it\\nshopt -s histappend\\n\\n# for setting history length see HISTSIZE and HISTFILESIZE in bash(1)\\nHISTSIZE=1000\\nHISTFILESIZE=2000\\n\\n# check the window size after each command and, if necessary,\\n# update the values of LINES and COLUMNS.\\nshopt -s checkwinsize\\n\\n# If set, the pattern \"**\" used in a pathname expansion context will\\n# match all files and zero or more directories and subdirectories.\\n#shopt -s globstar\\n\\n# make less more friendly for non-text input files, see lesspipe(1)\\n[ -x /usr/bin/lesspipe ] && eval \"$(SHELL=/bin/sh lesspipe)\"\\n\\n# set variable identifying the chroot you work in (used in the prompt below)\\nif [ -z \"${debian_chroot:-}\" ] && [ -r /etc/debian_chroot ]; then\\n    debian_chroot=$(cat /etc/debian_chroot)\\nfi\\n\\n# set a fancy prompt (non-color, unless we know we \"want\" color)\\ncase \"$TERM\" in\\n    xterm-color|*-256color) color_prompt=yes;;\\nesac\\n\\n# uncomment for a colored prompt, if the terminal has the capability; turned\\n# off by default to not distract the user: the focus in a terminal window\\n# should be on the output of commands, not on the prompt\\n#force_color_prompt=yes\\n\\nif [ -n \"$force_color_prompt\" ]; then\\n    if [ -x /usr/bin/tput ] && tput setaf 1 >&/dev/null; then\\n\\t# We have color support; assume it\\'s compliant with Ecma-48\\n\\t# (ISO/IEC-6429). (Lack of such support is extremely rare, and such\\n\\t# a case would tend to support setf rather than setaf.)\\n\\tcolor_prompt=yes\\n    else\\n\\tcolor_prompt=\\n    fi\\nfi\\n\\nif [ \"$color_prompt\" = yes ]; then\\n    PS1=\\'${debian_chroot:+($debian_chroot)}\\\\[\\\\033[01;32m\\\\]\\\\u@\\\\h\\\\[\\\\033[00m\\\\]:\\\\[\\\\033[01;34m\\\\]\\\\w\\\\[\\\\033[00m\\\\]\\\\$ \\'\\nelse\\n    PS1=\\'${debian_chroot:+($debian_chroot)}\\\\u@\\\\h:\\\\w\\\\$ \\'\\nfi\\nunset color_prompt force_color_prompt\\n\\n# If this is an xterm set the title to user@host:dir\\ncase \"$TERM\" in\\nxterm*|rxvt*)\\n    PS1=\"\\\\[\\\\e]0;${debian_chroot:+($debian_chroot)}\\\\u@\\\\h: \\\\w\\\\a\\\\]$PS1\"\\n    ;;\\n*)\\n    ;;\\nesac\\n\\n# enable color support of ls and also add handy aliases\\nif [ -x /usr/bin/dircolors ]; then\\n    test -r ~/.dircolors && eval \"$(dircolors -b ~/.dircolors)\" || eval \"$(dircolors -b)\"\\n    alias ls=\\'ls --color=auto\\'\\n    #alias dir=\\'dir --color=auto\\'\\n    #alias vdir=\\'vdir --color=auto\\'\\n\\n    alias grep=\\'grep --color=auto\\'\\n    alias fgrep=\\'fgrep --color=auto\\'\\n    alias egrep=\\'egrep --color=auto\\'\\nfi\\n\\n# colored GCC warnings and errors\\n#export GCC_COLORS=\\'error=01;31:warning=01;35:note=01;36:caret=01;32:locus=01:quote=01\\'\\n\\n# some more ls aliases\\nalias ll=\\'ls -alF\\'\\nalias la=\\'ls -A\\'\\nalias l=\\'ls -CF\\'\\n\\n# Add an \"alert\" alias for long running commands.  Use like so:\\n#   sleep 10; alert\\nalias alert=\\'notify-send --urgency=low -i \"$([ $? = 0 ] && echo terminal || echo error)\" \"$(history|tail -n1|sed -e \\'\\\\\\'\\'s/^\\\\s*[0-9]\\\\+\\\\s*//;s/[;&|]\\\\s*alert$//\\'\\\\\\'\\')\"\\'\\n\\n# Alias definitions.\\n# You may want to put all your additions into a separate file like\\n# ~/.bash_aliases, instead of adding them here directly.\\n# See /usr/share/doc/bash-doc/examples in the bash-doc package.\\n\\nif [ -f ~/.bash_aliases ]; then\\n    . ~/.bash_aliases\\nfi\\n\\n# enable programmable completion features (you don\\'t need to enable\\n# this, if it\\'s already enabled in /etc/bash.bashrc and /etc/profile\\n# sources /etc/bash.bashrc).\\nif ! shopt -oq posix; then\\n  if [ -f /usr/share/bash-completion/bash_completion ]; then\\n    . /usr/share/bash-completion/bash_completion\\n  elif [ -f /etc/bash_completion ]; then\\n    . /etc/bash_completion\\n  fi\\nfi\\n\\n# >>> conda initialize >>>\\n# !! Contents within this block are managed by \\'conda init\\' !!\\n__conda_setup=\"$(\\'/srv/conda/bin/conda\\' \\'shell.bash\\' \\'hook\\' 2> /dev/null)\"\\nif [ $? -eq 0 ]; then\\n    eval \"$__conda_setup\"\\nelse\\n    if [ -f \"/srv/conda/etc/profile.d/conda.sh\" ]; then\\n        . \"/srv/conda/etc/profile.d/conda.sh\"\\n    else\\n        export PATH=\"/srv/conda/bin:$PATH\"\\n    fi\\nfi\\nunset __conda_setup\\n# <<< conda initialize <<<\\n\\nexport PATH=${PATH}:/home/jovyan/opt/local/bin\\nsource activate stare-1\\n')],\n",
       " [(3,\n",
       "   'read .bashrc',\n",
       "   '# ~/.bashrc: executed by bash(1) for non-login shells.\\n# see /usr/share/doc/bash/examples/startup-files (in the package bash-doc)\\n# for examples\\n\\n# If not running interactively, don\\'t do anything\\ncase $- in\\n    *i*) ;;\\n      *) return;;\\nesac\\n\\n# don\\'t put duplicate lines or lines starting with space in the history.\\n# See bash(1) for more options\\nHISTCONTROL=ignoreboth\\n\\n# append to the history file, don\\'t overwrite it\\nshopt -s histappend\\n\\n# for setting history length see HISTSIZE and HISTFILESIZE in bash(1)\\nHISTSIZE=1000\\nHISTFILESIZE=2000\\n\\n# check the window size after each command and, if necessary,\\n# update the values of LINES and COLUMNS.\\nshopt -s checkwinsize\\n\\n# If set, the pattern \"**\" used in a pathname expansion context will\\n# match all files and zero or more directories and subdirectories.\\n#shopt -s globstar\\n\\n# make less more friendly for non-text input files, see lesspipe(1)\\n[ -x /usr/bin/lesspipe ] && eval \"$(SHELL=/bin/sh lesspipe)\"\\n\\n# set variable identifying the chroot you work in (used in the prompt below)\\nif [ -z \"${debian_chroot:-}\" ] && [ -r /etc/debian_chroot ]; then\\n    debian_chroot=$(cat /etc/debian_chroot)\\nfi\\n\\n# set a fancy prompt (non-color, unless we know we \"want\" color)\\ncase \"$TERM\" in\\n    xterm-color|*-256color) color_prompt=yes;;\\nesac\\n\\n# uncomment for a colored prompt, if the terminal has the capability; turned\\n# off by default to not distract the user: the focus in a terminal window\\n# should be on the output of commands, not on the prompt\\n#force_color_prompt=yes\\n\\nif [ -n \"$force_color_prompt\" ]; then\\n    if [ -x /usr/bin/tput ] && tput setaf 1 >&/dev/null; then\\n\\t# We have color support; assume it\\'s compliant with Ecma-48\\n\\t# (ISO/IEC-6429). (Lack of such support is extremely rare, and such\\n\\t# a case would tend to support setf rather than setaf.)\\n\\tcolor_prompt=yes\\n    else\\n\\tcolor_prompt=\\n    fi\\nfi\\n\\nif [ \"$color_prompt\" = yes ]; then\\n    PS1=\\'${debian_chroot:+($debian_chroot)}\\\\[\\\\033[01;32m\\\\]\\\\u@\\\\h\\\\[\\\\033[00m\\\\]:\\\\[\\\\033[01;34m\\\\]\\\\w\\\\[\\\\033[00m\\\\]\\\\$ \\'\\nelse\\n    PS1=\\'${debian_chroot:+($debian_chroot)}\\\\u@\\\\h:\\\\w\\\\$ \\'\\nfi\\nunset color_prompt force_color_prompt\\n\\n# If this is an xterm set the title to user@host:dir\\ncase \"$TERM\" in\\nxterm*|rxvt*)\\n    PS1=\"\\\\[\\\\e]0;${debian_chroot:+($debian_chroot)}\\\\u@\\\\h: \\\\w\\\\a\\\\]$PS1\"\\n    ;;\\n*)\\n    ;;\\nesac\\n\\n# enable color support of ls and also add handy aliases\\nif [ -x /usr/bin/dircolors ]; then\\n    test -r ~/.dircolors && eval \"$(dircolors -b ~/.dircolors)\" || eval \"$(dircolors -b)\"\\n    alias ls=\\'ls --color=auto\\'\\n    #alias dir=\\'dir --color=auto\\'\\n    #alias vdir=\\'vdir --color=auto\\'\\n\\n    alias grep=\\'grep --color=auto\\'\\n    alias fgrep=\\'fgrep --color=auto\\'\\n    alias egrep=\\'egrep --color=auto\\'\\nfi\\n\\n# colored GCC warnings and errors\\n#export GCC_COLORS=\\'error=01;31:warning=01;35:note=01;36:caret=01;32:locus=01:quote=01\\'\\n\\n# some more ls aliases\\nalias ll=\\'ls -alF\\'\\nalias la=\\'ls -A\\'\\nalias l=\\'ls -CF\\'\\n\\n# Add an \"alert\" alias for long running commands.  Use like so:\\n#   sleep 10; alert\\nalias alert=\\'notify-send --urgency=low -i \"$([ $? = 0 ] && echo terminal || echo error)\" \"$(history|tail -n1|sed -e \\'\\\\\\'\\'s/^\\\\s*[0-9]\\\\+\\\\s*//;s/[;&|]\\\\s*alert$//\\'\\\\\\'\\')\"\\'\\n\\n# Alias definitions.\\n# You may want to put all your additions into a separate file like\\n# ~/.bash_aliases, instead of adding them here directly.\\n# See /usr/share/doc/bash-doc/examples in the bash-doc package.\\n\\nif [ -f ~/.bash_aliases ]; then\\n    . ~/.bash_aliases\\nfi\\n\\n# enable programmable completion features (you don\\'t need to enable\\n# this, if it\\'s already enabled in /etc/bash.bashrc and /etc/profile\\n# sources /etc/bash.bashrc).\\nif ! shopt -oq posix; then\\n  if [ -f /usr/share/bash-completion/bash_completion ]; then\\n    . /usr/share/bash-completion/bash_completion\\n  elif [ -f /etc/bash_completion ]; then\\n    . /etc/bash_completion\\n  fi\\nfi\\n\\n# >>> conda initialize >>>\\n# !! Contents within this block are managed by \\'conda init\\' !!\\n__conda_setup=\"$(\\'/srv/conda/bin/conda\\' \\'shell.bash\\' \\'hook\\' 2> /dev/null)\"\\nif [ $? -eq 0 ]; then\\n    eval \"$__conda_setup\"\\nelse\\n    if [ -f \"/srv/conda/etc/profile.d/conda.sh\" ]; then\\n        . \"/srv/conda/etc/profile.d/conda.sh\"\\n    else\\n        export PATH=\"/srv/conda/bin:$PATH\"\\n    fi\\nfi\\nunset __conda_setup\\n# <<< conda initialize <<<\\n\\nexport PATH=${PATH}:/home/jovyan/opt/local/bin\\nsource activate stare-1\\n'),\n",
       "  (3,\n",
       "   'read .bashrc',\n",
       "   '# ~/.bashrc: executed by bash(1) for non-login shells.\\n# see /usr/share/doc/bash/examples/startup-files (in the package bash-doc)\\n# for examples\\n\\n# If not running interactively, don\\'t do anything\\ncase $- in\\n    *i*) ;;\\n      *) return;;\\nesac\\n\\n# don\\'t put duplicate lines or lines starting with space in the history.\\n# See bash(1) for more options\\nHISTCONTROL=ignoreboth\\n\\n# append to the history file, don\\'t overwrite it\\nshopt -s histappend\\n\\n# for setting history length see HISTSIZE and HISTFILESIZE in bash(1)\\nHISTSIZE=1000\\nHISTFILESIZE=2000\\n\\n# check the window size after each command and, if necessary,\\n# update the values of LINES and COLUMNS.\\nshopt -s checkwinsize\\n\\n# If set, the pattern \"**\" used in a pathname expansion context will\\n# match all files and zero or more directories and subdirectories.\\n#shopt -s globstar\\n\\n# make less more friendly for non-text input files, see lesspipe(1)\\n[ -x /usr/bin/lesspipe ] && eval \"$(SHELL=/bin/sh lesspipe)\"\\n\\n# set variable identifying the chroot you work in (used in the prompt below)\\nif [ -z \"${debian_chroot:-}\" ] && [ -r /etc/debian_chroot ]; then\\n    debian_chroot=$(cat /etc/debian_chroot)\\nfi\\n\\n# set a fancy prompt (non-color, unless we know we \"want\" color)\\ncase \"$TERM\" in\\n    xterm-color|*-256color) color_prompt=yes;;\\nesac\\n\\n# uncomment for a colored prompt, if the terminal has the capability; turned\\n# off by default to not distract the user: the focus in a terminal window\\n# should be on the output of commands, not on the prompt\\n#force_color_prompt=yes\\n\\nif [ -n \"$force_color_prompt\" ]; then\\n    if [ -x /usr/bin/tput ] && tput setaf 1 >&/dev/null; then\\n\\t# We have color support; assume it\\'s compliant with Ecma-48\\n\\t# (ISO/IEC-6429). (Lack of such support is extremely rare, and such\\n\\t# a case would tend to support setf rather than setaf.)\\n\\tcolor_prompt=yes\\n    else\\n\\tcolor_prompt=\\n    fi\\nfi\\n\\nif [ \"$color_prompt\" = yes ]; then\\n    PS1=\\'${debian_chroot:+($debian_chroot)}\\\\[\\\\033[01;32m\\\\]\\\\u@\\\\h\\\\[\\\\033[00m\\\\]:\\\\[\\\\033[01;34m\\\\]\\\\w\\\\[\\\\033[00m\\\\]\\\\$ \\'\\nelse\\n    PS1=\\'${debian_chroot:+($debian_chroot)}\\\\u@\\\\h:\\\\w\\\\$ \\'\\nfi\\nunset color_prompt force_color_prompt\\n\\n# If this is an xterm set the title to user@host:dir\\ncase \"$TERM\" in\\nxterm*|rxvt*)\\n    PS1=\"\\\\[\\\\e]0;${debian_chroot:+($debian_chroot)}\\\\u@\\\\h: \\\\w\\\\a\\\\]$PS1\"\\n    ;;\\n*)\\n    ;;\\nesac\\n\\n# enable color support of ls and also add handy aliases\\nif [ -x /usr/bin/dircolors ]; then\\n    test -r ~/.dircolors && eval \"$(dircolors -b ~/.dircolors)\" || eval \"$(dircolors -b)\"\\n    alias ls=\\'ls --color=auto\\'\\n    #alias dir=\\'dir --color=auto\\'\\n    #alias vdir=\\'vdir --color=auto\\'\\n\\n    alias grep=\\'grep --color=auto\\'\\n    alias fgrep=\\'fgrep --color=auto\\'\\n    alias egrep=\\'egrep --color=auto\\'\\nfi\\n\\n# colored GCC warnings and errors\\n#export GCC_COLORS=\\'error=01;31:warning=01;35:note=01;36:caret=01;32:locus=01:quote=01\\'\\n\\n# some more ls aliases\\nalias ll=\\'ls -alF\\'\\nalias la=\\'ls -A\\'\\nalias l=\\'ls -CF\\'\\n\\n# Add an \"alert\" alias for long running commands.  Use like so:\\n#   sleep 10; alert\\nalias alert=\\'notify-send --urgency=low -i \"$([ $? = 0 ] && echo terminal || echo error)\" \"$(history|tail -n1|sed -e \\'\\\\\\'\\'s/^\\\\s*[0-9]\\\\+\\\\s*//;s/[;&|]\\\\s*alert$//\\'\\\\\\'\\')\"\\'\\n\\n# Alias definitions.\\n# You may want to put all your additions into a separate file like\\n# ~/.bash_aliases, instead of adding them here directly.\\n# See /usr/share/doc/bash-doc/examples in the bash-doc package.\\n\\nif [ -f ~/.bash_aliases ]; then\\n    . ~/.bash_aliases\\nfi\\n\\n# enable programmable completion features (you don\\'t need to enable\\n# this, if it\\'s already enabled in /etc/bash.bashrc and /etc/profile\\n# sources /etc/bash.bashrc).\\nif ! shopt -oq posix; then\\n  if [ -f /usr/share/bash-completion/bash_completion ]; then\\n    . /usr/share/bash-completion/bash_completion\\n  elif [ -f /etc/bash_completion ]; then\\n    . /etc/bash_completion\\n  fi\\nfi\\n\\n# >>> conda initialize >>>\\n# !! Contents within this block are managed by \\'conda init\\' !!\\n__conda_setup=\"$(\\'/srv/conda/bin/conda\\' \\'shell.bash\\' \\'hook\\' 2> /dev/null)\"\\nif [ $? -eq 0 ]; then\\n    eval \"$__conda_setup\"\\nelse\\n    if [ -f \"/srv/conda/etc/profile.d/conda.sh\" ]; then\\n        . \"/srv/conda/etc/profile.d/conda.sh\"\\n    else\\n        export PATH=\"/srv/conda/bin:$PATH\"\\n    fi\\nfi\\nunset __conda_setup\\n# <<< conda initialize <<<\\n\\nexport PATH=${PATH}:/home/jovyan/opt/local/bin\\nsource activate stare-1\\n'),\n",
       "  (3,\n",
       "   'read .bashrc',\n",
       "   '# ~/.bashrc: executed by bash(1) for non-login shells.\\n# see /usr/share/doc/bash/examples/startup-files (in the package bash-doc)\\n# for examples\\n\\n# If not running interactively, don\\'t do anything\\ncase $- in\\n    *i*) ;;\\n      *) return;;\\nesac\\n\\n# don\\'t put duplicate lines or lines starting with space in the history.\\n# See bash(1) for more options\\nHISTCONTROL=ignoreboth\\n\\n# append to the history file, don\\'t overwrite it\\nshopt -s histappend\\n\\n# for setting history length see HISTSIZE and HISTFILESIZE in bash(1)\\nHISTSIZE=1000\\nHISTFILESIZE=2000\\n\\n# check the window size after each command and, if necessary,\\n# update the values of LINES and COLUMNS.\\nshopt -s checkwinsize\\n\\n# If set, the pattern \"**\" used in a pathname expansion context will\\n# match all files and zero or more directories and subdirectories.\\n#shopt -s globstar\\n\\n# make less more friendly for non-text input files, see lesspipe(1)\\n[ -x /usr/bin/lesspipe ] && eval \"$(SHELL=/bin/sh lesspipe)\"\\n\\n# set variable identifying the chroot you work in (used in the prompt below)\\nif [ -z \"${debian_chroot:-}\" ] && [ -r /etc/debian_chroot ]; then\\n    debian_chroot=$(cat /etc/debian_chroot)\\nfi\\n\\n# set a fancy prompt (non-color, unless we know we \"want\" color)\\ncase \"$TERM\" in\\n    xterm-color|*-256color) color_prompt=yes;;\\nesac\\n\\n# uncomment for a colored prompt, if the terminal has the capability; turned\\n# off by default to not distract the user: the focus in a terminal window\\n# should be on the output of commands, not on the prompt\\n#force_color_prompt=yes\\n\\nif [ -n \"$force_color_prompt\" ]; then\\n    if [ -x /usr/bin/tput ] && tput setaf 1 >&/dev/null; then\\n\\t# We have color support; assume it\\'s compliant with Ecma-48\\n\\t# (ISO/IEC-6429). (Lack of such support is extremely rare, and such\\n\\t# a case would tend to support setf rather than setaf.)\\n\\tcolor_prompt=yes\\n    else\\n\\tcolor_prompt=\\n    fi\\nfi\\n\\nif [ \"$color_prompt\" = yes ]; then\\n    PS1=\\'${debian_chroot:+($debian_chroot)}\\\\[\\\\033[01;32m\\\\]\\\\u@\\\\h\\\\[\\\\033[00m\\\\]:\\\\[\\\\033[01;34m\\\\]\\\\w\\\\[\\\\033[00m\\\\]\\\\$ \\'\\nelse\\n    PS1=\\'${debian_chroot:+($debian_chroot)}\\\\u@\\\\h:\\\\w\\\\$ \\'\\nfi\\nunset color_prompt force_color_prompt\\n\\n# If this is an xterm set the title to user@host:dir\\ncase \"$TERM\" in\\nxterm*|rxvt*)\\n    PS1=\"\\\\[\\\\e]0;${debian_chroot:+($debian_chroot)}\\\\u@\\\\h: \\\\w\\\\a\\\\]$PS1\"\\n    ;;\\n*)\\n    ;;\\nesac\\n\\n# enable color support of ls and also add handy aliases\\nif [ -x /usr/bin/dircolors ]; then\\n    test -r ~/.dircolors && eval \"$(dircolors -b ~/.dircolors)\" || eval \"$(dircolors -b)\"\\n    alias ls=\\'ls --color=auto\\'\\n    #alias dir=\\'dir --color=auto\\'\\n    #alias vdir=\\'vdir --color=auto\\'\\n\\n    alias grep=\\'grep --color=auto\\'\\n    alias fgrep=\\'fgrep --color=auto\\'\\n    alias egrep=\\'egrep --color=auto\\'\\nfi\\n\\n# colored GCC warnings and errors\\n#export GCC_COLORS=\\'error=01;31:warning=01;35:note=01;36:caret=01;32:locus=01:quote=01\\'\\n\\n# some more ls aliases\\nalias ll=\\'ls -alF\\'\\nalias la=\\'ls -A\\'\\nalias l=\\'ls -CF\\'\\n\\n# Add an \"alert\" alias for long running commands.  Use like so:\\n#   sleep 10; alert\\nalias alert=\\'notify-send --urgency=low -i \"$([ $? = 0 ] && echo terminal || echo error)\" \"$(history|tail -n1|sed -e \\'\\\\\\'\\'s/^\\\\s*[0-9]\\\\+\\\\s*//;s/[;&|]\\\\s*alert$//\\'\\\\\\'\\')\"\\'\\n\\n# Alias definitions.\\n# You may want to put all your additions into a separate file like\\n# ~/.bash_aliases, instead of adding them here directly.\\n# See /usr/share/doc/bash-doc/examples in the bash-doc package.\\n\\nif [ -f ~/.bash_aliases ]; then\\n    . ~/.bash_aliases\\nfi\\n\\n# enable programmable completion features (you don\\'t need to enable\\n# this, if it\\'s already enabled in /etc/bash.bashrc and /etc/profile\\n# sources /etc/bash.bashrc).\\nif ! shopt -oq posix; then\\n  if [ -f /usr/share/bash-completion/bash_completion ]; then\\n    . /usr/share/bash-completion/bash_completion\\n  elif [ -f /etc/bash_completion ]; then\\n    . /etc/bash_completion\\n  fi\\nfi\\n\\n# >>> conda initialize >>>\\n# !! Contents within this block are managed by \\'conda init\\' !!\\n__conda_setup=\"$(\\'/srv/conda/bin/conda\\' \\'shell.bash\\' \\'hook\\' 2> /dev/null)\"\\nif [ $? -eq 0 ]; then\\n    eval \"$__conda_setup\"\\nelse\\n    if [ -f \"/srv/conda/etc/profile.d/conda.sh\" ]; then\\n        . \"/srv/conda/etc/profile.d/conda.sh\"\\n    else\\n        export PATH=\"/srv/conda/bin:$PATH\"\\n    fi\\nfi\\nunset __conda_setup\\n# <<< conda initialize <<<\\n\\nexport PATH=${PATH}:/home/jovyan/opt/local/bin\\nsource activate stare-1\\n')],\n",
       " [(3,\n",
       "   'read .bashrc',\n",
       "   '# ~/.bashrc: executed by bash(1) for non-login shells.\\n# see /usr/share/doc/bash/examples/startup-files (in the package bash-doc)\\n# for examples\\n\\n# If not running interactively, don\\'t do anything\\ncase $- in\\n    *i*) ;;\\n      *) return;;\\nesac\\n\\n# don\\'t put duplicate lines or lines starting with space in the history.\\n# See bash(1) for more options\\nHISTCONTROL=ignoreboth\\n\\n# append to the history file, don\\'t overwrite it\\nshopt -s histappend\\n\\n# for setting history length see HISTSIZE and HISTFILESIZE in bash(1)\\nHISTSIZE=1000\\nHISTFILESIZE=2000\\n\\n# check the window size after each command and, if necessary,\\n# update the values of LINES and COLUMNS.\\nshopt -s checkwinsize\\n\\n# If set, the pattern \"**\" used in a pathname expansion context will\\n# match all files and zero or more directories and subdirectories.\\n#shopt -s globstar\\n\\n# make less more friendly for non-text input files, see lesspipe(1)\\n[ -x /usr/bin/lesspipe ] && eval \"$(SHELL=/bin/sh lesspipe)\"\\n\\n# set variable identifying the chroot you work in (used in the prompt below)\\nif [ -z \"${debian_chroot:-}\" ] && [ -r /etc/debian_chroot ]; then\\n    debian_chroot=$(cat /etc/debian_chroot)\\nfi\\n\\n# set a fancy prompt (non-color, unless we know we \"want\" color)\\ncase \"$TERM\" in\\n    xterm-color|*-256color) color_prompt=yes;;\\nesac\\n\\n# uncomment for a colored prompt, if the terminal has the capability; turned\\n# off by default to not distract the user: the focus in a terminal window\\n# should be on the output of commands, not on the prompt\\n#force_color_prompt=yes\\n\\nif [ -n \"$force_color_prompt\" ]; then\\n    if [ -x /usr/bin/tput ] && tput setaf 1 >&/dev/null; then\\n\\t# We have color support; assume it\\'s compliant with Ecma-48\\n\\t# (ISO/IEC-6429). (Lack of such support is extremely rare, and such\\n\\t# a case would tend to support setf rather than setaf.)\\n\\tcolor_prompt=yes\\n    else\\n\\tcolor_prompt=\\n    fi\\nfi\\n\\nif [ \"$color_prompt\" = yes ]; then\\n    PS1=\\'${debian_chroot:+($debian_chroot)}\\\\[\\\\033[01;32m\\\\]\\\\u@\\\\h\\\\[\\\\033[00m\\\\]:\\\\[\\\\033[01;34m\\\\]\\\\w\\\\[\\\\033[00m\\\\]\\\\$ \\'\\nelse\\n    PS1=\\'${debian_chroot:+($debian_chroot)}\\\\u@\\\\h:\\\\w\\\\$ \\'\\nfi\\nunset color_prompt force_color_prompt\\n\\n# If this is an xterm set the title to user@host:dir\\ncase \"$TERM\" in\\nxterm*|rxvt*)\\n    PS1=\"\\\\[\\\\e]0;${debian_chroot:+($debian_chroot)}\\\\u@\\\\h: \\\\w\\\\a\\\\]$PS1\"\\n    ;;\\n*)\\n    ;;\\nesac\\n\\n# enable color support of ls and also add handy aliases\\nif [ -x /usr/bin/dircolors ]; then\\n    test -r ~/.dircolors && eval \"$(dircolors -b ~/.dircolors)\" || eval \"$(dircolors -b)\"\\n    alias ls=\\'ls --color=auto\\'\\n    #alias dir=\\'dir --color=auto\\'\\n    #alias vdir=\\'vdir --color=auto\\'\\n\\n    alias grep=\\'grep --color=auto\\'\\n    alias fgrep=\\'fgrep --color=auto\\'\\n    alias egrep=\\'egrep --color=auto\\'\\nfi\\n\\n# colored GCC warnings and errors\\n#export GCC_COLORS=\\'error=01;31:warning=01;35:note=01;36:caret=01;32:locus=01:quote=01\\'\\n\\n# some more ls aliases\\nalias ll=\\'ls -alF\\'\\nalias la=\\'ls -A\\'\\nalias l=\\'ls -CF\\'\\n\\n# Add an \"alert\" alias for long running commands.  Use like so:\\n#   sleep 10; alert\\nalias alert=\\'notify-send --urgency=low -i \"$([ $? = 0 ] && echo terminal || echo error)\" \"$(history|tail -n1|sed -e \\'\\\\\\'\\'s/^\\\\s*[0-9]\\\\+\\\\s*//;s/[;&|]\\\\s*alert$//\\'\\\\\\'\\')\"\\'\\n\\n# Alias definitions.\\n# You may want to put all your additions into a separate file like\\n# ~/.bash_aliases, instead of adding them here directly.\\n# See /usr/share/doc/bash-doc/examples in the bash-doc package.\\n\\nif [ -f ~/.bash_aliases ]; then\\n    . ~/.bash_aliases\\nfi\\n\\n# enable programmable completion features (you don\\'t need to enable\\n# this, if it\\'s already enabled in /etc/bash.bashrc and /etc/profile\\n# sources /etc/bash.bashrc).\\nif ! shopt -oq posix; then\\n  if [ -f /usr/share/bash-completion/bash_completion ]; then\\n    . /usr/share/bash-completion/bash_completion\\n  elif [ -f /etc/bash_completion ]; then\\n    . /etc/bash_completion\\n  fi\\nfi\\n\\n# >>> conda initialize >>>\\n# !! Contents within this block are managed by \\'conda init\\' !!\\n__conda_setup=\"$(\\'/srv/conda/bin/conda\\' \\'shell.bash\\' \\'hook\\' 2> /dev/null)\"\\nif [ $? -eq 0 ]; then\\n    eval \"$__conda_setup\"\\nelse\\n    if [ -f \"/srv/conda/etc/profile.d/conda.sh\" ]; then\\n        . \"/srv/conda/etc/profile.d/conda.sh\"\\n    else\\n        export PATH=\"/srv/conda/bin:$PATH\"\\n    fi\\nfi\\nunset __conda_setup\\n# <<< conda initialize <<<\\n\\nexport PATH=${PATH}:/home/jovyan/opt/local/bin\\nsource activate stare-1\\n'),\n",
       "  (3,\n",
       "   'read .bashrc',\n",
       "   '# ~/.bashrc: executed by bash(1) for non-login shells.\\n# see /usr/share/doc/bash/examples/startup-files (in the package bash-doc)\\n# for examples\\n\\n# If not running interactively, don\\'t do anything\\ncase $- in\\n    *i*) ;;\\n      *) return;;\\nesac\\n\\n# don\\'t put duplicate lines or lines starting with space in the history.\\n# See bash(1) for more options\\nHISTCONTROL=ignoreboth\\n\\n# append to the history file, don\\'t overwrite it\\nshopt -s histappend\\n\\n# for setting history length see HISTSIZE and HISTFILESIZE in bash(1)\\nHISTSIZE=1000\\nHISTFILESIZE=2000\\n\\n# check the window size after each command and, if necessary,\\n# update the values of LINES and COLUMNS.\\nshopt -s checkwinsize\\n\\n# If set, the pattern \"**\" used in a pathname expansion context will\\n# match all files and zero or more directories and subdirectories.\\n#shopt -s globstar\\n\\n# make less more friendly for non-text input files, see lesspipe(1)\\n[ -x /usr/bin/lesspipe ] && eval \"$(SHELL=/bin/sh lesspipe)\"\\n\\n# set variable identifying the chroot you work in (used in the prompt below)\\nif [ -z \"${debian_chroot:-}\" ] && [ -r /etc/debian_chroot ]; then\\n    debian_chroot=$(cat /etc/debian_chroot)\\nfi\\n\\n# set a fancy prompt (non-color, unless we know we \"want\" color)\\ncase \"$TERM\" in\\n    xterm-color|*-256color) color_prompt=yes;;\\nesac\\n\\n# uncomment for a colored prompt, if the terminal has the capability; turned\\n# off by default to not distract the user: the focus in a terminal window\\n# should be on the output of commands, not on the prompt\\n#force_color_prompt=yes\\n\\nif [ -n \"$force_color_prompt\" ]; then\\n    if [ -x /usr/bin/tput ] && tput setaf 1 >&/dev/null; then\\n\\t# We have color support; assume it\\'s compliant with Ecma-48\\n\\t# (ISO/IEC-6429). (Lack of such support is extremely rare, and such\\n\\t# a case would tend to support setf rather than setaf.)\\n\\tcolor_prompt=yes\\n    else\\n\\tcolor_prompt=\\n    fi\\nfi\\n\\nif [ \"$color_prompt\" = yes ]; then\\n    PS1=\\'${debian_chroot:+($debian_chroot)}\\\\[\\\\033[01;32m\\\\]\\\\u@\\\\h\\\\[\\\\033[00m\\\\]:\\\\[\\\\033[01;34m\\\\]\\\\w\\\\[\\\\033[00m\\\\]\\\\$ \\'\\nelse\\n    PS1=\\'${debian_chroot:+($debian_chroot)}\\\\u@\\\\h:\\\\w\\\\$ \\'\\nfi\\nunset color_prompt force_color_prompt\\n\\n# If this is an xterm set the title to user@host:dir\\ncase \"$TERM\" in\\nxterm*|rxvt*)\\n    PS1=\"\\\\[\\\\e]0;${debian_chroot:+($debian_chroot)}\\\\u@\\\\h: \\\\w\\\\a\\\\]$PS1\"\\n    ;;\\n*)\\n    ;;\\nesac\\n\\n# enable color support of ls and also add handy aliases\\nif [ -x /usr/bin/dircolors ]; then\\n    test -r ~/.dircolors && eval \"$(dircolors -b ~/.dircolors)\" || eval \"$(dircolors -b)\"\\n    alias ls=\\'ls --color=auto\\'\\n    #alias dir=\\'dir --color=auto\\'\\n    #alias vdir=\\'vdir --color=auto\\'\\n\\n    alias grep=\\'grep --color=auto\\'\\n    alias fgrep=\\'fgrep --color=auto\\'\\n    alias egrep=\\'egrep --color=auto\\'\\nfi\\n\\n# colored GCC warnings and errors\\n#export GCC_COLORS=\\'error=01;31:warning=01;35:note=01;36:caret=01;32:locus=01:quote=01\\'\\n\\n# some more ls aliases\\nalias ll=\\'ls -alF\\'\\nalias la=\\'ls -A\\'\\nalias l=\\'ls -CF\\'\\n\\n# Add an \"alert\" alias for long running commands.  Use like so:\\n#   sleep 10; alert\\nalias alert=\\'notify-send --urgency=low -i \"$([ $? = 0 ] && echo terminal || echo error)\" \"$(history|tail -n1|sed -e \\'\\\\\\'\\'s/^\\\\s*[0-9]\\\\+\\\\s*//;s/[;&|]\\\\s*alert$//\\'\\\\\\'\\')\"\\'\\n\\n# Alias definitions.\\n# You may want to put all your additions into a separate file like\\n# ~/.bash_aliases, instead of adding them here directly.\\n# See /usr/share/doc/bash-doc/examples in the bash-doc package.\\n\\nif [ -f ~/.bash_aliases ]; then\\n    . ~/.bash_aliases\\nfi\\n\\n# enable programmable completion features (you don\\'t need to enable\\n# this, if it\\'s already enabled in /etc/bash.bashrc and /etc/profile\\n# sources /etc/bash.bashrc).\\nif ! shopt -oq posix; then\\n  if [ -f /usr/share/bash-completion/bash_completion ]; then\\n    . /usr/share/bash-completion/bash_completion\\n  elif [ -f /etc/bash_completion ]; then\\n    . /etc/bash_completion\\n  fi\\nfi\\n\\n# >>> conda initialize >>>\\n# !! Contents within this block are managed by \\'conda init\\' !!\\n__conda_setup=\"$(\\'/srv/conda/bin/conda\\' \\'shell.bash\\' \\'hook\\' 2> /dev/null)\"\\nif [ $? -eq 0 ]; then\\n    eval \"$__conda_setup\"\\nelse\\n    if [ -f \"/srv/conda/etc/profile.d/conda.sh\" ]; then\\n        . \"/srv/conda/etc/profile.d/conda.sh\"\\n    else\\n        export PATH=\"/srv/conda/bin:$PATH\"\\n    fi\\nfi\\nunset __conda_setup\\n# <<< conda initialize <<<\\n\\nexport PATH=${PATH}:/home/jovyan/opt/local/bin\\nsource activate stare-1\\n'),\n",
       "  (3,\n",
       "   'read .bashrc',\n",
       "   '# ~/.bashrc: executed by bash(1) for non-login shells.\\n# see /usr/share/doc/bash/examples/startup-files (in the package bash-doc)\\n# for examples\\n\\n# If not running interactively, don\\'t do anything\\ncase $- in\\n    *i*) ;;\\n      *) return;;\\nesac\\n\\n# don\\'t put duplicate lines or lines starting with space in the history.\\n# See bash(1) for more options\\nHISTCONTROL=ignoreboth\\n\\n# append to the history file, don\\'t overwrite it\\nshopt -s histappend\\n\\n# for setting history length see HISTSIZE and HISTFILESIZE in bash(1)\\nHISTSIZE=1000\\nHISTFILESIZE=2000\\n\\n# check the window size after each command and, if necessary,\\n# update the values of LINES and COLUMNS.\\nshopt -s checkwinsize\\n\\n# If set, the pattern \"**\" used in a pathname expansion context will\\n# match all files and zero or more directories and subdirectories.\\n#shopt -s globstar\\n\\n# make less more friendly for non-text input files, see lesspipe(1)\\n[ -x /usr/bin/lesspipe ] && eval \"$(SHELL=/bin/sh lesspipe)\"\\n\\n# set variable identifying the chroot you work in (used in the prompt below)\\nif [ -z \"${debian_chroot:-}\" ] && [ -r /etc/debian_chroot ]; then\\n    debian_chroot=$(cat /etc/debian_chroot)\\nfi\\n\\n# set a fancy prompt (non-color, unless we know we \"want\" color)\\ncase \"$TERM\" in\\n    xterm-color|*-256color) color_prompt=yes;;\\nesac\\n\\n# uncomment for a colored prompt, if the terminal has the capability; turned\\n# off by default to not distract the user: the focus in a terminal window\\n# should be on the output of commands, not on the prompt\\n#force_color_prompt=yes\\n\\nif [ -n \"$force_color_prompt\" ]; then\\n    if [ -x /usr/bin/tput ] && tput setaf 1 >&/dev/null; then\\n\\t# We have color support; assume it\\'s compliant with Ecma-48\\n\\t# (ISO/IEC-6429). (Lack of such support is extremely rare, and such\\n\\t# a case would tend to support setf rather than setaf.)\\n\\tcolor_prompt=yes\\n    else\\n\\tcolor_prompt=\\n    fi\\nfi\\n\\nif [ \"$color_prompt\" = yes ]; then\\n    PS1=\\'${debian_chroot:+($debian_chroot)}\\\\[\\\\033[01;32m\\\\]\\\\u@\\\\h\\\\[\\\\033[00m\\\\]:\\\\[\\\\033[01;34m\\\\]\\\\w\\\\[\\\\033[00m\\\\]\\\\$ \\'\\nelse\\n    PS1=\\'${debian_chroot:+($debian_chroot)}\\\\u@\\\\h:\\\\w\\\\$ \\'\\nfi\\nunset color_prompt force_color_prompt\\n\\n# If this is an xterm set the title to user@host:dir\\ncase \"$TERM\" in\\nxterm*|rxvt*)\\n    PS1=\"\\\\[\\\\e]0;${debian_chroot:+($debian_chroot)}\\\\u@\\\\h: \\\\w\\\\a\\\\]$PS1\"\\n    ;;\\n*)\\n    ;;\\nesac\\n\\n# enable color support of ls and also add handy aliases\\nif [ -x /usr/bin/dircolors ]; then\\n    test -r ~/.dircolors && eval \"$(dircolors -b ~/.dircolors)\" || eval \"$(dircolors -b)\"\\n    alias ls=\\'ls --color=auto\\'\\n    #alias dir=\\'dir --color=auto\\'\\n    #alias vdir=\\'vdir --color=auto\\'\\n\\n    alias grep=\\'grep --color=auto\\'\\n    alias fgrep=\\'fgrep --color=auto\\'\\n    alias egrep=\\'egrep --color=auto\\'\\nfi\\n\\n# colored GCC warnings and errors\\n#export GCC_COLORS=\\'error=01;31:warning=01;35:note=01;36:caret=01;32:locus=01:quote=01\\'\\n\\n# some more ls aliases\\nalias ll=\\'ls -alF\\'\\nalias la=\\'ls -A\\'\\nalias l=\\'ls -CF\\'\\n\\n# Add an \"alert\" alias for long running commands.  Use like so:\\n#   sleep 10; alert\\nalias alert=\\'notify-send --urgency=low -i \"$([ $? = 0 ] && echo terminal || echo error)\" \"$(history|tail -n1|sed -e \\'\\\\\\'\\'s/^\\\\s*[0-9]\\\\+\\\\s*//;s/[;&|]\\\\s*alert$//\\'\\\\\\'\\')\"\\'\\n\\n# Alias definitions.\\n# You may want to put all your additions into a separate file like\\n# ~/.bash_aliases, instead of adding them here directly.\\n# See /usr/share/doc/bash-doc/examples in the bash-doc package.\\n\\nif [ -f ~/.bash_aliases ]; then\\n    . ~/.bash_aliases\\nfi\\n\\n# enable programmable completion features (you don\\'t need to enable\\n# this, if it\\'s already enabled in /etc/bash.bashrc and /etc/profile\\n# sources /etc/bash.bashrc).\\nif ! shopt -oq posix; then\\n  if [ -f /usr/share/bash-completion/bash_completion ]; then\\n    . /usr/share/bash-completion/bash_completion\\n  elif [ -f /etc/bash_completion ]; then\\n    . /etc/bash_completion\\n  fi\\nfi\\n\\n# >>> conda initialize >>>\\n# !! Contents within this block are managed by \\'conda init\\' !!\\n__conda_setup=\"$(\\'/srv/conda/bin/conda\\' \\'shell.bash\\' \\'hook\\' 2> /dev/null)\"\\nif [ $? -eq 0 ]; then\\n    eval \"$__conda_setup\"\\nelse\\n    if [ -f \"/srv/conda/etc/profile.d/conda.sh\" ]; then\\n        . \"/srv/conda/etc/profile.d/conda.sh\"\\n    else\\n        export PATH=\"/srv/conda/bin:$PATH\"\\n    fi\\nfi\\nunset __conda_setup\\n# <<< conda initialize <<<\\n\\nexport PATH=${PATH}:/home/jovyan/opt/local/bin\\nsource activate stare-1\\n'),\n",
       "  (3,\n",
       "   'read .bashrc',\n",
       "   '# ~/.bashrc: executed by bash(1) for non-login shells.\\n# see /usr/share/doc/bash/examples/startup-files (in the package bash-doc)\\n# for examples\\n\\n# If not running interactively, don\\'t do anything\\ncase $- in\\n    *i*) ;;\\n      *) return;;\\nesac\\n\\n# don\\'t put duplicate lines or lines starting with space in the history.\\n# See bash(1) for more options\\nHISTCONTROL=ignoreboth\\n\\n# append to the history file, don\\'t overwrite it\\nshopt -s histappend\\n\\n# for setting history length see HISTSIZE and HISTFILESIZE in bash(1)\\nHISTSIZE=1000\\nHISTFILESIZE=2000\\n\\n# check the window size after each command and, if necessary,\\n# update the values of LINES and COLUMNS.\\nshopt -s checkwinsize\\n\\n# If set, the pattern \"**\" used in a pathname expansion context will\\n# match all files and zero or more directories and subdirectories.\\n#shopt -s globstar\\n\\n# make less more friendly for non-text input files, see lesspipe(1)\\n[ -x /usr/bin/lesspipe ] && eval \"$(SHELL=/bin/sh lesspipe)\"\\n\\n# set variable identifying the chroot you work in (used in the prompt below)\\nif [ -z \"${debian_chroot:-}\" ] && [ -r /etc/debian_chroot ]; then\\n    debian_chroot=$(cat /etc/debian_chroot)\\nfi\\n\\n# set a fancy prompt (non-color, unless we know we \"want\" color)\\ncase \"$TERM\" in\\n    xterm-color|*-256color) color_prompt=yes;;\\nesac\\n\\n# uncomment for a colored prompt, if the terminal has the capability; turned\\n# off by default to not distract the user: the focus in a terminal window\\n# should be on the output of commands, not on the prompt\\n#force_color_prompt=yes\\n\\nif [ -n \"$force_color_prompt\" ]; then\\n    if [ -x /usr/bin/tput ] && tput setaf 1 >&/dev/null; then\\n\\t# We have color support; assume it\\'s compliant with Ecma-48\\n\\t# (ISO/IEC-6429). (Lack of such support is extremely rare, and such\\n\\t# a case would tend to support setf rather than setaf.)\\n\\tcolor_prompt=yes\\n    else\\n\\tcolor_prompt=\\n    fi\\nfi\\n\\nif [ \"$color_prompt\" = yes ]; then\\n    PS1=\\'${debian_chroot:+($debian_chroot)}\\\\[\\\\033[01;32m\\\\]\\\\u@\\\\h\\\\[\\\\033[00m\\\\]:\\\\[\\\\033[01;34m\\\\]\\\\w\\\\[\\\\033[00m\\\\]\\\\$ \\'\\nelse\\n    PS1=\\'${debian_chroot:+($debian_chroot)}\\\\u@\\\\h:\\\\w\\\\$ \\'\\nfi\\nunset color_prompt force_color_prompt\\n\\n# If this is an xterm set the title to user@host:dir\\ncase \"$TERM\" in\\nxterm*|rxvt*)\\n    PS1=\"\\\\[\\\\e]0;${debian_chroot:+($debian_chroot)}\\\\u@\\\\h: \\\\w\\\\a\\\\]$PS1\"\\n    ;;\\n*)\\n    ;;\\nesac\\n\\n# enable color support of ls and also add handy aliases\\nif [ -x /usr/bin/dircolors ]; then\\n    test -r ~/.dircolors && eval \"$(dircolors -b ~/.dircolors)\" || eval \"$(dircolors -b)\"\\n    alias ls=\\'ls --color=auto\\'\\n    #alias dir=\\'dir --color=auto\\'\\n    #alias vdir=\\'vdir --color=auto\\'\\n\\n    alias grep=\\'grep --color=auto\\'\\n    alias fgrep=\\'fgrep --color=auto\\'\\n    alias egrep=\\'egrep --color=auto\\'\\nfi\\n\\n# colored GCC warnings and errors\\n#export GCC_COLORS=\\'error=01;31:warning=01;35:note=01;36:caret=01;32:locus=01:quote=01\\'\\n\\n# some more ls aliases\\nalias ll=\\'ls -alF\\'\\nalias la=\\'ls -A\\'\\nalias l=\\'ls -CF\\'\\n\\n# Add an \"alert\" alias for long running commands.  Use like so:\\n#   sleep 10; alert\\nalias alert=\\'notify-send --urgency=low -i \"$([ $? = 0 ] && echo terminal || echo error)\" \"$(history|tail -n1|sed -e \\'\\\\\\'\\'s/^\\\\s*[0-9]\\\\+\\\\s*//;s/[;&|]\\\\s*alert$//\\'\\\\\\'\\')\"\\'\\n\\n# Alias definitions.\\n# You may want to put all your additions into a separate file like\\n# ~/.bash_aliases, instead of adding them here directly.\\n# See /usr/share/doc/bash-doc/examples in the bash-doc package.\\n\\nif [ -f ~/.bash_aliases ]; then\\n    . ~/.bash_aliases\\nfi\\n\\n# enable programmable completion features (you don\\'t need to enable\\n# this, if it\\'s already enabled in /etc/bash.bashrc and /etc/profile\\n# sources /etc/bash.bashrc).\\nif ! shopt -oq posix; then\\n  if [ -f /usr/share/bash-completion/bash_completion ]; then\\n    . /usr/share/bash-completion/bash_completion\\n  elif [ -f /etc/bash_completion ]; then\\n    . /etc/bash_completion\\n  fi\\nfi\\n\\n# >>> conda initialize >>>\\n# !! Contents within this block are managed by \\'conda init\\' !!\\n__conda_setup=\"$(\\'/srv/conda/bin/conda\\' \\'shell.bash\\' \\'hook\\' 2> /dev/null)\"\\nif [ $? -eq 0 ]; then\\n    eval \"$__conda_setup\"\\nelse\\n    if [ -f \"/srv/conda/etc/profile.d/conda.sh\" ]; then\\n        . \"/srv/conda/etc/profile.d/conda.sh\"\\n    else\\n        export PATH=\"/srv/conda/bin:$PATH\"\\n    fi\\nfi\\nunset __conda_setup\\n# <<< conda initialize <<<\\n\\nexport PATH=${PATH}:/home/jovyan/opt/local/bin\\nsource activate stare-1\\n')]]"
      ]
     },
     "execution_count": 41,
     "metadata": {},
     "output_type": "execute_result"
    }
   ],
   "source": [
    "client.gather(results)\n",
    "# print(results[0].result()[0][2])"
   ]
  },
  {
   "cell_type": "code",
   "execution_count": 8,
   "metadata": {},
   "outputs": [],
   "source": [
    "cluster.shutdown()"
   ]
  },
  {
   "cell_type": "code",
   "execution_count": 9,
   "metadata": {},
   "outputs": [],
   "source": [
    "cluster.close()"
   ]
  },
  {
   "cell_type": "code",
   "execution_count": 30,
   "metadata": {},
   "outputs": [
    {
     "data": {
      "text/plain": [
       "[ClusterReport<name=daskhub.b2d9f9ce32914d2f9cf4af83932d3f66, status=RUNNING>,\n",
       " ClusterReport<name=daskhub.b7c48cdfbb234366a318f580154f05a6, status=RUNNING>]"
      ]
     },
     "execution_count": 30,
     "metadata": {},
     "output_type": "execute_result"
    }
   ],
   "source": [
    "gateway.list_clusters()"
   ]
  },
  {
   "cell_type": "code",
   "execution_count": 32,
   "metadata": {},
   "outputs": [
    {
     "data": {
      "text/plain": [
       "[ClusterReport<name=daskhub.b2d9f9ce32914d2f9cf4af83932d3f66, status=RUNNING>,\n",
       " ClusterReport<name=daskhub.b7c48cdfbb234366a318f580154f05a6, status=RUNNING>]"
      ]
     },
     "execution_count": 32,
     "metadata": {},
     "output_type": "execute_result"
    }
   ],
   "source": [
    "clusters\n"
   ]
  },
  {
   "cell_type": "code",
   "execution_count": 35,
   "metadata": {},
   "outputs": [
    {
     "name": "stdout",
     "output_type": "stream",
     "text": [
      "ClusterReport<name=daskhub.b2d9f9ce32914d2f9cf4af83932d3f66, status=RUNNING>\n",
      "ClusterReport<name=daskhub.b7c48cdfbb234366a318f580154f05a6, status=RUNNING>\n"
     ]
    },
    {
     "name": "stderr",
     "output_type": "stream",
     "text": [
      "Exception in callback None()\n",
      "handle: <Handle cancelled>\n",
      "Traceback (most recent call last):\n",
      "  File \"/home/jovyan/users_conda_envs/stare-1/lib/python3.7/site-packages/tornado/iostream.py\", line 1417, in _do_ssl_handshake\n",
      "    self.socket.do_handshake()\n",
      "  File \"/home/jovyan/users_conda_envs/stare-1/lib/python3.7/ssl.py\", line 1139, in do_handshake\n",
      "    self._sslobj.do_handshake()\n",
      "OSError: [Errno 0] Error\n",
      "\n",
      "During handling of the above exception, another exception occurred:\n",
      "\n",
      "Traceback (most recent call last):\n",
      "  File \"/home/jovyan/users_conda_envs/stare-1/lib/python3.7/site-packages/tornado/iostream.py\", line 711, in _handle_events\n",
      "    self._handle_read()\n",
      "  File \"/home/jovyan/users_conda_envs/stare-1/lib/python3.7/site-packages/tornado/iostream.py\", line 1498, in _handle_read\n",
      "    self._do_ssl_handshake()\n",
      "  File \"/home/jovyan/users_conda_envs/stare-1/lib/python3.7/site-packages/tornado/iostream.py\", line 1449, in _do_ssl_handshake\n",
      "    return self.close(exc_info=err)\n",
      "  File \"/home/jovyan/users_conda_envs/stare-1/lib/python3.7/site-packages/tornado/iostream.py\", line 626, in close\n",
      "    self._signal_closed()\n",
      "  File \"/home/jovyan/users_conda_envs/stare-1/lib/python3.7/site-packages/tornado/iostream.py\", line 656, in _signal_closed\n",
      "    self._ssl_connect_future.exception()\n",
      "concurrent.futures._base.CancelledError\n",
      "\n",
      "During handling of the above exception, another exception occurred:\n",
      "\n",
      "Traceback (most recent call last):\n",
      "  File \"/home/jovyan/users_conda_envs/stare-1/lib/python3.7/asyncio/events.py\", line 88, in _run\n",
      "    self._context.run(self._callback, *self._args)\n",
      "  File \"/home/jovyan/users_conda_envs/stare-1/lib/python3.7/site-packages/tornado/platform/asyncio.py\", line 139, in _handle_events\n",
      "    handler_func(fileobj, events)\n",
      "  File \"/home/jovyan/users_conda_envs/stare-1/lib/python3.7/site-packages/tornado/iostream.py\", line 747, in _handle_events\n",
      "    self.close(exc_info=e)\n",
      "  File \"/home/jovyan/users_conda_envs/stare-1/lib/python3.7/site-packages/tornado/iostream.py\", line 626, in close\n",
      "    self._signal_closed()\n",
      "  File \"/home/jovyan/users_conda_envs/stare-1/lib/python3.7/site-packages/tornado/iostream.py\", line 656, in _signal_closed\n",
      "    self._ssl_connect_future.exception()\n",
      "concurrent.futures._base.CancelledError\n",
      "distributed.client - ERROR - Failed to reconnect to scheduler after 10.00 seconds, closing client\n",
      "distributed.client - ERROR - Failed to reconnect to scheduler after 10.00 seconds, closing client\n",
      "_GatheringFuture exception was never retrieved\n",
      "future: <_GatheringFuture finished exception=CancelledError()>\n",
      "concurrent.futures._base.CancelledError\n",
      "_GatheringFuture exception was never retrieved\n",
      "future: <_GatheringFuture finished exception=CancelledError()>\n",
      "concurrent.futures._base.CancelledError\n"
     ]
    }
   ],
   "source": [
    "for i in clusters:\n",
    "    print(i); cluster = gateway.connect(i.name); cluster.shutdown()"
   ]
  },
  {
   "cell_type": "code",
   "execution_count": 43,
   "metadata": {},
   "outputs": [],
   "source": [
    "cluster = gateway.connect(clusters[0].name)"
   ]
  },
  {
   "cell_type": "code",
   "execution_count": 44,
   "metadata": {},
   "outputs": [],
   "source": [
    "cluster.shutdown(); cluster.close()"
   ]
  },
  {
   "cell_type": "code",
   "execution_count": 10,
   "metadata": {},
   "outputs": [],
   "source": [
    "gateway.close()"
   ]
  },
  {
   "cell_type": "code",
   "execution_count": 45,
   "metadata": {},
   "outputs": [
    {
     "data": {
      "text/plain": [
       "[]"
      ]
     },
     "execution_count": 45,
     "metadata": {},
     "output_type": "execute_result"
    },
    {
     "name": "stderr",
     "output_type": "stream",
     "text": [
      "distributed.client - ERROR - Failed to reconnect to scheduler after 10.00 seconds, closing client\n",
      "_GatheringFuture exception was never retrieved\n",
      "future: <_GatheringFuture finished exception=CancelledError()>\n",
      "concurrent.futures._base.CancelledError\n",
      "Exception in callback None()\n",
      "handle: <Handle cancelled>\n",
      "Traceback (most recent call last):\n",
      "  File \"/home/jovyan/users_conda_envs/stare-1/lib/python3.7/site-packages/tornado/iostream.py\", line 1417, in _do_ssl_handshake\n",
      "    self.socket.do_handshake()\n",
      "  File \"/home/jovyan/users_conda_envs/stare-1/lib/python3.7/ssl.py\", line 1139, in do_handshake\n",
      "    self._sslobj.do_handshake()\n",
      "OSError: [Errno 0] Error\n",
      "\n",
      "During handling of the above exception, another exception occurred:\n",
      "\n",
      "Traceback (most recent call last):\n",
      "  File \"/home/jovyan/users_conda_envs/stare-1/lib/python3.7/site-packages/tornado/iostream.py\", line 711, in _handle_events\n",
      "    self._handle_read()\n",
      "  File \"/home/jovyan/users_conda_envs/stare-1/lib/python3.7/site-packages/tornado/iostream.py\", line 1498, in _handle_read\n",
      "    self._do_ssl_handshake()\n",
      "  File \"/home/jovyan/users_conda_envs/stare-1/lib/python3.7/site-packages/tornado/iostream.py\", line 1449, in _do_ssl_handshake\n",
      "    return self.close(exc_info=err)\n",
      "  File \"/home/jovyan/users_conda_envs/stare-1/lib/python3.7/site-packages/tornado/iostream.py\", line 626, in close\n",
      "    self._signal_closed()\n",
      "  File \"/home/jovyan/users_conda_envs/stare-1/lib/python3.7/site-packages/tornado/iostream.py\", line 656, in _signal_closed\n",
      "    self._ssl_connect_future.exception()\n",
      "concurrent.futures._base.CancelledError\n",
      "\n",
      "During handling of the above exception, another exception occurred:\n",
      "\n",
      "Traceback (most recent call last):\n",
      "  File \"/home/jovyan/users_conda_envs/stare-1/lib/python3.7/asyncio/events.py\", line 88, in _run\n",
      "    self._context.run(self._callback, *self._args)\n",
      "  File \"/home/jovyan/users_conda_envs/stare-1/lib/python3.7/site-packages/tornado/platform/asyncio.py\", line 139, in _handle_events\n",
      "    handler_func(fileobj, events)\n",
      "  File \"/home/jovyan/users_conda_envs/stare-1/lib/python3.7/site-packages/tornado/iostream.py\", line 747, in _handle_events\n",
      "    self.close(exc_info=e)\n",
      "  File \"/home/jovyan/users_conda_envs/stare-1/lib/python3.7/site-packages/tornado/iostream.py\", line 626, in close\n",
      "    self._signal_closed()\n",
      "  File \"/home/jovyan/users_conda_envs/stare-1/lib/python3.7/site-packages/tornado/iostream.py\", line 656, in _signal_closed\n",
      "    self._ssl_connect_future.exception()\n",
      "concurrent.futures._base.CancelledError\n"
     ]
    }
   ],
   "source": [
    "gateway.list_clusters()"
   ]
  },
  {
   "cell_type": "code",
   "execution_count": null,
   "metadata": {},
   "outputs": [],
   "source": [
    "gateway"
   ]
  }
 ],
 "metadata": {
  "kernelspec": {
   "display_name": "Python [conda env:stare-1]",
   "language": "python",
   "name": "conda-env-stare-1-py"
  },
  "language_info": {
   "codemirror_mode": {
    "name": "ipython",
    "version": 3
   },
   "file_extension": ".py",
   "mimetype": "text/x-python",
   "name": "python",
   "nbconvert_exporter": "python",
   "pygments_lexer": "ipython3",
   "version": "3.7.8"
  }
 },
 "nbformat": 4,
 "nbformat_minor": 4
}
