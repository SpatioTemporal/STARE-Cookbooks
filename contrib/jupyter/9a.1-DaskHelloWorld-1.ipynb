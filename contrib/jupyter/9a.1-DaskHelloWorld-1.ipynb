{
 "cells": [
  {
   "cell_type": "code",
   "execution_count": 1,
   "metadata": {},
   "outputs": [],
   "source": [
    "from dask_gateway import Gateway\n",
    "from dask_gateway import GatewayCluster\n",
    "from dask.distributed import Client\n",
    "\n",
    "import socket\n",
    "import pprint\n",
    "import numpy\n",
    "import pystare\n",
    "\n",
    "import os\n",
    "import sys\n",
    "\n",
    "import boto3"
   ]
  },
  {
   "cell_type": "code",
   "execution_count": 23,
   "metadata": {},
   "outputs": [],
   "source": [
    "def get_s3_keys(bucket, s3_client, prefix = ''):\n",
    "    \"\"\"\n",
    "    Generate the keys in an S3 bucket.\n",
    "\n",
    "    :param bucket: Name of the S3 bucket.\n",
    "    :param prefix: Only fetch keys that start with this prefix (optional).\n",
    "    \"\"\"\n",
    "    \n",
    "    kwargs = {'Bucket': bucket}\n",
    "\n",
    "    if isinstance(prefix, str):\n",
    "        kwargs['Prefix'] = prefix\n",
    "\n",
    "    done = False\n",
    "    while not done:\n",
    "        resp = s3_client.list_objects_v2(**kwargs)\n",
    "        try:\n",
    "            for obj in resp['Contents']:\n",
    "                key = obj['Key']\n",
    "                if key.startswith(prefix):\n",
    "                    # print('key: ',key)\n",
    "                    yield key\n",
    "        except KeyError:\n",
    "            print('Empty response from s3 for bucket %s with prefix %s'%(bucket,prefix))\n",
    "            break\n",
    "\n",
    "        try:\n",
    "            kwargs['ContinuationToken'] = resp['NextContinuationToken']\n",
    "        except KeyError:\n",
    "            break\n",
    "            \n"
   ]
  },
  {
   "cell_type": "code",
   "execution_count": 2,
   "metadata": {},
   "outputs": [
    {
     "data": {
      "text/plain": [
       "Gateway<http://10.100.222.95:8000/services/dask-gateway>"
      ]
     },
     "execution_count": 2,
     "metadata": {},
     "output_type": "execute_result"
    }
   ],
   "source": [
    "gateway = Gateway(); gateway"
   ]
  },
  {
   "cell_type": "code",
   "execution_count": 7,
   "metadata": {},
   "outputs": [],
   "source": [
    "# gateway.close()"
   ]
  },
  {
   "cell_type": "code",
   "execution_count": null,
   "metadata": {},
   "outputs": [],
   "source": [
    "# rezuma/jh:smce-mike-03"
   ]
  },
  {
   "cell_type": "code",
   "execution_count": 3,
   "metadata": {},
   "outputs": [
    {
     "data": {
      "application/vnd.jupyter.widget-view+json": {
       "model_id": "71de621fd0f647d2aed0d768365d8082",
       "version_major": 2,
       "version_minor": 0
      },
      "text/plain": [
       "VBox(children=(HTML(value='<h2>Cluster Options</h2>'), GridBox(children=(HTML(value=\"<p style='font-weight: bo…"
      ]
     },
     "metadata": {},
     "output_type": "display_data"
    }
   ],
   "source": [
    "options = gateway.cluster_options(); options['image'] = 'rezuma/jh:smce-jdp-mike-03'; options"
   ]
  },
  {
   "cell_type": "code",
   "execution_count": 26,
   "metadata": {},
   "outputs": [
    {
     "data": {
      "application/vnd.jupyter.widget-view+json": {
       "model_id": "0cedc86a8cb34b369fe87de60fa02b8c",
       "version_major": 2,
       "version_minor": 0
      },
      "text/plain": [
       "VBox(children=(HTML(value='<h2>GatewayCluster</h2>'), HBox(children=(HTML(value='\\n<div>\\n<style scoped>\\n    …"
      ]
     },
     "metadata": {},
     "output_type": "display_data"
    }
   ],
   "source": [
    "cluster = gateway.new_cluster(cluster_options=options); cluster"
   ]
  },
  {
   "cell_type": "code",
   "execution_count": 27,
   "metadata": {},
   "outputs": [],
   "source": [
    "# cluster = gateway.connect('daskhub.e48268b909ab41d7a8e18fbb82a9a081'); cluster"
   ]
  },
  {
   "cell_type": "code",
   "execution_count": 71,
   "metadata": {},
   "outputs": [
    {
     "ename": "AttributeError",
     "evalue": "'GatewayCluster' object has no attribute 'disconnect'",
     "output_type": "error",
     "traceback": [
      "\u001b[0;31m---------------------------------------------------------------------------\u001b[0m",
      "\u001b[0;31mAttributeError\u001b[0m                            Traceback (most recent call last)",
      "\u001b[0;32m<ipython-input-71-f43727d8dda3>\u001b[0m in \u001b[0;36m<module>\u001b[0;34m\u001b[0m\n\u001b[0;32m----> 1\u001b[0;31m \u001b[0mcluster\u001b[0m\u001b[0;34m.\u001b[0m\u001b[0mdisconnect\u001b[0m\u001b[0;34m(\u001b[0m\u001b[0;34m)\u001b[0m\u001b[0;34m\u001b[0m\u001b[0;34m\u001b[0m\u001b[0m\n\u001b[0m",
      "\u001b[0;31mAttributeError\u001b[0m: 'GatewayCluster' object has no attribute 'disconnect'"
     ]
    },
    {
     "name": "stderr",
     "output_type": "stream",
     "text": [
      "distributed.client - ERROR - Failed to reconnect to scheduler after 10.00 seconds, closing client\n",
      "_GatheringFuture exception was never retrieved\n",
      "future: <_GatheringFuture finished exception=CancelledError()>\n",
      "concurrent.futures._base.CancelledError\n",
      "Exception in callback None()\n",
      "handle: <Handle cancelled>\n",
      "Traceback (most recent call last):\n",
      "  File \"/home/jovyan/users_conda_envs/stare-1/lib/python3.7/site-packages/tornado/iostream.py\", line 1417, in _do_ssl_handshake\n",
      "    self.socket.do_handshake()\n",
      "  File \"/home/jovyan/users_conda_envs/stare-1/lib/python3.7/ssl.py\", line 1139, in do_handshake\n",
      "    self._sslobj.do_handshake()\n",
      "OSError: [Errno 0] Error\n",
      "\n",
      "During handling of the above exception, another exception occurred:\n",
      "\n",
      "Traceback (most recent call last):\n",
      "  File \"/home/jovyan/users_conda_envs/stare-1/lib/python3.7/site-packages/tornado/iostream.py\", line 711, in _handle_events\n",
      "    self._handle_read()\n",
      "  File \"/home/jovyan/users_conda_envs/stare-1/lib/python3.7/site-packages/tornado/iostream.py\", line 1498, in _handle_read\n",
      "    self._do_ssl_handshake()\n",
      "  File \"/home/jovyan/users_conda_envs/stare-1/lib/python3.7/site-packages/tornado/iostream.py\", line 1449, in _do_ssl_handshake\n",
      "    return self.close(exc_info=err)\n",
      "  File \"/home/jovyan/users_conda_envs/stare-1/lib/python3.7/site-packages/tornado/iostream.py\", line 626, in close\n",
      "    self._signal_closed()\n",
      "  File \"/home/jovyan/users_conda_envs/stare-1/lib/python3.7/site-packages/tornado/iostream.py\", line 656, in _signal_closed\n",
      "    self._ssl_connect_future.exception()\n",
      "concurrent.futures._base.CancelledError\n",
      "\n",
      "During handling of the above exception, another exception occurred:\n",
      "\n",
      "Traceback (most recent call last):\n",
      "  File \"/home/jovyan/users_conda_envs/stare-1/lib/python3.7/asyncio/events.py\", line 88, in _run\n",
      "    self._context.run(self._callback, *self._args)\n",
      "  File \"/home/jovyan/users_conda_envs/stare-1/lib/python3.7/site-packages/tornado/platform/asyncio.py\", line 139, in _handle_events\n",
      "    handler_func(fileobj, events)\n",
      "  File \"/home/jovyan/users_conda_envs/stare-1/lib/python3.7/site-packages/tornado/iostream.py\", line 747, in _handle_events\n",
      "    self.close(exc_info=e)\n",
      "  File \"/home/jovyan/users_conda_envs/stare-1/lib/python3.7/site-packages/tornado/iostream.py\", line 626, in close\n",
      "    self._signal_closed()\n",
      "  File \"/home/jovyan/users_conda_envs/stare-1/lib/python3.7/site-packages/tornado/iostream.py\", line 656, in _signal_closed\n",
      "    self._ssl_connect_future.exception()\n",
      "concurrent.futures._base.CancelledError\n",
      "Exception in callback None()\n",
      "handle: <Handle cancelled>\n",
      "Traceback (most recent call last):\n",
      "  File \"/home/jovyan/users_conda_envs/stare-1/lib/python3.7/site-packages/tornado/iostream.py\", line 1417, in _do_ssl_handshake\n",
      "    self.socket.do_handshake()\n",
      "  File \"/home/jovyan/users_conda_envs/stare-1/lib/python3.7/ssl.py\", line 1139, in do_handshake\n",
      "    self._sslobj.do_handshake()\n",
      "OSError: [Errno 0] Error\n",
      "\n",
      "During handling of the above exception, another exception occurred:\n",
      "\n",
      "Traceback (most recent call last):\n",
      "  File \"/home/jovyan/users_conda_envs/stare-1/lib/python3.7/site-packages/tornado/iostream.py\", line 711, in _handle_events\n",
      "    self._handle_read()\n",
      "  File \"/home/jovyan/users_conda_envs/stare-1/lib/python3.7/site-packages/tornado/iostream.py\", line 1498, in _handle_read\n",
      "    self._do_ssl_handshake()\n",
      "  File \"/home/jovyan/users_conda_envs/stare-1/lib/python3.7/site-packages/tornado/iostream.py\", line 1449, in _do_ssl_handshake\n",
      "    return self.close(exc_info=err)\n",
      "  File \"/home/jovyan/users_conda_envs/stare-1/lib/python3.7/site-packages/tornado/iostream.py\", line 626, in close\n",
      "    self._signal_closed()\n",
      "  File \"/home/jovyan/users_conda_envs/stare-1/lib/python3.7/site-packages/tornado/iostream.py\", line 656, in _signal_closed\n",
      "    self._ssl_connect_future.exception()\n",
      "concurrent.futures._base.CancelledError\n",
      "\n",
      "During handling of the above exception, another exception occurred:\n",
      "\n",
      "Traceback (most recent call last):\n",
      "  File \"/home/jovyan/users_conda_envs/stare-1/lib/python3.7/asyncio/events.py\", line 88, in _run\n",
      "    self._context.run(self._callback, *self._args)\n",
      "  File \"/home/jovyan/users_conda_envs/stare-1/lib/python3.7/site-packages/tornado/platform/asyncio.py\", line 139, in _handle_events\n",
      "    handler_func(fileobj, events)\n",
      "  File \"/home/jovyan/users_conda_envs/stare-1/lib/python3.7/site-packages/tornado/iostream.py\", line 747, in _handle_events\n",
      "    self.close(exc_info=e)\n",
      "  File \"/home/jovyan/users_conda_envs/stare-1/lib/python3.7/site-packages/tornado/iostream.py\", line 626, in close\n",
      "    self._signal_closed()\n",
      "  File \"/home/jovyan/users_conda_envs/stare-1/lib/python3.7/site-packages/tornado/iostream.py\", line 656, in _signal_closed\n",
      "    self._ssl_connect_future.exception()\n",
      "concurrent.futures._base.CancelledError\n"
     ]
    }
   ],
   "source": [
    "cluster."
   ]
  },
  {
   "cell_type": "code",
   "execution_count": 9,
   "metadata": {},
   "outputs": [],
   "source": [
    "if False:\n",
    "    cluster.shutdown()"
   ]
  },
  {
   "cell_type": "code",
   "execution_count": 9,
   "metadata": {},
   "outputs": [
    {
     "data": {
      "text/plain": [
       "[ClusterReport<name=daskhub.fd3a2fb9478a4264b86a60ccd840de8c, status=PENDING>,\n",
       " ClusterReport<name=daskhub.286d06b40fc247928b672c51d7b63d09, status=PENDING>]"
      ]
     },
     "execution_count": 9,
     "metadata": {},
     "output_type": "execute_result"
    }
   ],
   "source": [
    "clusters = gateway.list_clusters(); clusters"
   ]
  },
  {
   "cell_type": "code",
   "execution_count": 5,
   "metadata": {},
   "outputs": [],
   "source": [
    "cluster = gateway.connect(clusters[2].name)"
   ]
  },
  {
   "cell_type": "code",
   "execution_count": 6,
   "metadata": {},
   "outputs": [
    {
     "data": {
      "application/vnd.jupyter.widget-view+json": {
       "model_id": "6154788d67264a0c85206b7903d06ec0",
       "version_major": 2,
       "version_minor": 0
      },
      "text/plain": [
       "VBox(children=(HTML(value='<h2>GatewayCluster</h2>'), HBox(children=(HTML(value='\\n<div>\\n<style scoped>\\n    …"
      ]
     },
     "metadata": {},
     "output_type": "display_data"
    }
   ],
   "source": [
    "cluster"
   ]
  },
  {
   "cell_type": "code",
   "execution_count": 7,
   "metadata": {},
   "outputs": [],
   "source": [
    "cluster.shutdown()"
   ]
  },
  {
   "cell_type": "code",
   "execution_count": 7,
   "metadata": {},
   "outputs": [],
   "source": [
    "# gateway_uri = \"gateway://traefik-dhub-dask-gateway.daskhub:80/daskhub.\"+gateway.list_clusters()[0].name.split('.')[1]; gateway_uri"
   ]
  },
  {
   "cell_type": "code",
   "execution_count": 29,
   "metadata": {},
   "outputs": [
    {
     "name": "stderr",
     "output_type": "stream",
     "text": [
      "/home/jovyan/users_conda_envs/stare-1/lib/python3.7/site-packages/distributed/client.py:1136: VersionMismatchWarning: Mismatched versions found\n",
      "\n",
      "+---------+---------------+---------------+---------------+\n",
      "| Package | client        | scheduler     | workers       |\n",
      "+---------+---------------+---------------+---------------+\n",
      "| python  | 3.7.8.final.0 | 3.7.7.final.0 | 3.7.7.final.0 |\n",
      "+---------+---------------+---------------+---------------+\n",
      "  warnings.warn(version_module.VersionMismatchWarning(msg[0][\"warning\"]))\n"
     ]
    }
   ],
   "source": [
    "# client = cluster.get_client(gateway_uri);\n",
    "client = cluster.get_client();"
   ]
  },
  {
   "cell_type": "code",
   "execution_count": 16,
   "metadata": {},
   "outputs": [],
   "source": [
    "# from dask.distributed import Client; client = Client()"
   ]
  },
  {
   "cell_type": "code",
   "execution_count": 30,
   "metadata": {},
   "outputs": [
    {
     "data": {
      "text/html": [
       "<table style=\"border: 2px solid white;\">\n",
       "<tr>\n",
       "<td style=\"vertical-align: top; border: 0px solid white\">\n",
       "<h3 style=\"text-align: left;\">Client</h3>\n",
       "<ul style=\"text-align: left; list-style: none; margin: 0; padding: 0;\">\n",
       "  <li><b>Scheduler: </b>gateway://traefik-dhub-dask-gateway.daskhub:80/daskhub.6f3d78cc545d4758a4e1c01d3c47c0fb</li>\n",
       "  <li><b>Dashboard: </b><a href='/services/dask-gateway/clusters/daskhub.6f3d78cc545d4758a4e1c01d3c47c0fb/status' target='_blank'>/services/dask-gateway/clusters/daskhub.6f3d78cc545d4758a4e1c01d3c47c0fb/status</a></li>\n",
       "</ul>\n",
       "</td>\n",
       "<td style=\"vertical-align: top; border: 0px solid white\">\n",
       "<h3 style=\"text-align: left;\">Cluster</h3>\n",
       "<ul style=\"text-align: left; list-style:none; margin: 0; padding: 0;\">\n",
       "  <li><b>Workers: </b>1</li>\n",
       "  <li><b>Cores: </b>2</li>\n",
       "  <li><b>Memory: </b>4.29 GB</li>\n",
       "</ul>\n",
       "</td>\n",
       "</tr>\n",
       "</table>"
      ],
      "text/plain": [
       "<Client: 'tls://192.168.15.103:8786' processes=1 threads=2, memory=4.29 GB>"
      ]
     },
     "execution_count": 30,
     "metadata": {},
     "output_type": "execute_result"
    }
   ],
   "source": [
    "client"
   ]
  },
  {
   "cell_type": "code",
   "execution_count": 13,
   "metadata": {},
   "outputs": [],
   "source": [
    "# client.close()"
   ]
  },
  {
   "cell_type": "code",
   "execution_count": 18,
   "metadata": {},
   "outputs": [
    {
     "data": {
      "text/plain": [
       "0.0006699034249671197"
      ]
     },
     "execution_count": 18,
     "metadata": {},
     "output_type": "execute_result"
    }
   ],
   "source": [
    "import dask.array as da\n",
    "a = da.random.normal(size=(1000,1000),chunks=(50,50))\n",
    "a.mean().compute()"
   ]
  },
  {
   "cell_type": "code",
   "execution_count": 31,
   "metadata": {},
   "outputs": [
    {
     "data": {
      "text/plain": [
       "{'tls://192.168.29.137:42757': 2}"
      ]
     },
     "execution_count": 31,
     "metadata": {},
     "output_type": "execute_result"
    }
   ],
   "source": [
    "client.nthreads()"
   ]
  },
  {
   "cell_type": "code",
   "execution_count": 32,
   "metadata": {},
   "outputs": [],
   "source": [
    "# Dask helpers\n",
    "def slam(client,action,data,partition_factor=1.5,dbg=0):\n",
    "    np = sum(client.nthreads().values())\n",
    "    if dbg>0: # a\n",
    "        print('slam: np = %i'%np)\n",
    "    shard_bounds = [int(i*len(data)/(1.0*partition_factor*np)) for i in range(int(partition_factor*np))] \n",
    "    if shard_bounds[-1] != len(data):\n",
    "        if dbg>0: # b\n",
    "            print('a sb[-1]: ',shard_bounds[-1],len(data))\n",
    "        shard_bounds = shard_bounds + [len(data)]\n",
    "        if dbg>0: # c\n",
    "            print('sb: ',shard_bounds)\n",
    "    data_shards = [data[shard_bounds[i]:shard_bounds[i+1]] for i in range(len(shard_bounds)-1)]\n",
    "    if dbg>0: # d\n",
    "        print('ds len:        ',len(data_shards))\n",
    "        print('ds item len:   ',len(data_shards[0]))\n",
    "        print('ds type:       ',type(data_shards[0]))\n",
    "        try:\n",
    "            print('ds dtype:      ',data_shards[0].dtype)\n",
    "        except:\n",
    "            pass\n",
    "    big_future = client.scatter(data_shards)\n",
    "    results    = client.map(action,big_future)\n",
    "    return results\n"
   ]
  },
  {
   "cell_type": "code",
   "execution_count": 38,
   "metadata": {},
   "outputs": [],
   "source": [
    "import subprocess"
   ]
  },
  {
   "cell_type": "code",
   "execution_count": 66,
   "metadata": {},
   "outputs": [],
   "source": [
    "import getpass\n",
    "\n",
    "def action(data_shard):\n",
    "    import shapely\n",
    "    import starepandas\n",
    "    ret = []\n",
    "    for d in data_shard:\n",
    "        if d == 0:\n",
    "            ret.append((d,'touched',os.getcwd(),os.environ))\n",
    "        if d == 1:\n",
    "            ret.append((d,'touched',os.getcwd(),os.listdir()))\n",
    "        if d == 2:\n",
    "            ret.append((d,'touched',socket.gethostname()))\n",
    "        if d == 3:\n",
    "            filename='.bashrc'\n",
    "            with open(filename, 'r') as file:\n",
    "                data = file.read()\n",
    "            ret.append((d,'read .bashrc',data))\n",
    "        if d == 4:\n",
    "            ret.append((d,os.environ['DASK_PARENT'],os.environ['DASK_GATEWAY_WORKER_NAME']))\n",
    "        if d == 5:\n",
    "            ret.append((d,pystare.from_latlon([30],[30],4)))\n",
    "            pass\n",
    "        if d == 6:\n",
    "            ret.append((d,os.environ))\n",
    "            \n",
    "        # Here's what we really need to work.\n",
    "        if d == 7:\n",
    "            client = boto3.client('s3')\n",
    "            keys = get_s3_keys('daskhub-data',client,prefix='')\n",
    "            ret.append((d,list(keys)[0:10]))\n",
    "            \n",
    "        if d == 8:\n",
    "            uid = getpass.getuser()\n",
    "            ret.append((d,uid,))\n",
    "        \n",
    "        if d == 9:\n",
    "            exe = subprocess.Popen(['conda','search','shapely']\n",
    "                               # ,cwd='/home/jovyan/data/tmp/'\n",
    "                                   ,stdout=subprocess.PIPE\n",
    "                                   ,stderr=subprocess.STDOUT\n",
    "                                  )\n",
    "            stdout,stderr=exe.communicate()\n",
    "            # print('vars: ',file_name)\n",
    "            ret.append((d,\"status out=%s\\nerr=%s\"%(stdout,stderr)))\n",
    "    return ret\n",
    "            "
   ]
  },
  {
   "cell_type": "code",
   "execution_count": 35,
   "metadata": {},
   "outputs": [
    {
     "name": "stdout",
     "output_type": "stream",
     "text": [
      "['GESDISC/MERRA2/2019/MERRA2_400.tavg1_2d_slv_Nx.20191203.nc4',\n",
      " 'GESDISC/MERRA2/2019/MERRA2_400.tavg1_2d_slv_Nx.20191222.nc4',\n",
      " 'GESDISC/MERRA2/2019/MERRA2_400.tavg1_2d_slv_Nx.20191226.nc4',\n",
      " 'MODAPS/CATALOGS/MOD05_L2/2019/356/catalogue.sqlite',\n",
      " 'MODAPS/MOD05/MOD05_L2.A2019336.2315.061.2019337071952.hdf',\n",
      " 'MODAPS/MOD05/MOD05_L2.A2019336.2315.061.2019337071952_stare.nc',\n",
      " 'MODAPS/MOD05/MOD05_L2.A2019336.2320.061.2019337072008.hdf',\n",
      " 'MODAPS/MOD05/MOD05_L2.A2019336.2320.061.2019337072008_stare.nc',\n",
      " 'MODAPS/MOD05/MOD05_L2.A2019336.2325.061.2019337072403.hdf',\n",
      " 'MODAPS/MOD05/MOD05_L2.A2019336.2325.061.2019337072403_stare.nc']\n"
     ]
    }
   ],
   "source": [
    "if True:\n",
    "    s3_client = boto3.client('s3')\n",
    "    keys = get_s3_keys('daskhub-data',s3_client,prefix='')\n",
    "    pprint.pprint(list(keys)[0:10])"
   ]
  },
  {
   "cell_type": "code",
   "execution_count": 44,
   "metadata": {},
   "outputs": [
    {
     "data": {
      "text/plain": [
       "array([2, 0, 5, 8, 7, 9, 3, 3, 3, 3])"
      ]
     },
     "execution_count": 44,
     "metadata": {},
     "output_type": "execute_result"
    }
   ],
   "source": [
    "data = numpy.arange(10)\n",
    "data[:] = 3\n",
    "data[0] = 2 # hostname\n",
    "data[1] = 0 # basics + os env.\n",
    "data[2] = 5 # pystare check\n",
    "data[3] = 8 # getuser\n",
    "data[4] = 7 # boto3\n",
    "data[5] = 9 # Popen\n",
    "data"
   ]
  },
  {
   "cell_type": "code",
   "execution_count": 68,
   "metadata": {},
   "outputs": [],
   "source": [
    "results = slam(client,action,data)"
   ]
  },
  {
   "cell_type": "code",
   "execution_count": 69,
   "metadata": {},
   "outputs": [
    {
     "data": {
      "text/plain": [
       "[<Future: finished, type: builtins.list, key: action-718cb514259f00a14f5386327c88a892>,\n",
       " <Future: finished, type: builtins.list, key: action-157d456eec7bc2259d0adeb82b72c71c>,\n",
       " <Future: finished, type: builtins.list, key: action-5c481c6266ffea5e0ee3e7fe5964217b>]"
      ]
     },
     "execution_count": 69,
     "metadata": {},
     "output_type": "execute_result"
    }
   ],
   "source": [
    "results"
   ]
  },
  {
   "cell_type": "code",
   "execution_count": 70,
   "metadata": {},
   "outputs": [
    {
     "data": {
      "text/plain": [
       "[[(2, 'touched', 'dask-worker-6f3d78cc545d4758a4e1c01d3c47c0fb-rrfzp'),\n",
       "  (0,\n",
       "   'touched',\n",
       "   '/home/dask',\n",
       "   environ{'PATH': '/opt/conda/bin:/usr/local/sbin:/usr/local/bin:/usr/sbin:/usr/bin:/sbin:/bin',\n",
       "           'HOSTNAME': 'dask-worker-6f3d78cc545d4758a4e1c01d3c47c0fb-rrfzp',\n",
       "           'DASK_GATEWAY_API_TOKEN': '/etc/dask-credentials/api-token',\n",
       "           'DASK_GATEWAY_TLS_CERT': '/etc/dask-credentials/dask.crt',\n",
       "           'DASK_GATEWAY_TLS_KEY': '/etc/dask-credentials/dask.pem',\n",
       "           'DASK_GATEWAY_WORKER_NAME': 'dask-worker-6f3d78cc545d4758a4e1c01d3c47c0fb-rrfzp',\n",
       "           'AWS_ROLE_ARN': 'arn:aws:iam::306565948140:role/eksctl-smce-eks-dev-addon-iamserviceaccount-Role1-O3ABBCE1PTBI',\n",
       "           'AWS_WEB_IDENTITY_TOKEN_FILE': '/var/run/secrets/eks.amazonaws.com/serviceaccount/token',\n",
       "           'DASK_GATEWAY_API_URL': 'http://api-dhub-dask-gateway.daskhub:8000/api',\n",
       "           'DASK_GATEWAY_CLUSTER_NAME': 'daskhub.6f3d78cc545d4758a4e1c01d3c47c0fb',\n",
       "           'PROXY_PUBLIC_PORT_80_TCP_PROTO': 'tcp',\n",
       "           'TRAEFIK_DHUB_DASK_GATEWAY_PORT_80_TCP_PROTO': 'tcp',\n",
       "           'API_DHUB_DASK_GATEWAY_PORT_8000_TCP_PORT': '8000',\n",
       "           'PROXY_HTTP_SERVICE_PORT': '8000',\n",
       "           'TRAEFIK_DHUB_DASK_GATEWAY_PORT_80_TCP_ADDR': '10.100.39.162',\n",
       "           'KUBERNETES_SERVICE_PORT': '443',\n",
       "           'PROXY_PUBLIC_SERVICE_PORT_HTTPS': '443',\n",
       "           'API_DHUB_DASK_GATEWAY_SERVICE_PORT': '8000',\n",
       "           'API_DHUB_DASK_GATEWAY_PORT_8000_TCP': 'tcp://10.100.134.122:8000',\n",
       "           'TRAEFIK_DHUB_DASK_GATEWAY_PORT_80_TCP_PORT': '80',\n",
       "           'KUBERNETES_PORT_443_TCP': 'tcp://10.100.0.1:443',\n",
       "           'KUBERNETES_PORT': 'tcp://10.100.0.1:443',\n",
       "           'PROXY_API_PORT_8001_TCP_ADDR': '10.100.182.208',\n",
       "           'PROXY_HTTP_PORT_8000_TCP_ADDR': '10.100.222.95',\n",
       "           'TRAEFIK_DHUB_DASK_GATEWAY_SERVICE_PORT': '80',\n",
       "           'KUBERNETES_PORT_443_TCP_PROTO': 'tcp',\n",
       "           'HUB_SERVICE_PORT': '8081',\n",
       "           'PROXY_API_SERVICE_PORT': '8001',\n",
       "           'PROXY_PUBLIC_PORT_443_TCP_PROTO': 'tcp',\n",
       "           'HUB_PORT': 'tcp://10.100.33.175:8081',\n",
       "           'PROXY_HTTP_PORT_8000_TCP_PROTO': 'tcp',\n",
       "           'PROXY_PUBLIC_SERVICE_PORT_HTTP': '80',\n",
       "           'PROXY_PUBLIC_PORT_80_TCP_ADDR': '10.100.215.111',\n",
       "           'PROXY_PUBLIC_SERVICE_PORT': '443',\n",
       "           'PROXY_PUBLIC_PORT_80_TCP_PORT': '80',\n",
       "           'API_DHUB_DASK_GATEWAY_PORT_8000_TCP_ADDR': '10.100.134.122',\n",
       "           'PROXY_PUBLIC_PORT_443_TCP_ADDR': '10.100.215.111',\n",
       "           'PROXY_PUBLIC_PORT_80_TCP': 'tcp://10.100.215.111:80',\n",
       "           'PROXY_API_SERVICE_HOST': '10.100.182.208',\n",
       "           'PROXY_API_PORT_8001_TCP_PORT': '8001',\n",
       "           'HUB_SERVICE_HOST': '10.100.33.175',\n",
       "           'HUB_PORT_8081_TCP_ADDR': '10.100.33.175',\n",
       "           'PROXY_HTTP_PORT': 'tcp://10.100.222.95:8000',\n",
       "           'TRAEFIK_DHUB_DASK_GATEWAY_PORT': 'tcp://10.100.39.162:80',\n",
       "           'TRAEFIK_DHUB_DASK_GATEWAY_PORT_80_TCP': 'tcp://10.100.39.162:80',\n",
       "           'PROXY_API_PORT_8001_TCP_PROTO': 'tcp',\n",
       "           'PROXY_HTTP_PORT_8000_TCP_PORT': '8000',\n",
       "           'TRAEFIK_DHUB_DASK_GATEWAY_SERVICE_PORT_WEB': '80',\n",
       "           'PROXY_API_PORT': 'tcp://10.100.182.208:8001',\n",
       "           'PROXY_API_PORT_8001_TCP': 'tcp://10.100.182.208:8001',\n",
       "           'KUBERNETES_SERVICE_HOST': '10.100.0.1',\n",
       "           'KUBERNETES_PORT_443_TCP_PORT': '443',\n",
       "           'PROXY_PUBLIC_PORT_443_TCP': 'tcp://10.100.215.111:443',\n",
       "           'HUB_PORT_8081_TCP': 'tcp://10.100.33.175:8081',\n",
       "           'KUBERNETES_SERVICE_PORT_HTTPS': '443',\n",
       "           'KUBERNETES_PORT_443_TCP_ADDR': '10.100.0.1',\n",
       "           'API_DHUB_DASK_GATEWAY_PORT': 'tcp://10.100.134.122:8000',\n",
       "           'API_DHUB_DASK_GATEWAY_PORT_8000_TCP_PROTO': 'tcp',\n",
       "           'HUB_PORT_8081_TCP_PORT': '8081',\n",
       "           'PROXY_HTTP_SERVICE_HOST': '10.100.222.95',\n",
       "           'PROXY_HTTP_PORT_8000_TCP': 'tcp://10.100.222.95:8000',\n",
       "           'PROXY_PUBLIC_PORT': 'tcp://10.100.215.111:443',\n",
       "           'API_DHUB_DASK_GATEWAY_SERVICE_HOST': '10.100.134.122',\n",
       "           'PROXY_PUBLIC_PORT_443_TCP_PORT': '443',\n",
       "           'HUB_PORT_8081_TCP_PROTO': 'tcp',\n",
       "           'TRAEFIK_DHUB_DASK_GATEWAY_SERVICE_HOST': '10.100.39.162',\n",
       "           'PROXY_PUBLIC_SERVICE_HOST': '10.100.215.111',\n",
       "           'CONDA_VERSION': 'py37_4.8.3',\n",
       "           'CONDA_SHA256': 'bb2e3cedd2e78a8bb6872ab3ab5b1266a90f8c7004a22d8dc2ea5effeb6a439a',\n",
       "           'HOME': '/home/dask',\n",
       "           'LC_CTYPE': 'C.UTF-8',\n",
       "           'DASK_PARENT': '7'}),\n",
       "  (5, array([4584010294390222052]))],\n",
       " [(8, 'dask'),\n",
       "  (7,\n",
       "   ['GESDISC/MERRA2/2019/MERRA2_400.tavg1_2d_slv_Nx.20191203.nc4',\n",
       "    'GESDISC/MERRA2/2019/MERRA2_400.tavg1_2d_slv_Nx.20191222.nc4',\n",
       "    'GESDISC/MERRA2/2019/MERRA2_400.tavg1_2d_slv_Nx.20191226.nc4',\n",
       "    'MODAPS/CATALOGS/MOD05_L2/2019/356/catalogue.sqlite',\n",
       "    'MODAPS/MOD05/MOD05_L2.A2019336.2315.061.2019337071952.hdf',\n",
       "    'MODAPS/MOD05/MOD05_L2.A2019336.2315.061.2019337071952_stare.nc',\n",
       "    'MODAPS/MOD05/MOD05_L2.A2019336.2320.061.2019337072008.hdf',\n",
       "    'MODAPS/MOD05/MOD05_L2.A2019336.2320.061.2019337072008_stare.nc',\n",
       "    'MODAPS/MOD05/MOD05_L2.A2019336.2325.061.2019337072403.hdf',\n",
       "    'MODAPS/MOD05/MOD05_L2.A2019336.2325.061.2019337072403_stare.nc']),\n",
       "  (9,\n",
       "   \"status out=b'Loading channels: ...working... done\\\\n# Name                       Version           Build  Channel             \\\\nshapely                        1.6.2  py27hd647e55_0  pkgs/main           \\\\nshapely                        1.6.2  py35h7e54424_0  pkgs/main           \\\\nshapely                        1.6.2  py36hfae5896_0  pkgs/main           \\\\nshapely                        1.6.4  py27h0c48222_0  pkgs/main           \\\\nshapely                        1.6.4  py27h7ef4460_0  pkgs/main           \\\\nshapely                        1.6.4  py27h86c5351_0  pkgs/main           \\\\nshapely                        1.6.4  py27hc5e8c75_0  pkgs/main           \\\\nshapely                        1.6.4  py35h0c48222_0  pkgs/main           \\\\nshapely                        1.6.4  py35h7ef4460_0  pkgs/main           \\\\nshapely                        1.6.4  py36h0c48222_0  pkgs/main           \\\\nshapely                        1.6.4  py36h7ef4460_0  pkgs/main           \\\\nshapely                        1.6.4  py36h86c5351_0  pkgs/main           \\\\nshapely                        1.6.4  py36hc5e8c75_0  pkgs/main           \\\\nshapely                        1.6.4  py37h7ef4460_0  pkgs/main           \\\\nshapely                        1.6.4  py37h86c5351_0  pkgs/main           \\\\nshapely                        1.6.4  py37hc5e8c75_0  pkgs/main           \\\\nshapely                        1.6.4  py38h86c5351_0  pkgs/main           \\\\nshapely                        1.6.4  py38hc5e8c75_0  pkgs/main           \\\\nshapely                        1.7.0  py36h98ec03d_0  pkgs/main           \\\\nshapely                        1.7.0  py37h98ec03d_0  pkgs/main           \\\\nshapely                        1.7.0  py38h98ec03d_0  pkgs/main           \\\\nshapely                        1.7.1  py36h98ec03d_0  pkgs/main           \\\\nshapely                        1.7.1  py37h98ec03d_0  pkgs/main           \\\\nshapely                        1.7.1  py38h98ec03d_0  pkgs/main           \\\\n'\\nerr=None\")],\n",
       " [(3,\n",
       "   'read .bashrc',\n",
       "   '# ~/.bashrc: executed by bash(1) for non-login shells.\\n# see /usr/share/doc/bash/examples/startup-files (in the package bash-doc)\\n# for examples\\n\\n# If not running interactively, don\\'t do anything\\ncase $- in\\n    *i*) ;;\\n      *) return;;\\nesac\\n\\n# don\\'t put duplicate lines or lines starting with space in the history.\\n# See bash(1) for more options\\nHISTCONTROL=ignoreboth\\n\\n# append to the history file, don\\'t overwrite it\\nshopt -s histappend\\n\\n# for setting history length see HISTSIZE and HISTFILESIZE in bash(1)\\nHISTSIZE=1000\\nHISTFILESIZE=2000\\n\\n# check the window size after each command and, if necessary,\\n# update the values of LINES and COLUMNS.\\nshopt -s checkwinsize\\n\\n# If set, the pattern \"**\" used in a pathname expansion context will\\n# match all files and zero or more directories and subdirectories.\\n#shopt -s globstar\\n\\n# make less more friendly for non-text input files, see lesspipe(1)\\n#[ -x /usr/bin/lesspipe ] && eval \"$(SHELL=/bin/sh lesspipe)\"\\n\\n# set variable identifying the chroot you work in (used in the prompt below)\\nif [ -z \"${debian_chroot:-}\" ] && [ -r /etc/debian_chroot ]; then\\n    debian_chroot=$(cat /etc/debian_chroot)\\nfi\\n\\n# set a fancy prompt (non-color, unless we know we \"want\" color)\\ncase \"$TERM\" in\\n    xterm-color|*-256color) color_prompt=yes;;\\nesac\\n\\n# uncomment for a colored prompt, if the terminal has the capability; turned\\n# off by default to not distract the user: the focus in a terminal window\\n# should be on the output of commands, not on the prompt\\n#force_color_prompt=yes\\n\\nif [ -n \"$force_color_prompt\" ]; then\\n    if [ -x /usr/bin/tput ] && tput setaf 1 >&/dev/null; then\\n\\t# We have color support; assume it\\'s compliant with Ecma-48\\n\\t# (ISO/IEC-6429). (Lack of such support is extremely rare, and such\\n\\t# a case would tend to support setf rather than setaf.)\\n\\tcolor_prompt=yes\\n    else\\n\\tcolor_prompt=\\n    fi\\nfi\\n\\nif [ \"$color_prompt\" = yes ]; then\\n    PS1=\\'${debian_chroot:+($debian_chroot)}\\\\[\\\\033[01;32m\\\\]\\\\u@\\\\h\\\\[\\\\033[00m\\\\]:\\\\[\\\\033[01;34m\\\\]\\\\w\\\\[\\\\033[00m\\\\]\\\\$ \\'\\nelse\\n    PS1=\\'${debian_chroot:+($debian_chroot)}\\\\u@\\\\h:\\\\w\\\\$ \\'\\nfi\\nunset color_prompt force_color_prompt\\n\\n# If this is an xterm set the title to user@host:dir\\ncase \"$TERM\" in\\nxterm*|rxvt*)\\n    PS1=\"\\\\[\\\\e]0;${debian_chroot:+($debian_chroot)}\\\\u@\\\\h: \\\\w\\\\a\\\\]$PS1\"\\n    ;;\\n*)\\n    ;;\\nesac\\n\\n# enable color support of ls and also add handy aliases\\nif [ -x /usr/bin/dircolors ]; then\\n    test -r ~/.dircolors && eval \"$(dircolors -b ~/.dircolors)\" || eval \"$(dircolors -b)\"\\n    alias ls=\\'ls --color=auto\\'\\n    #alias dir=\\'dir --color=auto\\'\\n    #alias vdir=\\'vdir --color=auto\\'\\n\\n    #alias grep=\\'grep --color=auto\\'\\n    #alias fgrep=\\'fgrep --color=auto\\'\\n    #alias egrep=\\'egrep --color=auto\\'\\nfi\\n\\n# colored GCC warnings and errors\\n#export GCC_COLORS=\\'error=01;31:warning=01;35:note=01;36:caret=01;32:locus=01:quote=01\\'\\n\\n# some more ls aliases\\n#alias ll=\\'ls -l\\'\\n#alias la=\\'ls -A\\'\\n#alias l=\\'ls -CF\\'\\n\\n# Alias definitions.\\n# You may want to put all your additions into a separate file like\\n# ~/.bash_aliases, instead of adding them here directly.\\n# See /usr/share/doc/bash-doc/examples in the bash-doc package.\\n\\nif [ -f ~/.bash_aliases ]; then\\n    . ~/.bash_aliases\\nfi\\n\\n# enable programmable completion features (you don\\'t need to enable\\n# this, if it\\'s already enabled in /etc/bash.bashrc and /etc/profile\\n# sources /etc/bash.bashrc).\\nif ! shopt -oq posix; then\\n  if [ -f /usr/share/bash-completion/bash_completion ]; then\\n    . /usr/share/bash-completion/bash_completion\\n  elif [ -f /etc/bash_completion ]; then\\n    . /etc/bash_completion\\n  fi\\nfi\\n\\nexport PATH=/home/dask/opt/local/bin:${PATH}\\n'),\n",
       "  (3,\n",
       "   'read .bashrc',\n",
       "   '# ~/.bashrc: executed by bash(1) for non-login shells.\\n# see /usr/share/doc/bash/examples/startup-files (in the package bash-doc)\\n# for examples\\n\\n# If not running interactively, don\\'t do anything\\ncase $- in\\n    *i*) ;;\\n      *) return;;\\nesac\\n\\n# don\\'t put duplicate lines or lines starting with space in the history.\\n# See bash(1) for more options\\nHISTCONTROL=ignoreboth\\n\\n# append to the history file, don\\'t overwrite it\\nshopt -s histappend\\n\\n# for setting history length see HISTSIZE and HISTFILESIZE in bash(1)\\nHISTSIZE=1000\\nHISTFILESIZE=2000\\n\\n# check the window size after each command and, if necessary,\\n# update the values of LINES and COLUMNS.\\nshopt -s checkwinsize\\n\\n# If set, the pattern \"**\" used in a pathname expansion context will\\n# match all files and zero or more directories and subdirectories.\\n#shopt -s globstar\\n\\n# make less more friendly for non-text input files, see lesspipe(1)\\n#[ -x /usr/bin/lesspipe ] && eval \"$(SHELL=/bin/sh lesspipe)\"\\n\\n# set variable identifying the chroot you work in (used in the prompt below)\\nif [ -z \"${debian_chroot:-}\" ] && [ -r /etc/debian_chroot ]; then\\n    debian_chroot=$(cat /etc/debian_chroot)\\nfi\\n\\n# set a fancy prompt (non-color, unless we know we \"want\" color)\\ncase \"$TERM\" in\\n    xterm-color|*-256color) color_prompt=yes;;\\nesac\\n\\n# uncomment for a colored prompt, if the terminal has the capability; turned\\n# off by default to not distract the user: the focus in a terminal window\\n# should be on the output of commands, not on the prompt\\n#force_color_prompt=yes\\n\\nif [ -n \"$force_color_prompt\" ]; then\\n    if [ -x /usr/bin/tput ] && tput setaf 1 >&/dev/null; then\\n\\t# We have color support; assume it\\'s compliant with Ecma-48\\n\\t# (ISO/IEC-6429). (Lack of such support is extremely rare, and such\\n\\t# a case would tend to support setf rather than setaf.)\\n\\tcolor_prompt=yes\\n    else\\n\\tcolor_prompt=\\n    fi\\nfi\\n\\nif [ \"$color_prompt\" = yes ]; then\\n    PS1=\\'${debian_chroot:+($debian_chroot)}\\\\[\\\\033[01;32m\\\\]\\\\u@\\\\h\\\\[\\\\033[00m\\\\]:\\\\[\\\\033[01;34m\\\\]\\\\w\\\\[\\\\033[00m\\\\]\\\\$ \\'\\nelse\\n    PS1=\\'${debian_chroot:+($debian_chroot)}\\\\u@\\\\h:\\\\w\\\\$ \\'\\nfi\\nunset color_prompt force_color_prompt\\n\\n# If this is an xterm set the title to user@host:dir\\ncase \"$TERM\" in\\nxterm*|rxvt*)\\n    PS1=\"\\\\[\\\\e]0;${debian_chroot:+($debian_chroot)}\\\\u@\\\\h: \\\\w\\\\a\\\\]$PS1\"\\n    ;;\\n*)\\n    ;;\\nesac\\n\\n# enable color support of ls and also add handy aliases\\nif [ -x /usr/bin/dircolors ]; then\\n    test -r ~/.dircolors && eval \"$(dircolors -b ~/.dircolors)\" || eval \"$(dircolors -b)\"\\n    alias ls=\\'ls --color=auto\\'\\n    #alias dir=\\'dir --color=auto\\'\\n    #alias vdir=\\'vdir --color=auto\\'\\n\\n    #alias grep=\\'grep --color=auto\\'\\n    #alias fgrep=\\'fgrep --color=auto\\'\\n    #alias egrep=\\'egrep --color=auto\\'\\nfi\\n\\n# colored GCC warnings and errors\\n#export GCC_COLORS=\\'error=01;31:warning=01;35:note=01;36:caret=01;32:locus=01:quote=01\\'\\n\\n# some more ls aliases\\n#alias ll=\\'ls -l\\'\\n#alias la=\\'ls -A\\'\\n#alias l=\\'ls -CF\\'\\n\\n# Alias definitions.\\n# You may want to put all your additions into a separate file like\\n# ~/.bash_aliases, instead of adding them here directly.\\n# See /usr/share/doc/bash-doc/examples in the bash-doc package.\\n\\nif [ -f ~/.bash_aliases ]; then\\n    . ~/.bash_aliases\\nfi\\n\\n# enable programmable completion features (you don\\'t need to enable\\n# this, if it\\'s already enabled in /etc/bash.bashrc and /etc/profile\\n# sources /etc/bash.bashrc).\\nif ! shopt -oq posix; then\\n  if [ -f /usr/share/bash-completion/bash_completion ]; then\\n    . /usr/share/bash-completion/bash_completion\\n  elif [ -f /etc/bash_completion ]; then\\n    . /etc/bash_completion\\n  fi\\nfi\\n\\nexport PATH=/home/dask/opt/local/bin:${PATH}\\n'),\n",
       "  (3,\n",
       "   'read .bashrc',\n",
       "   '# ~/.bashrc: executed by bash(1) for non-login shells.\\n# see /usr/share/doc/bash/examples/startup-files (in the package bash-doc)\\n# for examples\\n\\n# If not running interactively, don\\'t do anything\\ncase $- in\\n    *i*) ;;\\n      *) return;;\\nesac\\n\\n# don\\'t put duplicate lines or lines starting with space in the history.\\n# See bash(1) for more options\\nHISTCONTROL=ignoreboth\\n\\n# append to the history file, don\\'t overwrite it\\nshopt -s histappend\\n\\n# for setting history length see HISTSIZE and HISTFILESIZE in bash(1)\\nHISTSIZE=1000\\nHISTFILESIZE=2000\\n\\n# check the window size after each command and, if necessary,\\n# update the values of LINES and COLUMNS.\\nshopt -s checkwinsize\\n\\n# If set, the pattern \"**\" used in a pathname expansion context will\\n# match all files and zero or more directories and subdirectories.\\n#shopt -s globstar\\n\\n# make less more friendly for non-text input files, see lesspipe(1)\\n#[ -x /usr/bin/lesspipe ] && eval \"$(SHELL=/bin/sh lesspipe)\"\\n\\n# set variable identifying the chroot you work in (used in the prompt below)\\nif [ -z \"${debian_chroot:-}\" ] && [ -r /etc/debian_chroot ]; then\\n    debian_chroot=$(cat /etc/debian_chroot)\\nfi\\n\\n# set a fancy prompt (non-color, unless we know we \"want\" color)\\ncase \"$TERM\" in\\n    xterm-color|*-256color) color_prompt=yes;;\\nesac\\n\\n# uncomment for a colored prompt, if the terminal has the capability; turned\\n# off by default to not distract the user: the focus in a terminal window\\n# should be on the output of commands, not on the prompt\\n#force_color_prompt=yes\\n\\nif [ -n \"$force_color_prompt\" ]; then\\n    if [ -x /usr/bin/tput ] && tput setaf 1 >&/dev/null; then\\n\\t# We have color support; assume it\\'s compliant with Ecma-48\\n\\t# (ISO/IEC-6429). (Lack of such support is extremely rare, and such\\n\\t# a case would tend to support setf rather than setaf.)\\n\\tcolor_prompt=yes\\n    else\\n\\tcolor_prompt=\\n    fi\\nfi\\n\\nif [ \"$color_prompt\" = yes ]; then\\n    PS1=\\'${debian_chroot:+($debian_chroot)}\\\\[\\\\033[01;32m\\\\]\\\\u@\\\\h\\\\[\\\\033[00m\\\\]:\\\\[\\\\033[01;34m\\\\]\\\\w\\\\[\\\\033[00m\\\\]\\\\$ \\'\\nelse\\n    PS1=\\'${debian_chroot:+($debian_chroot)}\\\\u@\\\\h:\\\\w\\\\$ \\'\\nfi\\nunset color_prompt force_color_prompt\\n\\n# If this is an xterm set the title to user@host:dir\\ncase \"$TERM\" in\\nxterm*|rxvt*)\\n    PS1=\"\\\\[\\\\e]0;${debian_chroot:+($debian_chroot)}\\\\u@\\\\h: \\\\w\\\\a\\\\]$PS1\"\\n    ;;\\n*)\\n    ;;\\nesac\\n\\n# enable color support of ls and also add handy aliases\\nif [ -x /usr/bin/dircolors ]; then\\n    test -r ~/.dircolors && eval \"$(dircolors -b ~/.dircolors)\" || eval \"$(dircolors -b)\"\\n    alias ls=\\'ls --color=auto\\'\\n    #alias dir=\\'dir --color=auto\\'\\n    #alias vdir=\\'vdir --color=auto\\'\\n\\n    #alias grep=\\'grep --color=auto\\'\\n    #alias fgrep=\\'fgrep --color=auto\\'\\n    #alias egrep=\\'egrep --color=auto\\'\\nfi\\n\\n# colored GCC warnings and errors\\n#export GCC_COLORS=\\'error=01;31:warning=01;35:note=01;36:caret=01;32:locus=01:quote=01\\'\\n\\n# some more ls aliases\\n#alias ll=\\'ls -l\\'\\n#alias la=\\'ls -A\\'\\n#alias l=\\'ls -CF\\'\\n\\n# Alias definitions.\\n# You may want to put all your additions into a separate file like\\n# ~/.bash_aliases, instead of adding them here directly.\\n# See /usr/share/doc/bash-doc/examples in the bash-doc package.\\n\\nif [ -f ~/.bash_aliases ]; then\\n    . ~/.bash_aliases\\nfi\\n\\n# enable programmable completion features (you don\\'t need to enable\\n# this, if it\\'s already enabled in /etc/bash.bashrc and /etc/profile\\n# sources /etc/bash.bashrc).\\nif ! shopt -oq posix; then\\n  if [ -f /usr/share/bash-completion/bash_completion ]; then\\n    . /usr/share/bash-completion/bash_completion\\n  elif [ -f /etc/bash_completion ]; then\\n    . /etc/bash_completion\\n  fi\\nfi\\n\\nexport PATH=/home/dask/opt/local/bin:${PATH}\\n'),\n",
       "  (3,\n",
       "   'read .bashrc',\n",
       "   '# ~/.bashrc: executed by bash(1) for non-login shells.\\n# see /usr/share/doc/bash/examples/startup-files (in the package bash-doc)\\n# for examples\\n\\n# If not running interactively, don\\'t do anything\\ncase $- in\\n    *i*) ;;\\n      *) return;;\\nesac\\n\\n# don\\'t put duplicate lines or lines starting with space in the history.\\n# See bash(1) for more options\\nHISTCONTROL=ignoreboth\\n\\n# append to the history file, don\\'t overwrite it\\nshopt -s histappend\\n\\n# for setting history length see HISTSIZE and HISTFILESIZE in bash(1)\\nHISTSIZE=1000\\nHISTFILESIZE=2000\\n\\n# check the window size after each command and, if necessary,\\n# update the values of LINES and COLUMNS.\\nshopt -s checkwinsize\\n\\n# If set, the pattern \"**\" used in a pathname expansion context will\\n# match all files and zero or more directories and subdirectories.\\n#shopt -s globstar\\n\\n# make less more friendly for non-text input files, see lesspipe(1)\\n#[ -x /usr/bin/lesspipe ] && eval \"$(SHELL=/bin/sh lesspipe)\"\\n\\n# set variable identifying the chroot you work in (used in the prompt below)\\nif [ -z \"${debian_chroot:-}\" ] && [ -r /etc/debian_chroot ]; then\\n    debian_chroot=$(cat /etc/debian_chroot)\\nfi\\n\\n# set a fancy prompt (non-color, unless we know we \"want\" color)\\ncase \"$TERM\" in\\n    xterm-color|*-256color) color_prompt=yes;;\\nesac\\n\\n# uncomment for a colored prompt, if the terminal has the capability; turned\\n# off by default to not distract the user: the focus in a terminal window\\n# should be on the output of commands, not on the prompt\\n#force_color_prompt=yes\\n\\nif [ -n \"$force_color_prompt\" ]; then\\n    if [ -x /usr/bin/tput ] && tput setaf 1 >&/dev/null; then\\n\\t# We have color support; assume it\\'s compliant with Ecma-48\\n\\t# (ISO/IEC-6429). (Lack of such support is extremely rare, and such\\n\\t# a case would tend to support setf rather than setaf.)\\n\\tcolor_prompt=yes\\n    else\\n\\tcolor_prompt=\\n    fi\\nfi\\n\\nif [ \"$color_prompt\" = yes ]; then\\n    PS1=\\'${debian_chroot:+($debian_chroot)}\\\\[\\\\033[01;32m\\\\]\\\\u@\\\\h\\\\[\\\\033[00m\\\\]:\\\\[\\\\033[01;34m\\\\]\\\\w\\\\[\\\\033[00m\\\\]\\\\$ \\'\\nelse\\n    PS1=\\'${debian_chroot:+($debian_chroot)}\\\\u@\\\\h:\\\\w\\\\$ \\'\\nfi\\nunset color_prompt force_color_prompt\\n\\n# If this is an xterm set the title to user@host:dir\\ncase \"$TERM\" in\\nxterm*|rxvt*)\\n    PS1=\"\\\\[\\\\e]0;${debian_chroot:+($debian_chroot)}\\\\u@\\\\h: \\\\w\\\\a\\\\]$PS1\"\\n    ;;\\n*)\\n    ;;\\nesac\\n\\n# enable color support of ls and also add handy aliases\\nif [ -x /usr/bin/dircolors ]; then\\n    test -r ~/.dircolors && eval \"$(dircolors -b ~/.dircolors)\" || eval \"$(dircolors -b)\"\\n    alias ls=\\'ls --color=auto\\'\\n    #alias dir=\\'dir --color=auto\\'\\n    #alias vdir=\\'vdir --color=auto\\'\\n\\n    #alias grep=\\'grep --color=auto\\'\\n    #alias fgrep=\\'fgrep --color=auto\\'\\n    #alias egrep=\\'egrep --color=auto\\'\\nfi\\n\\n# colored GCC warnings and errors\\n#export GCC_COLORS=\\'error=01;31:warning=01;35:note=01;36:caret=01;32:locus=01:quote=01\\'\\n\\n# some more ls aliases\\n#alias ll=\\'ls -l\\'\\n#alias la=\\'ls -A\\'\\n#alias l=\\'ls -CF\\'\\n\\n# Alias definitions.\\n# You may want to put all your additions into a separate file like\\n# ~/.bash_aliases, instead of adding them here directly.\\n# See /usr/share/doc/bash-doc/examples in the bash-doc package.\\n\\nif [ -f ~/.bash_aliases ]; then\\n    . ~/.bash_aliases\\nfi\\n\\n# enable programmable completion features (you don\\'t need to enable\\n# this, if it\\'s already enabled in /etc/bash.bashrc and /etc/profile\\n# sources /etc/bash.bashrc).\\nif ! shopt -oq posix; then\\n  if [ -f /usr/share/bash-completion/bash_completion ]; then\\n    . /usr/share/bash-completion/bash_completion\\n  elif [ -f /etc/bash_completion ]; then\\n    . /etc/bash_completion\\n  fi\\nfi\\n\\nexport PATH=/home/dask/opt/local/bin:${PATH}\\n')]]"
      ]
     },
     "execution_count": 70,
     "metadata": {},
     "output_type": "execute_result"
    }
   ],
   "source": [
    "client.gather(results)\n",
    "# print(results[0].result()[0][2])"
   ]
  },
  {
   "cell_type": "code",
   "execution_count": 17,
   "metadata": {},
   "outputs": [],
   "source": [
    "cluster.shutdown()"
   ]
  },
  {
   "cell_type": "code",
   "execution_count": 21,
   "metadata": {},
   "outputs": [
    {
     "data": {
      "text/plain": [
       "[ClusterReport<name=daskhub.fd3a2fb9478a4264b86a60ccd840de8c, status=PENDING>,\n",
       " ClusterReport<name=daskhub.286d06b40fc247928b672c51d7b63d09, status=PENDING>]"
      ]
     },
     "execution_count": 21,
     "metadata": {},
     "output_type": "execute_result"
    }
   ],
   "source": [
    "clusters = gateway.list_clusters(); clusters"
   ]
  },
  {
   "cell_type": "code",
   "execution_count": 20,
   "metadata": {},
   "outputs": [
    {
     "data": {
      "application/vnd.jupyter.widget-view+json": {
       "model_id": "e903bc3ab8fa4b8da8a8c562aabb8a58",
       "version_major": 2,
       "version_minor": 0
      },
      "text/plain": [
       "VBox(children=(HTML(value='<h2>GatewayCluster</h2>'), HBox(children=(HTML(value='\\n<div>\\n<style scoped>\\n    …"
      ]
     },
     "metadata": {},
     "output_type": "display_data"
    }
   ],
   "source": [
    "cluster"
   ]
  },
  {
   "cell_type": "code",
   "execution_count": 32,
   "metadata": {},
   "outputs": [
    {
     "data": {
      "text/plain": [
       "[ClusterReport<name=daskhub.b2d9f9ce32914d2f9cf4af83932d3f66, status=RUNNING>,\n",
       " ClusterReport<name=daskhub.b7c48cdfbb234366a318f580154f05a6, status=RUNNING>]"
      ]
     },
     "execution_count": 32,
     "metadata": {},
     "output_type": "execute_result"
    }
   ],
   "source": [
    "clusters\n"
   ]
  },
  {
   "cell_type": "code",
   "execution_count": 55,
   "metadata": {},
   "outputs": [
    {
     "name": "stdout",
     "output_type": "stream",
     "text": [
      "ClusterReport<name=daskhub.66c15b6349c44e0fb7e2e117dba88440, status=RUNNING>\n"
     ]
    }
   ],
   "source": [
    "for i in clusters:\n",
    "    print(i); cluster = gateway.connect(i.name); cluster.shutdown()"
   ]
  },
  {
   "cell_type": "code",
   "execution_count": 10,
   "metadata": {},
   "outputs": [
    {
     "ename": "KeyboardInterrupt",
     "evalue": "",
     "output_type": "error",
     "traceback": [
      "\u001b[0;31m---------------------------------------------------------------------------\u001b[0m",
      "\u001b[0;31mKeyboardInterrupt\u001b[0m                         Traceback (most recent call last)",
      "\u001b[0;32m<ipython-input-10-10f100aa43de>\u001b[0m in \u001b[0;36m<module>\u001b[0;34m\u001b[0m\n\u001b[0;32m----> 1\u001b[0;31m \u001b[0mcluster\u001b[0m \u001b[0;34m=\u001b[0m \u001b[0mgateway\u001b[0m\u001b[0;34m.\u001b[0m\u001b[0mconnect\u001b[0m\u001b[0;34m(\u001b[0m\u001b[0mclusters\u001b[0m\u001b[0;34m[\u001b[0m\u001b[0;36m0\u001b[0m\u001b[0;34m]\u001b[0m\u001b[0;34m.\u001b[0m\u001b[0mname\u001b[0m\u001b[0;34m)\u001b[0m\u001b[0;34m\u001b[0m\u001b[0;34m\u001b[0m\u001b[0m\n\u001b[0m",
      "\u001b[0;32m~/users_conda_envs/stare-1/lib/python3.7/site-packages/dask_gateway/client.py\u001b[0m in \u001b[0;36mconnect\u001b[0;34m(self, cluster_name, shutdown_on_close)\u001b[0m\n\u001b[1;32m    607\u001b[0m             \u001b[0mauth\u001b[0m\u001b[0;34m=\u001b[0m\u001b[0mself\u001b[0m\u001b[0;34m.\u001b[0m\u001b[0mauth\u001b[0m\u001b[0;34m,\u001b[0m\u001b[0;34m\u001b[0m\u001b[0;34m\u001b[0m\u001b[0m\n\u001b[1;32m    608\u001b[0m             \u001b[0masynchronous\u001b[0m\u001b[0;34m=\u001b[0m\u001b[0mself\u001b[0m\u001b[0;34m.\u001b[0m\u001b[0masynchronous\u001b[0m\u001b[0;34m,\u001b[0m\u001b[0;34m\u001b[0m\u001b[0;34m\u001b[0m\u001b[0m\n\u001b[0;32m--> 609\u001b[0;31m             \u001b[0mloop\u001b[0m\u001b[0;34m=\u001b[0m\u001b[0mself\u001b[0m\u001b[0;34m.\u001b[0m\u001b[0mloop\u001b[0m\u001b[0;34m,\u001b[0m\u001b[0;34m\u001b[0m\u001b[0;34m\u001b[0m\u001b[0m\n\u001b[0m\u001b[1;32m    610\u001b[0m         )\n\u001b[1;32m    611\u001b[0m \u001b[0;34m\u001b[0m\u001b[0m\n",
      "\u001b[0;32m~/users_conda_envs/stare-1/lib/python3.7/site-packages/dask_gateway/client.py\u001b[0m in \u001b[0;36mfrom_name\u001b[0;34m(cls, cluster_name, shutdown_on_close, address, proxy_address, public_address, auth, asynchronous, loop)\u001b[0m\n\u001b[1;32m    857\u001b[0m             \u001b[0mloop\u001b[0m\u001b[0;34m=\u001b[0m\u001b[0mloop\u001b[0m\u001b[0;34m,\u001b[0m\u001b[0;34m\u001b[0m\u001b[0;34m\u001b[0m\u001b[0m\n\u001b[1;32m    858\u001b[0m             \u001b[0mshutdown_on_close\u001b[0m\u001b[0;34m=\u001b[0m\u001b[0mshutdown_on_close\u001b[0m\u001b[0;34m,\u001b[0m\u001b[0;34m\u001b[0m\u001b[0;34m\u001b[0m\u001b[0m\n\u001b[0;32m--> 859\u001b[0;31m             \u001b[0mname\u001b[0m\u001b[0;34m=\u001b[0m\u001b[0mcluster_name\u001b[0m\u001b[0;34m,\u001b[0m\u001b[0;34m\u001b[0m\u001b[0;34m\u001b[0m\u001b[0m\n\u001b[0m\u001b[1;32m    860\u001b[0m         )\n\u001b[1;32m    861\u001b[0m         \u001b[0;32mreturn\u001b[0m \u001b[0mself\u001b[0m\u001b[0;34m\u001b[0m\u001b[0;34m\u001b[0m\u001b[0m\n",
      "\u001b[0;32m~/users_conda_envs/stare-1/lib/python3.7/site-packages/dask_gateway/client.py\u001b[0m in \u001b[0;36m_init_internal\u001b[0;34m(self, address, proxy_address, public_address, auth, cluster_options, cluster_kwargs, shutdown_on_close, asynchronous, loop, name)\u001b[0m\n\u001b[1;32m    912\u001b[0m             \u001b[0mself\u001b[0m\u001b[0;34m.\u001b[0m\u001b[0mstatus\u001b[0m \u001b[0;34m=\u001b[0m \u001b[0;34m\"starting\"\u001b[0m\u001b[0;34m\u001b[0m\u001b[0;34m\u001b[0m\u001b[0m\n\u001b[1;32m    913\u001b[0m         \u001b[0;32mif\u001b[0m \u001b[0;32mnot\u001b[0m \u001b[0mself\u001b[0m\u001b[0;34m.\u001b[0m\u001b[0masynchronous\u001b[0m\u001b[0;34m:\u001b[0m\u001b[0;34m\u001b[0m\u001b[0;34m\u001b[0m\u001b[0m\n\u001b[0;32m--> 914\u001b[0;31m             \u001b[0mself\u001b[0m\u001b[0;34m.\u001b[0m\u001b[0mgateway\u001b[0m\u001b[0;34m.\u001b[0m\u001b[0msync\u001b[0m\u001b[0;34m(\u001b[0m\u001b[0mself\u001b[0m\u001b[0;34m.\u001b[0m\u001b[0m_start_internal\u001b[0m\u001b[0;34m)\u001b[0m\u001b[0;34m\u001b[0m\u001b[0;34m\u001b[0m\u001b[0m\n\u001b[0m\u001b[1;32m    915\u001b[0m \u001b[0;34m\u001b[0m\u001b[0m\n\u001b[1;32m    916\u001b[0m     \u001b[0;34m@\u001b[0m\u001b[0mproperty\u001b[0m\u001b[0;34m\u001b[0m\u001b[0;34m\u001b[0m\u001b[0m\n",
      "\u001b[0;32m~/users_conda_envs/stare-1/lib/python3.7/site-packages/dask_gateway/client.py\u001b[0m in \u001b[0;36msync\u001b[0;34m(self, func, *args, **kwargs)\u001b[0m\n\u001b[1;32m    337\u001b[0m             )\n\u001b[1;32m    338\u001b[0m             \u001b[0;32mtry\u001b[0m\u001b[0;34m:\u001b[0m\u001b[0;34m\u001b[0m\u001b[0;34m\u001b[0m\u001b[0m\n\u001b[0;32m--> 339\u001b[0;31m                 \u001b[0;32mreturn\u001b[0m \u001b[0mfuture\u001b[0m\u001b[0;34m.\u001b[0m\u001b[0mresult\u001b[0m\u001b[0;34m(\u001b[0m\u001b[0;34m)\u001b[0m\u001b[0;34m\u001b[0m\u001b[0;34m\u001b[0m\u001b[0m\n\u001b[0m\u001b[1;32m    340\u001b[0m             \u001b[0;32mexcept\u001b[0m \u001b[0mBaseException\u001b[0m\u001b[0;34m:\u001b[0m\u001b[0;34m\u001b[0m\u001b[0;34m\u001b[0m\u001b[0m\n\u001b[1;32m    341\u001b[0m                 \u001b[0mfuture\u001b[0m\u001b[0;34m.\u001b[0m\u001b[0mcancel\u001b[0m\u001b[0;34m(\u001b[0m\u001b[0;34m)\u001b[0m\u001b[0;34m\u001b[0m\u001b[0;34m\u001b[0m\u001b[0m\n",
      "\u001b[0;32m~/users_conda_envs/stare-1/lib/python3.7/concurrent/futures/_base.py\u001b[0m in \u001b[0;36mresult\u001b[0;34m(self, timeout)\u001b[0m\n\u001b[1;32m    428\u001b[0m                 \u001b[0;32mreturn\u001b[0m \u001b[0mself\u001b[0m\u001b[0;34m.\u001b[0m\u001b[0m__get_result\u001b[0m\u001b[0;34m(\u001b[0m\u001b[0;34m)\u001b[0m\u001b[0;34m\u001b[0m\u001b[0;34m\u001b[0m\u001b[0m\n\u001b[1;32m    429\u001b[0m \u001b[0;34m\u001b[0m\u001b[0m\n\u001b[0;32m--> 430\u001b[0;31m             \u001b[0mself\u001b[0m\u001b[0;34m.\u001b[0m\u001b[0m_condition\u001b[0m\u001b[0;34m.\u001b[0m\u001b[0mwait\u001b[0m\u001b[0;34m(\u001b[0m\u001b[0mtimeout\u001b[0m\u001b[0;34m)\u001b[0m\u001b[0;34m\u001b[0m\u001b[0;34m\u001b[0m\u001b[0m\n\u001b[0m\u001b[1;32m    431\u001b[0m \u001b[0;34m\u001b[0m\u001b[0m\n\u001b[1;32m    432\u001b[0m             \u001b[0;32mif\u001b[0m \u001b[0mself\u001b[0m\u001b[0;34m.\u001b[0m\u001b[0m_state\u001b[0m \u001b[0;32min\u001b[0m \u001b[0;34m[\u001b[0m\u001b[0mCANCELLED\u001b[0m\u001b[0;34m,\u001b[0m \u001b[0mCANCELLED_AND_NOTIFIED\u001b[0m\u001b[0;34m]\u001b[0m\u001b[0;34m:\u001b[0m\u001b[0;34m\u001b[0m\u001b[0;34m\u001b[0m\u001b[0m\n",
      "\u001b[0;32m~/users_conda_envs/stare-1/lib/python3.7/threading.py\u001b[0m in \u001b[0;36mwait\u001b[0;34m(self, timeout)\u001b[0m\n\u001b[1;32m    294\u001b[0m         \u001b[0;32mtry\u001b[0m\u001b[0;34m:\u001b[0m    \u001b[0;31m# restore state no matter what (e.g., KeyboardInterrupt)\u001b[0m\u001b[0;34m\u001b[0m\u001b[0;34m\u001b[0m\u001b[0m\n\u001b[1;32m    295\u001b[0m             \u001b[0;32mif\u001b[0m \u001b[0mtimeout\u001b[0m \u001b[0;32mis\u001b[0m \u001b[0;32mNone\u001b[0m\u001b[0;34m:\u001b[0m\u001b[0;34m\u001b[0m\u001b[0;34m\u001b[0m\u001b[0m\n\u001b[0;32m--> 296\u001b[0;31m                 \u001b[0mwaiter\u001b[0m\u001b[0;34m.\u001b[0m\u001b[0macquire\u001b[0m\u001b[0;34m(\u001b[0m\u001b[0;34m)\u001b[0m\u001b[0;34m\u001b[0m\u001b[0;34m\u001b[0m\u001b[0m\n\u001b[0m\u001b[1;32m    297\u001b[0m                 \u001b[0mgotit\u001b[0m \u001b[0;34m=\u001b[0m \u001b[0;32mTrue\u001b[0m\u001b[0;34m\u001b[0m\u001b[0;34m\u001b[0m\u001b[0m\n\u001b[1;32m    298\u001b[0m             \u001b[0;32melse\u001b[0m\u001b[0;34m:\u001b[0m\u001b[0;34m\u001b[0m\u001b[0;34m\u001b[0m\u001b[0m\n",
      "\u001b[0;31mKeyboardInterrupt\u001b[0m: "
     ]
    }
   ],
   "source": [
    "cluster = gateway.connect(clusters[0].name)"
   ]
  },
  {
   "cell_type": "code",
   "execution_count": 44,
   "metadata": {},
   "outputs": [],
   "source": [
    "cluster.shutdown(); cluster.close()"
   ]
  },
  {
   "cell_type": "code",
   "execution_count": 11,
   "metadata": {},
   "outputs": [],
   "source": [
    "gateway.close()"
   ]
  },
  {
   "cell_type": "code",
   "execution_count": 1,
   "metadata": {},
   "outputs": [
    {
     "ename": "NameError",
     "evalue": "name 'gateway' is not defined",
     "output_type": "error",
     "traceback": [
      "\u001b[0;31m---------------------------------------------------------------------------\u001b[0m",
      "\u001b[0;31mNameError\u001b[0m                                 Traceback (most recent call last)",
      "\u001b[0;32m<ipython-input-1-f8cbd85b6152>\u001b[0m in \u001b[0;36m<module>\u001b[0;34m\u001b[0m\n\u001b[0;32m----> 1\u001b[0;31m \u001b[0mgateway\u001b[0m\u001b[0;34m.\u001b[0m\u001b[0mlist_clusters\u001b[0m\u001b[0;34m(\u001b[0m\u001b[0;34m)\u001b[0m\u001b[0;34m\u001b[0m\u001b[0;34m\u001b[0m\u001b[0m\n\u001b[0m",
      "\u001b[0;31mNameError\u001b[0m: name 'gateway' is not defined"
     ]
    }
   ],
   "source": [
    "gateway.list_clusters()"
   ]
  },
  {
   "cell_type": "code",
   "execution_count": 60,
   "metadata": {},
   "outputs": [
    {
     "data": {
      "text/plain": [
       "Gateway<http://10.100.222.95:8000/services/dask-gateway>"
      ]
     },
     "execution_count": 60,
     "metadata": {},
     "output_type": "execute_result"
    }
   ],
   "source": [
    "gateway"
   ]
  },
  {
   "cell_type": "code",
   "execution_count": 59,
   "metadata": {},
   "outputs": [],
   "source": [
    "gateway.close()"
   ]
  },
  {
   "cell_type": "code",
   "execution_count": null,
   "metadata": {},
   "outputs": [],
   "source": []
  }
 ],
 "metadata": {
  "kernelspec": {
   "display_name": "Python [conda env:stare-1]",
   "language": "python",
   "name": "conda-env-stare-1-py"
  },
  "language_info": {
   "codemirror_mode": {
    "name": "ipython",
    "version": 3
   },
   "file_extension": ".py",
   "mimetype": "text/x-python",
   "name": "python",
   "nbconvert_exporter": "python",
   "pygments_lexer": "ipython3",
   "version": "3.7.8"
  }
 },
 "nbformat": 4,
 "nbformat_minor": 4
}
