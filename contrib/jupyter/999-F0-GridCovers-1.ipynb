{
 "cells": [
  {
   "cell_type": "code",
   "execution_count": 1,
   "id": "d02b61d4",
   "metadata": {},
   "outputs": [],
   "source": [
    "import pystare\n",
    "import pystareplotlib\n",
    "import pystareplotlib.pystareplotlib as psplot\n",
    "from pystareplotlib.pystareplotlib import *\n",
    "\n",
    "import matplotlib as mpl\n",
    "import matplotlib.pyplot as plt\n",
    "import matplotlib.tri as tri\n",
    "from matplotlib.colors import ListedColormap\n",
    "import matplotlib.cm as cm\n",
    "import matplotlib.ticker as mticker\n",
    "\n",
    "import cartopy.crs as ccrs\n",
    "import cartopy.feature as cf\n",
    "from cartopy.geodesic import Geodesic\n",
    "\n",
    "import numpy\n",
    "import math\n",
    "from math import sqrt,sin,cos\n",
    "\n",
    "import pyproj\n",
    "import scipy.linalg\n",
    "from scipy.linalg import expm, norm\n",
    "\n",
    "import geopandas\n",
    "import starepandas"
   ]
  },
  {
   "cell_type": "code",
   "execution_count": 2,
   "id": "22198897",
   "metadata": {},
   "outputs": [],
   "source": [
    "import h5py"
   ]
  },
  {
   "cell_type": "code",
   "execution_count": 3,
   "id": "9c2cc789",
   "metadata": {},
   "outputs": [
    {
     "name": "stdout",
     "output_type": "stream",
     "text": [
      "Current DPI:  100.0\n"
     ]
    }
   ],
   "source": [
    "# Define Global Constants and State Variables\n",
    "# -------------------------------------------\n",
    "\n",
    "# Set up the projection and transformation\n",
    "PROJ = ccrs.PlateCarree()\n",
    "# PROJ = ccrs.Robinson()\n",
    "# PROJ = ccrs.Mollweide()\n",
    "TRANSF = ccrs.Geodetic()\n",
    "USR_SET_GLOBAL = True\n",
    "\n",
    "# Plot options\n",
    "#matplotlib notebook\n",
    "%matplotlib inline\n",
    "\n",
    "usr_plot_options = {'projection': PROJ, 'transform': TRANSF}\n",
    "DEFAULT_DPI = mpl.rcParamsDefault['figure.dpi']\n",
    "\n",
    "#mpl.rcParams['figure.dpi'] = 1.5 * DEFAULT_DPI\n",
    "#mpl.rcParams['legend.fontsize'] = 6\n",
    "\n",
    "mpl.rcParams['figure.dpi'] = 2 * DEFAULT_DPI\n",
    "mpl.rcParams['legend.fontsize'] = 6\n",
    "mpl.rcParams['figure.figsize'] = [3, 3]\n",
    "\n",
    "print('Current DPI: ',mpl.rcParamsDefault['figure.dpi'])"
   ]
  },
  {
   "cell_type": "code",
   "execution_count": 4,
   "id": "ccaaf56a",
   "metadata": {},
   "outputs": [],
   "source": [
    "nearside_plot_options = {\n",
    "    'projection':\n",
    "    ccrs.NearsidePerspective(central_longitude=-179.9\n",
    "                             ,central_latitude=-89.9\n",
    "                             ,satellite_height=35785831\n",
    "                             ,false_easting=0\n",
    "                             ,false_northing=0\n",
    "                             ,globe=None)\n",
    "    ,'transform': ccrs.Geodetic()\n",
    "}"
   ]
  },
  {
   "cell_type": "markdown",
   "id": "104f2ce5",
   "metadata": {},
   "source": [
    "From [The IMERG multi-satellite precipitation estimates reformatted as 2-byte GeoTIFF files\n",
    "for display in a Geographic Information System](https://gpm.nasa.gov/sites/default/files/2020-06/IMERG-GIS-Readme_4_22_20.pdf).\n",
    "\n",
    "Both the HDF5 and GIS versions of IMERG contain rectangular latitude-longitude grids that have 3600 columns for longitude and 1800 rows for latitude. This grid covers the globe (90°S to 90°N and 180°W to 180°E) at 0.1° resolution."
   ]
  },
  {
   "cell_type": "code",
   "execution_count": 5,
   "id": "f08af7cf",
   "metadata": {},
   "outputs": [],
   "source": [
    "def mp(l):\n",
    "    return list(l)+[l[0]]"
   ]
  },
  {
   "cell_type": "code",
   "execution_count": null,
   "id": "6f22f655",
   "metadata": {},
   "outputs": [],
   "source": []
  },
  {
   "cell_type": "code",
   "execution_count": 98,
   "id": "fd765773",
   "metadata": {},
   "outputs": [],
   "source": [
    "class grid:\n",
    "    def __init__(self,x,y,nx_intervals,ny_intervals,name=''):\n",
    "        self.x = x\n",
    "        self.y = y\n",
    "        self.nx_intervals = nx_intervals\n",
    "        self.ny_intervals = ny_intervals\n",
    "        self.Lx=x[1]-x[0]\n",
    "        self.Ly=y[1]-y[0]\n",
    "        self.dx=self.Lx/nx_intervals\n",
    "        self.dy=self.Ly/ny_intervals\n",
    "        self.name = name\n",
    "    def corners(self,i,j):\n",
    "        dx = self.dx\n",
    "        dy = self.dy\n",
    "        x0 = self.x[0]\n",
    "        y0 = self.y[0]\n",
    "        corners = []\n",
    "        x = x0 + i*dx; y = y0 + j*dy\n",
    "        corners = corners + [(x,y)]\n",
    "        x = x0 + (i+1)*dx; y = y0 + j*dy\n",
    "        corners = corners + [(x,y)]\n",
    "        x = x0 + (i+1)*dx; y = y0 + (j+1)*dy\n",
    "        corners = corners + [(x,y)]\n",
    "        x = x0 + i*dx; y = y0 + (j+1)*dy\n",
    "        corners = corners + [(x,y)]\n",
    "        return corners\n",
    "#        return [(i*dx,j*dy),((i+1)*dx,j*dy),((i+1)*dx,(j+1)*dy),((i)*dx,(j+1)*dy)]\n",
    "    def corners2(self,i,j):\n",
    "        return zip(*self.corners(i,j))\n",
    "    def centroid(self,i,j):\n",
    "        corners2 = list(self.corners2(i,j))\n",
    "#        print(corners2)\n",
    "#        print(list(corners2[0]))\n",
    "        lon = sum(list(corners2[0]))/4.0\n",
    "        lat = sum(list(corners2[1]))/4.0\n",
    "        return lon,lat\n",
    "    def sivs(self,i,j,level=None):\n",
    "        lonlats = list(self.corners2(i,j))\n",
    "        lons = lonlats[0]\n",
    "        lats = lonlats[1]\n",
    "        lon_,lat_=self.centroid(i,j)\n",
    "#        print(lons,lats,lon_,lat_)\n",
    "\n",
    "        center = pystare.from_latlon([lat_],[lon_],27)\n",
    "        corners = pystare.from_latlon(lats,lons,27)\n",
    "#        print('corners: ',corners)\n",
    "        corners = pystare.adapt_resolution_to_proximity([corners[0],corners[2]])\n",
    "#        print('corners: ',corners)\n",
    "        corner_level = corners[0] & 31\n",
    "        center[0] = (center[0] & ~31) + corner_level\n",
    "#        center[0] = (center[0] & ~31) + (corner_level - 1)\n",
    "    \n",
    "#        print('cl: ',corner_level+1)\n",
    "\n",
    "#        print('level: ',level,type(level))\n",
    "        if level is None:\n",
    "            cover = pystare.cover_from_ring(lats,lons,level=int(corner_level + 4))\n",
    "        else:\n",
    "            cover = pystare.cover_from_ring(lats,lons,level=int(level))\n",
    "        \n",
    "        return \\\n",
    "            [cover,lons,lats]\\\n",
    "            ,[center,[lon_],[lat_]]\n",
    "    def to_h5(self,filename,level=None):\n",
    "        f = h5py.File(filename,'w')\n",
    "        info = f.create_group('info')\n",
    "        info.create_dataset('name',data = filename)\n",
    "        info.create_dataset('nx_intervals',data = self.nx_intervals)\n",
    "        info.create_dataset('ny_intervals',data = self.ny_intervals)\n",
    "\n",
    "        cells = f.create_group('cells')\n",
    "        index = f.create_group('stare_index')\n",
    "        for j in range(self.ny_intervals):\n",
    "            for i in range(self.nx_intervals):\n",
    "                sivs,centroid = self.sivs(i,j,level)\n",
    "                \n",
    "                if level is None:\n",
    "                    level = (centroid[0][0] & 31) + 4\n",
    "                \n",
    "                l = i + self.nx_intervals*j\n",
    "\n",
    "                jgroup = cells.create_group(str(i)+'/'+str(j))\n",
    "                \n",
    "                jgroup.create_dataset('i',data   = i)\n",
    "                jgroup.create_dataset('j',data   = j)\n",
    "                jgroup.create_dataset('ij',data  = l)\n",
    "                \n",
    "                jgroup.create_dataset('ncorners',data = len(sivs[1]))\n",
    "                jgroup.create_dataset('level',   data = level)\n",
    "                \n",
    "                jgroup.create_dataset('lons',data  = sivs[1])\n",
    "                jgroup.create_dataset('lats',data  = sivs[2])\n",
    "                jgroup.create_dataset('lon_centroid',data  = centroid[1][0])\n",
    "                jgroup.create_dataset('lat_centroid',data  = centroid[2][0])\n",
    "                \n",
    "                jgroup.create_dataset('sivs',data  = sivs[0])\n",
    "                jgroup.create_dataset('sidx',data  = centroid[0][0])\n",
    "                \n",
    "                c_level = centroid[0][0] & 31\n",
    "                \n",
    "                for s in sivs[0]:\n",
    "                    s_c_level = pystare.spatial_clear_to_resolution(\n",
    "                        pystare.spatial_coerce_resolution(s,c_level))\n",
    "                    # bug hidx0 = hex(s_c_level)\n",
    "                    hidx0 = '0x{n:016x}'.format(n=s_c_level)\n",
    "                    # hidx  = hex((s_c_level & ~31)/2)\n",
    "                    hidx = hidx0[0:4]+'/'+hidx0[4:6]+'/'+hidx0[6:8]+'/'+hidx0[8:10]+'/'+hidx0[10:12]+'/'+hidx0[12:]\n",
    "                    try:\n",
    "                        s_c_group = index.create_group(hidx)\n",
    "                    except ValueError:\n",
    "                        s_c_group = index[hidx]\n",
    "                    try:\n",
    "                        s_c_ij_group = s_c_group.create_group(str(i)+'/'+str(j))\n",
    "                        s_c_ij_group.create_dataset('i', data = i)\n",
    "                        s_c_ij_group.create_dataset('j', data = j)\n",
    "                    except ValueError:\n",
    "                        pass\n",
    "                \n",
    "        f.close()\n",
    "        return True\n",
    "                \n",
    "                "
   ]
  },
  {
   "cell_type": "code",
   "execution_count": 97,
   "id": "4eaf1f43",
   "metadata": {},
   "outputs": [
    {
     "data": {
      "text/plain": [
       "'0x000000000000000c'"
      ]
     },
     "execution_count": 97,
     "metadata": {},
     "output_type": "execute_result"
    }
   ],
   "source": [
    "'0x{n:016x}'.format(n=12)"
   ]
  },
  {
   "cell_type": "code",
   "execution_count": null,
   "id": "7b75a40b",
   "metadata": {},
   "outputs": [],
   "source": [
    "g10 = grid((0,1),(0,1),10,10)"
   ]
  },
  {
   "cell_type": "code",
   "execution_count": null,
   "id": "f4ba58c3",
   "metadata": {},
   "outputs": [],
   "source": [
    "g10.to_h5('g10.h5',9)"
   ]
  },
  {
   "cell_type": "code",
   "execution_count": null,
   "id": "e2d520bd",
   "metadata": {},
   "outputs": [],
   "source": [
    "!open g10.h5"
   ]
  },
  {
   "cell_type": "code",
   "execution_count": null,
   "id": "da51e555",
   "metadata": {},
   "outputs": [],
   "source": [
    "!rm g10.h5"
   ]
  },
  {
   "cell_type": "code",
   "execution_count": null,
   "id": "15d5c6cc",
   "metadata": {},
   "outputs": [],
   "source": [
    "hex(4430990060083997897)"
   ]
  },
  {
   "cell_type": "code",
   "execution_count": null,
   "id": "736ca89f",
   "metadata": {},
   "outputs": [],
   "source": [
    "list(map(hex,[4431031859937280009, 4431036257983791113, 4431038457007046665]))"
   ]
  },
  {
   "cell_type": "markdown",
   "id": "05be578d",
   "metadata": {},
   "source": []
  },
  {
   "cell_type": "code",
   "execution_count": null,
   "id": "fd01ff9b",
   "metadata": {},
   "outputs": [],
   "source": [
    "sivs,centroid=g10.sivs(0,6,9)\n",
    "sivs,centroid,list(map(hex,sivs[0]))"
   ]
  },
  {
   "cell_type": "code",
   "execution_count": null,
   "id": "a8d9dff0",
   "metadata": {},
   "outputs": [],
   "source": [
    "s1 = int(4431101784210725450)\n",
    "for r in [11,10,9,8,7,6,5,4,3,2,1,0]:\n",
    "    s = pystare.spatial_clear_to_resolution(pystare.spatial_coerce_resolution(s1,r))\n",
    "    print(\n",
    "#        r,'\\n'\n",
    "#         ,hex(int((s & ~31))),'\\n'\n",
    "         hex(int((s & ~31)/2))\n",
    "    )"
   ]
  },
  {
   "cell_type": "code",
   "execution_count": null,
   "id": "6181b856",
   "metadata": {},
   "outputs": [],
   "source": []
  },
  {
   "cell_type": "code",
   "execution_count": null,
   "id": "9c5c585b",
   "metadata": {},
   "outputs": [],
   "source": []
  },
  {
   "cell_type": "code",
   "execution_count": null,
   "id": "f103d154",
   "metadata": {},
   "outputs": [],
   "source": [
    "sivs,centroid"
   ]
  },
  {
   "cell_type": "code",
   "execution_count": null,
   "id": "2fb25dad",
   "metadata": {},
   "outputs": [],
   "source": [
    "centroid[0][0] & 31"
   ]
  },
  {
   "cell_type": "code",
   "execution_count": null,
   "id": "ab8a7ecd",
   "metadata": {},
   "outputs": [],
   "source": [
    "g10.corners(0,0)"
   ]
  },
  {
   "cell_type": "code",
   "execution_count": null,
   "id": "ba7f4d44",
   "metadata": {},
   "outputs": [],
   "source": [
    "g10.centroid(0,0)"
   ]
  },
  {
   "cell_type": "code",
   "execution_count": null,
   "id": "6ab02b82",
   "metadata": {},
   "outputs": [],
   "source": [
    "g20 = grid((0,1),(0,1),20,20)"
   ]
  },
  {
   "cell_type": "code",
   "execution_count": 100,
   "id": "7c187099",
   "metadata": {},
   "outputs": [],
   "source": [
    "gImerg = grid((-180,180),(-90,90),3600,1800)"
   ]
  },
  {
   "cell_type": "code",
   "execution_count": null,
   "id": "a946f649",
   "metadata": {},
   "outputs": [],
   "source": [
    "gImerg.corners(0,0)"
   ]
  },
  {
   "cell_type": "code",
   "execution_count": null,
   "id": "07f6ba7b",
   "metadata": {},
   "outputs": [],
   "source": [
    "# i=1800; j=900\n",
    "# i=50; j=50\n",
    "# i=5; j = 5\n",
    "i=0; j = 1\n",
    "\n",
    "lonlats = list(gImerg.corners2(i,j))\n",
    "lons = lonlats[0]\n",
    "lats = lonlats[1]\n",
    "lon_,lat_=gImerg.centroid(i,j)"
   ]
  },
  {
   "cell_type": "code",
   "execution_count": 101,
   "id": "ce2c07ad",
   "metadata": {},
   "outputs": [],
   "source": [
    "gImerg = grid((-180,180),(-90,90),3600,1800)"
   ]
  },
  {
   "cell_type": "code",
   "execution_count": 102,
   "id": "4f221abf",
   "metadata": {},
   "outputs": [
    {
     "data": {
      "text/plain": [
       "True"
      ]
     },
     "execution_count": 102,
     "metadata": {},
     "output_type": "execute_result"
    }
   ],
   "source": [
    "gImerg.to_h5('imerg.h5')"
   ]
  },
  {
   "cell_type": "code",
   "execution_count": 99,
   "id": "866d434a",
   "metadata": {},
   "outputs": [
    {
     "name": "stdout",
     "output_type": "stream",
     "text": [
      "rm: imerg.h5: No such file or directory\r\n"
     ]
    }
   ],
   "source": [
    "! rm imerg.h5"
   ]
  },
  {
   "cell_type": "code",
   "execution_count": null,
   "id": "c4cec68a",
   "metadata": {},
   "outputs": [],
   "source": [
    "gr = gImerg"
   ]
  },
  {
   "cell_type": "code",
   "execution_count": null,
   "id": "d3b358b5",
   "metadata": {},
   "outputs": [],
   "source": [
    "gr = g10"
   ]
  },
  {
   "cell_type": "code",
   "execution_count": 76,
   "id": "a7fc1c80",
   "metadata": {},
   "outputs": [
    {
     "ename": "NameError",
     "evalue": "name 'gr' is not defined",
     "output_type": "error",
     "traceback": [
      "\u001b[0;31m---------------------------------------------------------------------------\u001b[0m",
      "\u001b[0;31mNameError\u001b[0m                                 Traceback (most recent call last)",
      "\u001b[0;32m/var/folders/q9/t6pps0j954l457p2dlg95bw00000gn/T/ipykernel_24586/1982962180.py\u001b[0m in \u001b[0;36m<module>\u001b[0;34m\u001b[0m\n\u001b[1;32m      9\u001b[0m \u001b[0;34m\u001b[0m\u001b[0m\n\u001b[1;32m     10\u001b[0m \u001b[0;31m# sivs,centroid = gr.sivs(i,j,level)\u001b[0m\u001b[0;34m\u001b[0m\u001b[0;34m\u001b[0m\u001b[0m\n\u001b[0;32m---> 11\u001b[0;31m \u001b[0msivs\u001b[0m\u001b[0;34m,\u001b[0m\u001b[0mcentroid\u001b[0m \u001b[0;34m=\u001b[0m \u001b[0mgr\u001b[0m\u001b[0;34m.\u001b[0m\u001b[0msivs\u001b[0m\u001b[0;34m(\u001b[0m\u001b[0mi\u001b[0m\u001b[0;34m,\u001b[0m\u001b[0mj\u001b[0m\u001b[0;34m)\u001b[0m\u001b[0;34m\u001b[0m\u001b[0;34m\u001b[0m\u001b[0m\n\u001b[0m\u001b[1;32m     12\u001b[0m \u001b[0;34m\u001b[0m\u001b[0m\n\u001b[1;32m     13\u001b[0m \u001b[0mlons\u001b[0m \u001b[0;34m=\u001b[0m \u001b[0msivs\u001b[0m\u001b[0;34m[\u001b[0m\u001b[0;36m1\u001b[0m\u001b[0;34m]\u001b[0m\u001b[0;34m\u001b[0m\u001b[0;34m\u001b[0m\u001b[0m\n",
      "\u001b[0;31mNameError\u001b[0m: name 'gr' is not defined"
     ]
    }
   ],
   "source": [
    "# i=1800; j=900\n",
    "# i=500; j=500\n",
    "i=500; j=100\n",
    "# i=50; j=50\n",
    "# i=5; j = 5\n",
    "# i=0; j = 1\n",
    "\n",
    "level = 13\n",
    "\n",
    "# sivs,centroid = gr.sivs(i,j,level)\n",
    "sivs,centroid = gr.sivs(i,j)\n",
    "\n",
    "lons = sivs[1]\n",
    "lats = sivs[2]\n",
    "lon_ = centroid[1][0]\n",
    "lat_ = centroid[2][0]\n",
    "sivs = sivs[0]"
   ]
  },
  {
   "cell_type": "code",
   "execution_count": 114,
   "id": "90a470ad",
   "metadata": {},
   "outputs": [],
   "source": [
    "f.close()"
   ]
  },
  {
   "cell_type": "code",
   "execution_count": 103,
   "id": "d266a435",
   "metadata": {},
   "outputs": [],
   "source": [
    "f = h5py.File('imerg.h5','r')\n",
    "\n",
    "cells = f.get('cells')"
   ]
  },
  {
   "cell_type": "code",
   "execution_count": 104,
   "id": "5e78887a",
   "metadata": {},
   "outputs": [],
   "source": [
    "ij = '1800/900/'\n",
    "ij = '900/900/'\n",
    "ij = '900/100/'\n",
    "\n",
    "sivs = cells[ij+'sivs'][:]\n",
    "\n",
    "lons = cells[ij+'lons'][:]\n",
    "lats = cells[ij+'lats'][:]\n",
    "lon_ = cells[ij+'lon_centroid'][()]\n",
    "lat_ = cells[ij+'lat_centroid'][()]\n",
    "\n",
    "sidx = [cells[ij+'sidx'][()]]\n",
    "\n",
    "\n"
   ]
  },
  {
   "cell_type": "code",
   "execution_count": 105,
   "id": "8cae7521",
   "metadata": {},
   "outputs": [],
   "source": [
    "index = f.get('stare_index')"
   ]
  },
  {
   "cell_type": "code",
   "execution_count": 106,
   "id": "8de624b0",
   "metadata": {},
   "outputs": [
    {
     "data": {
      "text/plain": [
       "<KeysViewHDF5 ['000009']>"
      ]
     },
     "execution_count": 106,
     "metadata": {},
     "output_type": "execute_result"
    }
   ],
   "source": [
    "index['0x10/00/00/00/00/'].keys()"
   ]
  },
  {
   "cell_type": "code",
   "execution_count": 113,
   "id": "b055433b",
   "metadata": {},
   "outputs": [
    {
     "data": {
      "text/plain": [
       "<KeysViewHDF5 ['96', '97', '98', '99']>"
      ]
     },
     "execution_count": 113,
     "metadata": {},
     "output_type": "execute_result"
    }
   ],
   "source": [
    "index['0x10/00/00/00/00/000009'].keys()"
   ]
  },
  {
   "cell_type": "code",
   "execution_count": 107,
   "id": "f5bbeb33",
   "metadata": {},
   "outputs": [
    {
     "name": "stdout",
     "output_type": "stream",
     "text": [
      "[2301680294698156046 2301680296845639694 2301680298993123342\n",
      " 2301680301140606990 2301680303288090638 2301680305435574286\n",
      " 2301680307583057934 2301680311878025230 2301680314025508878\n",
      " 2301680316172992526 2301680318320476174 2301680320467959822\n",
      " 2301680322615443470 2301680324762927118 2301680344090279950\n",
      " 2301680361270149134 2301680543806259214 2301680550248710158\n",
      " 2301680552396193806 2301680554543677454 2301680556691161102\n",
      " 2301680558838644750 2301680560986128398 2301680565281095694\n",
      " 2301680576018513934 2301680578165997582 2301680580313481230\n",
      " 2301680582460964878 2301680610378252302 2301680612525735950\n",
      " 2301680616820703246 2301680618968186894 2301680623263154190\n",
      " 2301680625410637838 2301680627558121486 2301680636148056078\n",
      " 2301680638295539726 2301680640443023374 2301680642590507022\n",
      " 2301680644737990670 2301680646885474318 2301680649032957966\n",
      " 2301680651180441614 2301680655475408910 2301680657622892558\n",
      " 2301680659770376206 2301680661917859854 2301680664065343502\n",
      " 2301680666212827150 2301680668360310798 2301680679097729038\n",
      " 2301680681245212686 2301680685540179982 2301680713457467406\n",
      " 2301680715604951054 2301680719899918350 2301680722047401998\n",
      " 2301680724194885646 2301680726342369294 2301680728489852942\n",
      " 2301680730637336590 2301680743522238478 2301680756407140366\n",
      " 2301680758554624014 2301680760702107662 2301680762849591310\n",
      " 2301680764997074958 2301680767144558606 2301680771439525902\n",
      " 2301680773587009550 2301680775734493198 2301680777881976846\n",
      " 2301680780029460494 2301680790766878734 2301680792914362382\n",
      " 2301680795061846030 2301680797209329678 2301680799356813326\n",
      " 2301680801504296974 2301680803651780622 2301680805799264270\n",
      " 2301682053487263758 2301682057782231054 2301682059929714702]\n",
      "[-90.  -89.9 -89.9 -90. ]\n",
      "[-80.  -80.  -79.9 -79.9]\n",
      "-89.94999999999999\n",
      "-79.95\n",
      "[2301680798294543434]\n"
     ]
    }
   ],
   "source": [
    "for i in (sivs,lons,lats,lon_,lat_,sidx):\n",
    "    print(i)"
   ]
  },
  {
   "cell_type": "code",
   "execution_count": null,
   "id": "fbfd5599",
   "metadata": {},
   "outputs": [],
   "source": []
  },
  {
   "cell_type": "code",
   "execution_count": 108,
   "id": "b921e427",
   "metadata": {},
   "outputs": [],
   "source": [
    "nearside_plot_options = {\n",
    "    'projection':\n",
    "    ccrs.NearsidePerspective(central_longitude=lon_\n",
    "                             ,central_latitude=lat_\n",
    "#                             ,satellite_height=35785831\n",
    "                             ,satellite_height= 3000000\n",
    "                             ,false_easting=0\n",
    "                             ,false_northing=0\n",
    "                             ,globe=None)\n",
    "    ,'transform': ccrs.Geodetic()\n",
    "}"
   ]
  },
  {
   "cell_type": "code",
   "execution_count": 109,
   "id": "f78f8c00",
   "metadata": {},
   "outputs": [
    {
     "ename": "NameError",
     "evalue": "name 'centroid' is not defined",
     "output_type": "error",
     "traceback": [
      "\u001b[0;31m---------------------------------------------------------------------------\u001b[0m",
      "\u001b[0;31mNameError\u001b[0m                                 Traceback (most recent call last)",
      "\u001b[0;32m/var/folders/q9/t6pps0j954l457p2dlg95bw00000gn/T/ipykernel_24586/1355487085.py\u001b[0m in \u001b[0;36m<module>\u001b[0;34m\u001b[0m\n\u001b[0;32m----> 1\u001b[0;31m \u001b[0mhex\u001b[0m\u001b[0;34m(\u001b[0m\u001b[0mcentroid\u001b[0m\u001b[0;34m[\u001b[0m\u001b[0;36m0\u001b[0m\u001b[0;34m]\u001b[0m\u001b[0;34m[\u001b[0m\u001b[0;36m0\u001b[0m\u001b[0;34m]\u001b[0m\u001b[0;34m)\u001b[0m\u001b[0;34m\u001b[0m\u001b[0;34m\u001b[0m\u001b[0m\n\u001b[0m",
      "\u001b[0;31mNameError\u001b[0m: name 'centroid' is not defined"
     ]
    }
   ],
   "source": [
    "hex(centroid[0][0])"
   ]
  },
  {
   "cell_type": "code",
   "execution_count": null,
   "id": "b9f8cc07",
   "metadata": {},
   "outputs": [],
   "source": [
    "hex(pystare.spatial_clear_to_resolution(centroid[0][0]))"
   ]
  },
  {
   "cell_type": "code",
   "execution_count": 110,
   "id": "d129ea2f",
   "metadata": {},
   "outputs": [
    {
     "data": {
      "text/plain": [
       "[2301680798294543434]"
      ]
     },
     "execution_count": 110,
     "metadata": {},
     "output_type": "execute_result"
    }
   ],
   "source": [
    "sidx"
   ]
  },
  {
   "cell_type": "code",
   "execution_count": 111,
   "id": "5203bc53",
   "metadata": {},
   "outputs": [
    {
     "name": "stdout",
     "output_type": "stream",
     "text": [
      "100\n",
      "200\n",
      "300\n"
     ]
    },
    {
     "data": {
      "image/png": "[encoded data removed]",
      "text/plain": [
       "<Figure size 600x600 with 1 Axes>"
      ]
     },
     "metadata": {
      "needs_background": "light"
     },
     "output_type": "display_data"
    }
   ],
   "source": [
    "print('100')\n",
    "figax,sivs_cache,sivs_triang = hello_plot(\n",
    "    spatial_index_values=sivs\n",
    "    ,set_coastlines=False\n",
    "    ,plot_options=nearside_plot_options\n",
    "#    ,plot_options=usr_plot_options\n",
    "#    ,set_global=True\n",
    "    ,set_global=False\n",
    "    ,show_fig=False\n",
    "    ,color='g'\n",
    ")\n",
    "\n",
    "# sidx = centroid[0]\n",
    "\n",
    "if True:\n",
    "    print('200')\n",
    "    figax,sivs_cache_2,sivs_triang_2 = hello_plot(\n",
    "        figax=figax\n",
    "        ,spatial_index_values=sidx\n",
    "    #    ,spatial_index_values = sivs\n",
    "        ,plot_options=nearside_plot_options\n",
    "    #    ,plot_options=usr_plot_options\n",
    "    #    ,set_global=True\n",
    "        ,show_fig=False\n",
    "        ,color='b')\n",
    "\n",
    "if True:\n",
    "    print('300')\n",
    "    color='r'\n",
    "    ls='-'\n",
    "    lw=1\n",
    "    figax.ax.plot(mp(lons),mp(lats)\n",
    "                    ,transform=nearside_plot_options['transform']\n",
    "                    ,color=color\n",
    "                    ,linestyle=ls\n",
    "                    ,lw=lw*0.6)\n",
    "\n",
    "plt.show() # May have to Cell->Current Outputs->Toggle Scrolling to see full figure.\n",
    "del figax"
   ]
  },
  {
   "cell_type": "code",
   "execution_count": null,
   "id": "ae25d673",
   "metadata": {},
   "outputs": [],
   "source": []
  },
  {
   "cell_type": "code",
   "execution_count": null,
   "id": "b18ef949",
   "metadata": {},
   "outputs": [],
   "source": []
  }
 ],
 "metadata": {
  "kernelspec": {
   "display_name": "Python 3 (ipykernel)",
   "language": "python",
   "name": "python3"
  },
  "language_info": {
   "codemirror_mode": {
    "name": "ipython",
    "version": 3
   },
   "file_extension": ".py",
   "mimetype": "text/x-python",
   "name": "python",
   "nbconvert_exporter": "python",
   "pygments_lexer": "ipython3",
   "version": "3.9.7"
  }
 },
 "nbformat": 4,
 "nbformat_minor": 5
}
