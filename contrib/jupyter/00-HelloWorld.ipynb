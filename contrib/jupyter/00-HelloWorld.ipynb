{
 "cells": [
  {
   "cell_type": "code",
   "execution_count": null,
   "metadata": {},
   "outputs": [],
   "source": [
    "import pystare as ps\n",
    "\n",
    "import matplotlib as mpl\n",
    "import matplotlib.pyplot as plt\n",
    "import matplotlib.tri as tri\n",
    "import cartopy.crs as ccrs"
   ]
  },
  {
   "cell_type": "code",
   "execution_count": null,
   "metadata": {},
   "outputs": [],
   "source": [
    "def add_coastlines(figax):\n",
    "    ax = figax[1]\n",
    "    ax.set_global()\n",
    "    ax.coastlines()\n",
    "    return figax\n",
    "\n",
    "def hello_plot(\n",
    "        spatial_index_values=None\n",
    "        ,figax=None\n",
    "        ,plot_options={'projection':ccrs.PlateCarree(),'transform':ccrs.Geodetic()}\n",
    "        ,show=True\n",
    "        ):\n",
    "\n",
    "    if figax is None:\n",
    "        fig,ax = plt.subplots(1,subplot_kw=plot_options)\n",
    "        ax.set_global()\n",
    "        ax.coastlines()\n",
    "        figax = [fig,ax]\n",
    "    else:\n",
    "        ax = figax[1]\n",
    "    \n",
    "    if spatial_index_values is not None:\n",
    "        lons,lats,intmat = ps.triangulate_indices(spatial_index_values)\n",
    "        siv_triang = tri.Triangulation(lons,lats,intmat)\n",
    "        ax.triplot(siv_triang,transform=plot_options['transform'])\n",
    "    \n",
    "    if show:\n",
    "        plt.show()\n",
    "        \n",
    "    return figax\n",
    "\n",
    "def hex16(i):\n",
    "    return \"0x%016x\"%i"
   ]
  },
  {
   "cell_type": "code",
   "execution_count": null,
   "metadata": {},
   "outputs": [],
   "source": [
    "# Set up the projection and transformation\n",
    "proj         = ccrs.PlateCarree()\n",
    "# proj        = ccrs.Robinson() # Drives matplotlib bug.\n",
    "# proj        = ccrs.Mollweide() # Drives matplotlib bug.\n",
    "transf       = ccrs.Geodetic()\n",
    "plot_options = {'projection':proj,'transform':transf}"
   ]
  },
  {
   "cell_type": "code",
   "execution_count": null,
   "metadata": {},
   "outputs": [],
   "source": [
    "figax = add_coastlines(plt.subplots(1,subplot_kw=plot_options))\n",
    "\n",
    "siv = 0 # STARE Spatial Index Value, geolocation bits are 0, resolution level is 0.\n",
    "print(\"Spatial ID\",hex16(siv),siv)\n",
    "\n",
    "figax = hello_plot([siv],figax)\n"
   ]
  },
  {
   "cell_type": "code",
   "execution_count": null,
   "metadata": {},
   "outputs": [],
   "source": [
    "# level_zero_increment = 1 << 59\n",
    "level_zero_increment = ps.spatial_increment_from_level(0)\n",
    "figax = add_coastlines(plt.subplots(subplot_kw={'projection':proj,'transform':transf}))\n",
    "\n",
    "for siv in range(0,8*level_zero_increment,level_zero_increment):\n",
    "    print(\"Spatial ID\",hex16(siv),siv)\n",
    "    hello_plot([siv],figax,plot_options,show=False)\n",
    "plt.show()"
   ]
  },
  {
   "cell_type": "code",
   "execution_count": null,
   "metadata": {},
   "outputs": [],
   "source": [
    "# level_one_increment = 1 << 57\n",
    "level_one_increment = ps.spatial_increment_from_level(1)\n",
    "figax = add_coastlines(plt.subplots(subplot_kw={'projection':proj,'transform':transf}))\n",
    "\n",
    "# Iterate over resolution level 1 triangles making up siv = 0.\n",
    "for siv in range(0,4*level_one_increment,level_one_increment):\n",
    "    siv = siv + 1 # set the resolution level to 1\n",
    "    print(\"Spatial ID\",hex16(siv),siv)\n",
    "    hello_plot([siv],figax,plot_options,show=False)\n",
    "plt.show()"
   ]
  }
 ],
 "metadata": {
  "kernelspec": {
   "display_name": "Python 3",
   "language": "python",
   "name": "python3"
  },
  "language_info": {
   "codemirror_mode": {
    "name": "ipython",
    "version": 3
   },
   "file_extension": ".py",
   "mimetype": "text/x-python",
   "name": "python",
   "nbconvert_exporter": "python",
   "pygments_lexer": "ipython3",
   "version": "3.7.6"
  }
 },
 "nbformat": 4,
 "nbformat_minor": 4
}
