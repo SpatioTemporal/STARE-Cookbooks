{
 "cells": [
  {
   "cell_type": "code",
   "execution_count": 1,
   "metadata": {},
   "outputs": [
    {
     "name": "stdout",
     "output_type": "stream",
     "text": [
      "Cell_Along_Swath_1km\r\n",
      "Cell_Across_Swath_1km\r\n",
      "Cell_Along_Swath_5km\r\n",
      "Cell_Across_Swath_5km\r\n",
      "QA_Bytes_IR\r\n",
      "QA_Bytes_NIR\r\n"
     ]
    }
   ],
   "source": [
    "!createSidecarFile extras/MOD05_L2.A2005349.2125.061.2017294065400.hdf-1"
   ]
  },
  {
   "cell_type": "code",
   "execution_count": 2,
   "metadata": {},
   "outputs": [],
   "source": [
    "import pystare as ps\n",
    "\n",
    "import matplotlib as mpl\n",
    "# mpl.rcParams['agg.path.chunksize'] = 10000\n",
    "# mpl.rcParams['agg.path.chunksize'] = 10000000\n",
    "# mpl.use(\"Agg\")\n",
    "\n",
    "import matplotlib.pyplot as plt\n",
    "import matplotlib.tri as tri\n",
    "import cartopy.crs as ccrs\n",
    "import cartopy.feature as cf\n",
    "\n",
    "import numpy\n",
    "import shapely\n",
    "\n",
    "from PIL import Image\n",
    "Image.MAX_IMAGE_PIXELS = None\n",
    "\n",
    "# import geopandas\n",
    "\n",
    "from netCDF4 import Dataset\n",
    "\n"
   ]
  },
  {
   "cell_type": "code",
   "execution_count": 3,
   "metadata": {},
   "outputs": [],
   "source": [
    "# Some helper functions for plotting & printing.\n",
    "\n",
    "class figax_container(object):\n",
    "    def __init__(self,figax):\n",
    "        self.fig = figax[0]\n",
    "        self.ax  = figax[1]\n",
    "        return\n",
    "\n",
    "def add_coastlines(figax,set_global=False):\n",
    "    \"Add coastlines to the plot.\"\n",
    "    ax = figax.ax\n",
    "    if set_global:\n",
    "        ax.set_global()\n",
    "    ax.coastlines()\n",
    "    return figax\n",
    "\n",
    "def hello_plot(\n",
    "        spatial_index_values=None\n",
    "        ,figax=None\n",
    "        ,plot_options={'projection':ccrs.PlateCarree(),'transform':ccrs.Geodetic()}\n",
    "        ,set_global=False\n",
    "        ,set_coastlines=True\n",
    "        ,show=True\n",
    "        ,color=None\n",
    "        ,lw=1\n",
    "        ):\n",
    "\n",
    "    if figax is None:\n",
    "        figax = figax_container(plt.subplots(1,subplot_kw=plot_options))\n",
    "        if set_global:\n",
    "            figax.ax.set_global()\n",
    "        if set_coastlines:\n",
    "            figax.ax.coastlines()\n",
    "    else:\n",
    "        ax = figax.ax\n",
    "    \n",
    "    if spatial_index_values is not None:\n",
    "        # Calculate vertices and interconnection matrix\n",
    "        lons,lats,intmat = ps.triangulate_indices(spatial_index_values)\n",
    "        \n",
    "        # Make triangulation object & plot\n",
    "        siv_triang = tri.Triangulation(lons,lats,intmat)\n",
    "        figax.ax.triplot(siv_triang,c=color,transform=plot_options['transform'],lw=lw)\n",
    "    \n",
    "    if show:\n",
    "        plt.show()\n",
    "        \n",
    "    return figax\n",
    "\n",
    "def hex16(i):\n",
    "    return \"0x%016x\"%i\n",
    "\n",
    "def lonlat_from_coords(coords):\n",
    "    tmp = numpy.array(coords)\n",
    "    lat=tmp[:,1]\n",
    "    lon=tmp[:,0]\n",
    "    return lon,lat\n",
    "\n",
    "km  = 1 # Unit of length\n",
    "deg = 1 # Unit of angle"
   ]
  },
  {
   "cell_type": "code",
   "execution_count": 4,
   "metadata": {},
   "outputs": [],
   "source": [
    "# Set up the projection and transformation\n",
    "proj         = ccrs.PlateCarree()\n",
    "# proj        = ccrs.Robinson() # Drives matplotlib bug.\n",
    "# proj        = ccrs.Mollweide() # Drives matplotlib bug.\n",
    "transf       = ccrs.Geodetic()\n",
    "plot_options = {'projection':proj,'transform':transf}\n",
    "\n",
    "default_dpi = mpl.rcParamsDefault['figure.dpi']\n",
    "mpl.rcParams['figure.dpi'] = 1.5*default_dpi"
   ]
  },
  {
   "cell_type": "code",
   "execution_count": 5,
   "metadata": {},
   "outputs": [
    {
     "name": "stdout",
     "output_type": "stream",
     "text": [
      "ds shape:  (406, 270)\n"
     ]
    }
   ],
   "source": [
    "ds = Dataset('extras/MOD05_L2.A2005349.2125.061.2017294065400_stare.nc')\n",
    "lat0 = ds['Latitude_1km'][:,:].flatten()\n",
    "lon0 = ds['Longitude_1km'][:,:].flatten()\n",
    "spatial_id0 = ds['STARE_index_1km'][:,:].flatten().astype(numpy.int64)\n",
    "print('ds shape: ',ds['Latitude_1km'].shape)\n"
   ]
  },
  {
   "cell_type": "code",
   "execution_count": 6,
   "metadata": {},
   "outputs": [],
   "source": [
    "def plot_segment(i0,i1,figax):\n",
    "    lat = lat0[i0:i1]\n",
    "    lon = lon0[i0:i1]\n",
    "    spatial_id = spatial_id0[i0:i1]\n",
    "    figax = hello_plot(spatial_id,figax=figax,show=False)\n",
    "    figax.ax.scatter([lon],[lat],s=1,c='r')\n",
    "    return figax\n",
    "    \n"
   ]
  },
  {
   "cell_type": "code",
   "execution_count": 7,
   "metadata": {},
   "outputs": [
    {
     "data": {
      "image/png": "[encoded data removed]",
      "text/plain": [
       "<Figure size 900x600 with 1 Axes>"
      ]
     },
     "metadata": {
      "needs_background": "light"
     },
     "output_type": "display_data"
    }
   ],
   "source": [
    "# Plot the trixel associated with the spatial index value\n",
    "# figax = hello_plot(show=False)\n",
    "figax = add_coastlines(figax_container(plt.subplots(subplot_kw={'projection':proj,'transform':transf})))\n",
    "for i in range(1):\n",
    "    figax = plot_segment(i*270,i*270+40,figax)\n",
    "    # figax = plot_segment(i*270,i*270+406,figax)\n",
    "\n",
    "mpl.rcParams['agg.path.chunksize'] = 100000\n",
    "plt.show()"
   ]
  },
  {
   "cell_type": "code",
   "execution_count": 8,
   "metadata": {},
   "outputs": [
    {
     "data": {
      "text/plain": [
       "['0x300a70ed23bb2e69',\n",
       " '0x300b9b597040baa9',\n",
       " '0x300fb5c5678a1d4a',\n",
       " '0x300eaab5648e706a',\n",
       " '0x300917265413146a',\n",
       " '0x2c109499df1412ea',\n",
       " '0x2c11eee567863bca',\n",
       " '0x2c11badfe206eaab',\n",
       " '0x2c69cc171ccd7c2b',\n",
       " '0x2c6998222c02e70b',\n",
       " '0x2c695e89451225cb',\n",
       " '0x2c6e8b4f5ba4e64b',\n",
       " '0x2c6c8e6130f4d84b',\n",
       " '0x2c6ccb7b3a24cdeb',\n",
       " '0x2c4b2121e963f4ab',\n",
       " '0x2c4a5eb9525ccc8b',\n",
       " '0x2c4a75d44e0d8b0b',\n",
       " '0x2c5814048156f06b',\n",
       " '0x2c544dfe94f0514b',\n",
       " '0x2c55bf66e04a1ecb']"
      ]
     },
     "execution_count": 8,
     "metadata": {},
     "output_type": "execute_result"
    }
   ],
   "source": [
    "list(map(hex,spatial_id0[0:200:10]))"
   ]
  }
 ],
 "metadata": {
  "kernelspec": {
   "display_name": "Python 3",
   "language": "python",
   "name": "python3"
  },
  "language_info": {
   "codemirror_mode": {
    "name": "ipython",
    "version": 3
   },
   "file_extension": ".py",
   "mimetype": "text/x-python",
   "name": "python",
   "nbconvert_exporter": "python",
   "pygments_lexer": "ipython3",
   "version": "3.7.6"
  }
 },
 "nbformat": 4,
 "nbformat_minor": 4
}
