{
 "cells": [
  {
   "cell_type": "code",
   "execution_count": 18,
   "id": "fee564f1-46c8-4123-9503-9f5e5f61fbed",
   "metadata": {},
   "outputs": [],
   "source": [
    "import sys\n",
    "sys.path.insert(0,'/homelocal/mrilee/git/pystareplotlib')\n",
    "\n",
    "import os\n",
    "os.environ['PROJ_LIB'] = '/homelocal/mrilee/opt/anaconda3/envs/stare-1/share/proj'\n",
    "\n",
    "import astropy\n",
    "\n",
    "import pystare\n",
    "import starepandas\n",
    "import geopandas\n",
    "\n",
    "import matplotlib.pyplot as plt\n",
    "import matplotlib.tri as tri\n",
    "import cartopy\n",
    "import cartopy.crs as ccrs\n",
    "\n",
    "import pystareplotlib\n",
    "import pystareplotlib.pystareplotlib as psplot\n",
    "\n",
    "import numpy\n",
    "import pandas\n",
    "\n",
    "import pickle\n",
    "import datetime\n",
    "\n",
    "plot_options = {'projection': ccrs.PlateCarree(central_longitude=0.0)\n",
    "                ,'transform': ccrs.Geodetic()}\n",
    "\n",
    "plot_options['projection']._threshold = 0.001;"
   ]
  },
  {
   "cell_type": "code",
   "execution_count": 2,
   "id": "cbf01c94-3a48-44bb-a01d-a94be60b487a",
   "metadata": {},
   "outputs": [],
   "source": [
    "import warnings\n",
    "warnings.simplefilter(action='ignore', category=FutureWarning)"
   ]
  },
  {
   "cell_type": "code",
   "execution_count": null,
   "id": "4fd75d00-012e-44dd-bf84-52639d13dc5a",
   "metadata": {},
   "outputs": [],
   "source": [
    "# geo:38.058333,-76.331667 "
   ]
  },
  {
   "cell_type": "code",
   "execution_count": 12,
   "id": "d885d60c-1ea9-4091-b771-1e87206ea1a8",
   "metadata": {},
   "outputs": [
    {
     "data": {
      "text/plain": [
       "'0x2bf5688955c328fb'"
      ]
     },
     "execution_count": 12,
     "metadata": {},
     "output_type": "execute_result"
    }
   ],
   "source": [
    "sid = pystare.from_latlon([38.058333],[-76.331667],27)\n",
    "psplot.hex16(sid[0])"
   ]
  },
  {
   "cell_type": "code",
   "execution_count": 15,
   "id": "c1b941a6-d6aa-417a-b062-920a2aa00d55",
   "metadata": {},
   "outputs": [
    {
     "data": {
      "text/plain": [
       "'0x2bf0000000000004'"
      ]
     },
     "execution_count": 15,
     "metadata": {},
     "output_type": "execute_result"
    }
   ],
   "source": [
    "sid4 = pystare.spatial_clear_to_resolution(pystare.spatial_coerce_resolution(sid,4))\n",
    "psplot.hex16(sid4[0])"
   ]
  },
  {
   "cell_type": "code",
   "execution_count": 37,
   "id": "bc6dfb0f-0ce9-4661-ba39-c7746e8bcae3",
   "metadata": {},
   "outputs": [
    {
     "name": "stdout",
     "output_type": "stream",
     "text": [
      "0x15f8000000000000\n",
      "0x2bf0000000000000\n"
     ]
    }
   ],
   "source": [
    "print(hex((sid4[0] & ~31 ) >> 1 ))\n",
    "print(hex(sid4[0] & ~31 ))"
   ]
  },
  {
   "cell_type": "code",
   "execution_count": 44,
   "id": "5a831ee4-865e-49b6-a284-40d2f2e3d301",
   "metadata": {},
   "outputs": [
    {
     "name": "stdout",
     "output_type": "stream",
     "text": [
      "0x0000000000000000\n",
      "0x0400000000000000\n",
      "0x0800000000000000\n",
      "0x0c00000000000000\n",
      "0x1000000000000000\n",
      "0x1400000000000000\n",
      "0x1800000000000000\n",
      "0x1c00000000000000\n"
     ]
    }
   ],
   "source": [
    "for i in range(8):\n",
    "    print(psplot.hex16((pystare.spatial_increment_from_level(0)*i) >> 1 ))"
   ]
  },
  {
   "cell_type": "code",
   "execution_count": 45,
   "id": "119681b4-3bfc-4889-9ca5-66e16a581a15",
   "metadata": {},
   "outputs": [
    {
     "name": "stdout",
     "output_type": "stream",
     "text": [
      "0x0000000000000000\n",
      "0x0800000000000000\n",
      "0x1000000000000000\n",
      "0x1800000000000000\n",
      "0x2000000000000000\n",
      "0x2800000000000000\n",
      "0x3000000000000000\n",
      "0x3800000000000000\n"
     ]
    }
   ],
   "source": [
    "for i in range(8):\n",
    "    print(psplot.hex16((pystare.spatial_increment_from_level(0)*i) ))"
   ]
  },
  {
   "cell_type": "code",
   "execution_count": 46,
   "id": "52b1fa60-20a9-49b2-8783-edfa62ff270f",
   "metadata": {},
   "outputs": [
    {
     "ename": "SyntaxError",
     "evalue": "invalid decimal literal (1010572389.py, line 2)",
     "output_type": "error",
     "traceback": [
      "\u001b[0;36m  Input \u001b[0;32mIn [46]\u001b[0;36m\u001b[0m\n\u001b[0;31m    0q/4/3/4/3/4/3/\u001b[0m\n\u001b[0m    ^\u001b[0m\n\u001b[0;31mSyntaxError\u001b[0m\u001b[0;31m:\u001b[0m invalid decimal literal\n"
     ]
    }
   ],
   "source": [
    "0x28/00/00/00/00/00/00/00\n",
    "0q/4/3/4/3/4/3/"
   ]
  },
  {
   "cell_type": "code",
   "execution_count": 22,
   "id": "2a792225-7f47-456e-802c-fb4d4a71a2e0",
   "metadata": {},
   "outputs": [
    {
     "data": {
      "text/plain": [
       "'0x1f996cf66592b0c1'"
      ]
     },
     "execution_count": 22,
     "metadata": {},
     "output_type": "execute_result"
    }
   ],
   "source": [
    "# Create the TIVs\n",
    "# times = numpy.array(['2021-09-03', '2021-07-17 11:16'], dtype='datetime64')\n",
    "times = numpy.array(datetime.datetime.now(),dtype='datetime64')\n",
    "\n",
    "times = astropy.time.Time(times, scale='utc', format='datetime64')\n",
    "tivs = pystare.from_julian_date(times.jd1, times.jd2,\n",
    "                                scale='utc',\n",
    "                                forward_res=48, reverse_res=48)\n",
    "psplot.hex16(tivs[0])"
   ]
  },
  {
   "cell_type": "code",
   "execution_count": 25,
   "id": "2b43baa9-4f11-410f-b37b-6159cf0b0909",
   "metadata": {},
   "outputs": [
    {
     "data": {
      "text/plain": [
       "(array([2276970892134334717]),\n",
       " array([2276970892134363329]),\n",
       " array([2276970892134383613]))"
      ]
     },
     "execution_count": 25,
     "metadata": {},
     "output_type": "execute_result"
    }
   ],
   "source": [
    "triple = pystare.to_temporal_triple_ms(tivs)\n",
    "triple"
   ]
  },
  {
   "cell_type": "code",
   "execution_count": 27,
   "id": "84fa551a-6144-4d82-b49f-fe69c648d83f",
   "metadata": {},
   "outputs": [
    {
     "name": "stdout",
     "output_type": "stream",
     "text": [
      "['2022-06-10T15:25:00.585']\n",
      "['2022-06-10T15:25:00.586']\n",
      "['2022-06-10T15:25:00.587']\n"
     ]
    }
   ],
   "source": [
    "for t in triple:\n",
    "    print(numpy.datetime_as_string(pystare.to_ms_since_epoch_utc(t).astype('datetime64[ms]')))"
   ]
  },
  {
   "cell_type": "code",
   "execution_count": null,
   "id": "099ac07f-1fbd-428b-aa7d-51b4245208a6",
   "metadata": {},
   "outputs": [],
   "source": [
    "hdf + sidecar -> performance like hdf alone\n",
    "chunked into \"our format\" stare-sorted and in hdf/pkl -> faster"
   ]
  },
  {
   "cell_type": "code",
   "execution_count": 47,
   "id": "a1109556-6128-4ebe-8cf9-bf60f62283d5",
   "metadata": {},
   "outputs": [
    {
     "ename": "SyntaxError",
     "evalue": "invalid syntax (1733239657.py, line 1)",
     "output_type": "error",
     "traceback": [
      "\u001b[0;36m  Input \u001b[0;32mIn [47]\u001b[0;36m\u001b[0m\n\u001b[0;31m    DMR++\u001b[0m\n\u001b[0m         ^\u001b[0m\n\u001b[0;31mSyntaxError\u001b[0m\u001b[0;31m:\u001b[0m invalid syntax\n"
     ]
    }
   ],
   "source": [
    "DMR++"
   ]
  },
  {
   "cell_type": "code",
   "execution_count": null,
   "id": "778b77da-9611-4e34-9432-3b10237dec51",
   "metadata": {},
   "outputs": [],
   "source": []
  }
 ],
 "metadata": {
  "kernelspec": {
   "display_name": "stare-1",
   "language": "python",
   "name": "stare-1"
  },
  "language_info": {
   "codemirror_mode": {
    "name": "ipython",
    "version": 3
   },
   "file_extension": ".py",
   "mimetype": "text/x-python",
   "name": "python",
   "nbconvert_exporter": "python",
   "pygments_lexer": "ipython3",
   "version": "3.10.4"
  }
 },
 "nbformat": 4,
 "nbformat_minor": 5
}
