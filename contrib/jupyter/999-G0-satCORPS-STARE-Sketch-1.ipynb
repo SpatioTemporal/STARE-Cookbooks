{
 "cells": [
  {
   "cell_type": "markdown",
   "id": "3ccf2085",
   "metadata": {},
   "source": [
    "dimensions:\n",
    "  Lines = 6660;\n",
    "  Pixels = 13320;"
   ]
  },
  {
   "cell_type": "code",
   "execution_count": 1,
   "id": "c043bf9f",
   "metadata": {},
   "outputs": [],
   "source": [
    "import staremaster"
   ]
  },
  {
   "cell_type": "code",
   "execution_count": 2,
   "id": "c0af689d",
   "metadata": {},
   "outputs": [],
   "source": [
    "import pystare\n",
    "import starepandas"
   ]
  },
  {
   "cell_type": "code",
   "execution_count": 3,
   "id": "96f1c583",
   "metadata": {},
   "outputs": [],
   "source": [
    "import numpy\n",
    "from netCDF4 import Dataset\n",
    "import matplotlib.pyplot as plt\n",
    "import cartopy.crs as ccrs"
   ]
  },
  {
   "cell_type": "code",
   "execution_count": 4,
   "id": "438240b6",
   "metadata": {},
   "outputs": [],
   "source": [
    "def span(x):\n",
    "    return (max(x)-min(x))"
   ]
  },
  {
   "cell_type": "code",
   "execution_count": 5,
   "id": "f3941ed8",
   "metadata": {},
   "outputs": [],
   "source": [
    "# data = Dataset('MERRA2_300.tavgM_2d_slv_Nx.201001.nc4', mode='r')\n",
    "data = Dataset('ignored/satCORPS/composite_20220420_2019.182.0230.nc', mode='r')"
   ]
  },
  {
   "cell_type": "code",
   "execution_count": 6,
   "id": "98e8aa5e",
   "metadata": {},
   "outputs": [],
   "source": [
    "lons = data['map_data'].variables['lon'][:]\n",
    "lats = data['map_data'].variables['lat'][:]\n",
    "lon, lat = numpy.meshgrid(lons, lats)"
   ]
  },
  {
   "cell_type": "code",
   "execution_count": 7,
   "id": "d2b4a33e",
   "metadata": {},
   "outputs": [
    {
     "data": {
      "text/plain": [
       "13321"
      ]
     },
     "execution_count": 7,
     "metadata": {},
     "output_type": "execute_result"
    }
   ],
   "source": [
    "int(360/span(lons[0:2]))"
   ]
  },
  {
   "cell_type": "code",
   "execution_count": 8,
   "id": "5aabc342",
   "metadata": {},
   "outputs": [
    {
     "data": {
      "text/plain": [
       "359.9999864239045"
      ]
     },
     "execution_count": 8,
     "metadata": {},
     "output_type": "execute_result"
    }
   ],
   "source": [
    "span(lons)+(360.0/13321.0)"
   ]
  },
  {
   "cell_type": "code",
   "execution_count": 9,
   "id": "a0fd06be",
   "metadata": {},
   "outputs": [
    {
     "data": {
      "text/plain": [
       "359.97296"
      ]
     },
     "execution_count": 9,
     "metadata": {},
     "output_type": "execute_result"
    }
   ],
   "source": [
    "span(lons)"
   ]
  },
  {
   "cell_type": "code",
   "execution_count": 67,
   "id": "ceff8297",
   "metadata": {},
   "outputs": [
    {
     "data": {
      "text/plain": [
       "0.02702296952409548"
      ]
     },
     "execution_count": 67,
     "metadata": {},
     "output_type": "execute_result"
    }
   ],
   "source": [
    "dx=360/13322; dx"
   ]
  },
  {
   "cell_type": "code",
   "execution_count": 71,
   "id": "72faeb08",
   "metadata": {},
   "outputs": [
    {
     "data": {
      "text/plain": [
       "89.98649"
      ]
     },
     "execution_count": 71,
     "metadata": {},
     "output_type": "execute_result"
    }
   ],
   "source": [
    "lats[0]"
   ]
  },
  {
   "cell_type": "code",
   "execution_count": 70,
   "id": "fab73fb4",
   "metadata": {},
   "outputs": [
    {
     "data": {
      "text/plain": [
       "-179.98648"
      ]
     },
     "execution_count": 70,
     "metadata": {},
     "output_type": "execute_result"
    }
   ],
   "source": [
    "lons[0]"
   ]
  },
  {
   "cell_type": "code",
   "execution_count": 88,
   "id": "1367c3d5",
   "metadata": {},
   "outputs": [
    {
     "data": {
      "text/plain": [
       "-179.98648"
      ]
     },
     "execution_count": 88,
     "metadata": {},
     "output_type": "execute_result"
    }
   ],
   "source": [
    "lons[0]"
   ]
  },
  {
   "cell_type": "code",
   "execution_count": 101,
   "id": "e950a5c3",
   "metadata": {},
   "outputs": [
    {
     "data": {
      "text/plain": [
       "-179.98648648648648"
      ]
     },
     "execution_count": 101,
     "metadata": {},
     "output_type": "execute_result"
    }
   ],
   "source": [
    "-180.0+(0.5*360/13320.0)"
   ]
  },
  {
   "cell_type": "code",
   "execution_count": 109,
   "id": "11b8783f",
   "metadata": {},
   "outputs": [
    {
     "data": {
      "text/plain": [
       "(13320, 6660)"
      ]
     },
     "execution_count": 109,
     "metadata": {},
     "output_type": "execute_result"
    }
   ],
   "source": [
    "lons.size,lats.size"
   ]
  },
  {
   "cell_type": "code",
   "execution_count": 99,
   "id": "ada106a4",
   "metadata": {},
   "outputs": [
    {
     "data": {
      "text/plain": [
       "0.013519287109375"
      ]
     },
     "execution_count": 99,
     "metadata": {},
     "output_type": "execute_result"
    }
   ],
   "source": [
    "(lons[0]+180.0)"
   ]
  },
  {
   "cell_type": "code",
   "execution_count": 106,
   "id": "3e7922e9",
   "metadata": {},
   "outputs": [
    {
     "data": {
      "text/plain": [
       "13320.829"
      ]
     },
     "execution_count": 106,
     "metadata": {},
     "output_type": "execute_result"
    }
   ],
   "source": [
    "span(lons)/span(lons[0:2])"
   ]
  },
  {
   "cell_type": "code",
   "execution_count": 108,
   "id": "4e8a93af",
   "metadata": {},
   "outputs": [
    {
     "data": {
      "text/plain": [
       "6658.035"
      ]
     },
     "execution_count": 108,
     "metadata": {},
     "output_type": "execute_result"
    }
   ],
   "source": [
    "span(lats)/span(lats[0:2])"
   ]
  },
  {
   "cell_type": "code",
   "execution_count": 110,
   "id": "44d4c91e",
   "metadata": {},
   "outputs": [
    {
     "data": {
      "text/plain": [
       "masked_array(data=[89.98649, 89.95946],\n",
       "             mask=False,\n",
       "       fill_value=1e+20,\n",
       "            dtype=float32)"
      ]
     },
     "execution_count": 110,
     "metadata": {},
     "output_type": "execute_result"
    }
   ],
   "source": [
    "lats[0:2]"
   ]
  },
  {
   "cell_type": "code",
   "execution_count": 111,
   "id": "440fb188",
   "metadata": {},
   "outputs": [
    {
     "data": {
      "text/plain": [
       "89.98649"
      ]
     },
     "execution_count": 111,
     "metadata": {},
     "output_type": "execute_result"
    }
   ],
   "source": [
    "lats[0]"
   ]
  },
  {
   "cell_type": "code",
   "execution_count": 112,
   "id": "97ebea5d",
   "metadata": {},
   "outputs": [
    {
     "data": {
      "text/plain": [
       "89.98648648648648"
      ]
     },
     "execution_count": 112,
     "metadata": {},
     "output_type": "execute_result"
    }
   ],
   "source": [
    "90-(0.5*180.0/6660)"
   ]
  },
  {
   "cell_type": "code",
   "execution_count": 14,
   "id": "330a2bc9",
   "metadata": {},
   "outputs": [
    {
     "ename": "ValueError",
     "evalue": "operands could not be broadcast together with shapes (6660,) (6660,13320) ",
     "output_type": "error",
     "traceback": [
      "\u001b[0;31m---------------------------------------------------------------------------\u001b[0m",
      "\u001b[0;31mValueError\u001b[0m                                Traceback (most recent call last)",
      "Input \u001b[0;32mIn [14]\u001b[0m, in \u001b[0;36m<cell line: 2>\u001b[0;34m()\u001b[0m\n\u001b[1;32m      6\u001b[0m y \u001b[38;5;241m=\u001b[39m numpy\u001b[38;5;241m.\u001b[39mascontiguousarray(numpy\u001b[38;5;241m.\u001b[39mtile(numpy\u001b[38;5;241m.\u001b[39marange(  \u001b[38;5;241m90\u001b[39m\u001b[38;5;241m-\u001b[39m\u001b[38;5;241m0.5\u001b[39m\u001b[38;5;241m*\u001b[39mdlat, \u001b[38;5;241m-\u001b[39m\u001b[38;5;241m90\u001b[39m, \u001b[38;5;241m-\u001b[39mdlat), (nlon, \u001b[38;5;241m1\u001b[39m))\u001b[38;5;241m.\u001b[39mtranspose())\n\u001b[1;32m      7\u001b[0m x \u001b[38;5;241m=\u001b[39m numpy\u001b[38;5;241m.\u001b[39mtile(numpy\u001b[38;5;241m.\u001b[39marange(\u001b[38;5;241m-\u001b[39m\u001b[38;5;241m180\u001b[39m\u001b[38;5;241m+\u001b[39m\u001b[38;5;241m0.5\u001b[39m\u001b[38;5;241m*\u001b[39mdlon, \u001b[38;5;241m180\u001b[39m,  dlon), (nlat, \u001b[38;5;241m1\u001b[39m))\n\u001b[0;32m----> 9\u001b[0m \u001b[38;5;28mprint\u001b[39m(numpy\u001b[38;5;241m.\u001b[39mamax(numpy\u001b[38;5;241m.\u001b[39mabs(lons\u001b[38;5;241m-\u001b[39mx)),numpy\u001b[38;5;241m.\u001b[39mamax(numpy\u001b[38;5;241m.\u001b[39mabs(\u001b[43mlats\u001b[49m\u001b[38;5;241;43m-\u001b[39;49m\u001b[43my\u001b[49m)))\n",
      "File \u001b[0;32m~/opt/anaconda3/envs/stare/lib/python3.9/site-packages/numpy/ma/core.py:4159\u001b[0m, in \u001b[0;36mMaskedArray.__sub__\u001b[0;34m(self, other)\u001b[0m\n\u001b[1;32m   4157\u001b[0m \u001b[38;5;28;01mif\u001b[39;00m \u001b[38;5;28mself\u001b[39m\u001b[38;5;241m.\u001b[39m_delegate_binop(other):\n\u001b[1;32m   4158\u001b[0m     \u001b[38;5;28;01mreturn\u001b[39;00m \u001b[38;5;28mNotImplemented\u001b[39m\n\u001b[0;32m-> 4159\u001b[0m \u001b[38;5;28;01mreturn\u001b[39;00m \u001b[43msubtract\u001b[49m\u001b[43m(\u001b[49m\u001b[38;5;28;43mself\u001b[39;49m\u001b[43m,\u001b[49m\u001b[43m \u001b[49m\u001b[43mother\u001b[49m\u001b[43m)\u001b[49m\n",
      "File \u001b[0;32m~/opt/anaconda3/envs/stare/lib/python3.9/site-packages/numpy/ma/core.py:1013\u001b[0m, in \u001b[0;36m_MaskedBinaryOperation.__call__\u001b[0;34m(self, a, b, *args, **kwargs)\u001b[0m\n\u001b[1;32m   1011\u001b[0m \u001b[38;5;28;01mwith\u001b[39;00m np\u001b[38;5;241m.\u001b[39merrstate():\n\u001b[1;32m   1012\u001b[0m     np\u001b[38;5;241m.\u001b[39mseterr(divide\u001b[38;5;241m=\u001b[39m\u001b[38;5;124m'\u001b[39m\u001b[38;5;124mignore\u001b[39m\u001b[38;5;124m'\u001b[39m, invalid\u001b[38;5;241m=\u001b[39m\u001b[38;5;124m'\u001b[39m\u001b[38;5;124mignore\u001b[39m\u001b[38;5;124m'\u001b[39m)\n\u001b[0;32m-> 1013\u001b[0m     result \u001b[38;5;241m=\u001b[39m \u001b[38;5;28;43mself\u001b[39;49m\u001b[38;5;241;43m.\u001b[39;49m\u001b[43mf\u001b[49m\u001b[43m(\u001b[49m\u001b[43mda\u001b[49m\u001b[43m,\u001b[49m\u001b[43m \u001b[49m\u001b[43mdb\u001b[49m\u001b[43m,\u001b[49m\u001b[43m \u001b[49m\u001b[38;5;241;43m*\u001b[39;49m\u001b[43margs\u001b[49m\u001b[43m,\u001b[49m\u001b[43m \u001b[49m\u001b[38;5;241;43m*\u001b[39;49m\u001b[38;5;241;43m*\u001b[39;49m\u001b[43mkwargs\u001b[49m\u001b[43m)\u001b[49m\n\u001b[1;32m   1014\u001b[0m \u001b[38;5;66;03m# Get the mask for the result\u001b[39;00m\n\u001b[1;32m   1015\u001b[0m (ma, mb) \u001b[38;5;241m=\u001b[39m (getmask(a), getmask(b))\n",
      "\u001b[0;31mValueError\u001b[0m: operands could not be broadcast together with shapes (6660,) (6660,13320) "
     ]
    }
   ],
   "source": [
    "if True:\n",
    "        nlat = 6660   # Lines\n",
    "        nlon = 13320  # Pixels\n",
    "        dlat = 180.0/nlat\n",
    "        dlon = 360.0/nlon\n",
    "        y = numpy.ascontiguousarray(numpy.tile(numpy.arange(  90-0.5*dlat, -90, -dlat), (nlon, 1)).transpose())\n",
    "        x = numpy.tile(numpy.arange(-180+0.5*dlon, 180,  dlon), (nlat, 1))\n",
    "        \n",
    "        print(numpy.amax(numpy.abs(lon-x)),numpy.amax(numpy.abs(lat-y)))"
   ]
  },
  {
   "cell_type": "code",
   "execution_count": null,
   "id": "9bee9c64",
   "metadata": {},
   "outputs": [],
   "source": [
    "x.shape, y.shape"
   ]
  },
  {
   "cell_type": "code",
   "execution_count": 17,
   "id": "d0236808",
   "metadata": {},
   "outputs": [
    {
     "data": {
      "text/plain": [
       "((6660, 13320), (6660, 13320))"
      ]
     },
     "execution_count": 17,
     "metadata": {},
     "output_type": "execute_result"
    }
   ],
   "source": [
    "lon.shape, lat.shape"
   ]
  },
  {
   "cell_type": "code",
   "execution_count": 141,
   "id": "1c6e16f6",
   "metadata": {},
   "outputs": [
    {
     "data": {
      "text/plain": [
       "array([[-179.98648649, -179.95945946, -179.93243243, ...,  179.93243243,\n",
       "         179.95945946,  179.98648649],\n",
       "       [-179.98648649, -179.95945946, -179.93243243, ...,  179.93243243,\n",
       "         179.95945946,  179.98648649],\n",
       "       [-179.98648649, -179.95945946, -179.93243243, ...,  179.93243243,\n",
       "         179.95945946,  179.98648649],\n",
       "       ...,\n",
       "       [-179.98648649, -179.95945946, -179.93243243, ...,  179.93243243,\n",
       "         179.95945946,  179.98648649],\n",
       "       [-179.98648649, -179.95945946, -179.93243243, ...,  179.93243243,\n",
       "         179.95945946,  179.98648649],\n",
       "       [-179.98648649, -179.95945946, -179.93243243, ...,  179.93243243,\n",
       "         179.95945946,  179.98648649]])"
      ]
     },
     "execution_count": 141,
     "metadata": {},
     "output_type": "execute_result"
    }
   ],
   "source": [
    "x"
   ]
  },
  {
   "cell_type": "code",
   "execution_count": 142,
   "id": "da28925c",
   "metadata": {},
   "outputs": [
    {
     "data": {
      "text/plain": [
       "array([[ 89.98648649,  89.98648649,  89.98648649, ...,  89.98648649,\n",
       "         89.98648649,  89.98648649],\n",
       "       [ 89.95945946,  89.95945946,  89.95945946, ...,  89.95945946,\n",
       "         89.95945946,  89.95945946],\n",
       "       [ 89.93243243,  89.93243243,  89.93243243, ...,  89.93243243,\n",
       "         89.93243243,  89.93243243],\n",
       "       ...,\n",
       "       [-89.93243243, -89.93243243, -89.93243243, ..., -89.93243243,\n",
       "        -89.93243243, -89.93243243],\n",
       "       [-89.95945946, -89.95945946, -89.95945946, ..., -89.95945946,\n",
       "        -89.95945946, -89.95945946],\n",
       "       [-89.98648649, -89.98648649, -89.98648649, ..., -89.98648649,\n",
       "        -89.98648649, -89.98648649]])"
      ]
     },
     "execution_count": 142,
     "metadata": {},
     "output_type": "execute_result"
    }
   ],
   "source": [
    "y"
   ]
  },
  {
   "cell_type": "code",
   "execution_count": 126,
   "id": "df1087c8",
   "metadata": {},
   "outputs": [
    {
     "data": {
      "text/plain": [
       "7.835592924720913e-06"
      ]
     },
     "execution_count": 126,
     "metadata": {},
     "output_type": "execute_result"
    }
   ],
   "source": [
    "numpy.amax(numpy.abs(lats-y))"
   ]
  },
  {
   "cell_type": "code",
   "execution_count": 127,
   "id": "eb2d8178",
   "metadata": {},
   "outputs": [
    {
     "data": {
      "text/plain": [
       "1.5258788636174359e-05"
      ]
     },
     "execution_count": 127,
     "metadata": {},
     "output_type": "execute_result"
    }
   ],
   "source": [
    "numpy.amax(numpy.abs(lons-x))"
   ]
  },
  {
   "cell_type": "code",
   "execution_count": null,
   "id": "f872ebc0",
   "metadata": {},
   "outputs": [],
   "source": []
  },
  {
   "cell_type": "code",
   "execution_count": null,
   "id": "78be1ad2",
   "metadata": {},
   "outputs": [],
   "source": []
  },
  {
   "cell_type": "code",
   "execution_count": null,
   "id": "d9e7e338",
   "metadata": {},
   "outputs": [],
   "source": []
  },
  {
   "cell_type": "code",
   "execution_count": null,
   "id": "bc42db0c",
   "metadata": {},
   "outputs": [],
   "source": []
  },
  {
   "cell_type": "code",
   "execution_count": 5,
   "id": "bf2503b6",
   "metadata": {},
   "outputs": [],
   "source": [
    "sidecar = staremaster.products.satCORPS()"
   ]
  },
  {
   "cell_type": "code",
   "execution_count": 6,
   "id": "aff50676",
   "metadata": {},
   "outputs": [],
   "source": [
    "sidecar.create_sidecar(\"./\")"
   ]
  },
  {
   "cell_type": "code",
   "execution_count": 7,
   "id": "d0116492",
   "metadata": {},
   "outputs": [
    {
     "name": "stdout",
     "output_type": "stream",
     "text": [
      "htm-00.nc                   htm-07.nc\r\n",
      "htm-01.nc                   htm-08.nc\r\n",
      "htm-02.nc                   htm-09.nc\r\n",
      "htm-03.nc                   htm-10.nc\r\n",
      "htm-04.nc                   htm-11.nc\r\n",
      "htm-05.nc                   satCORPS_composite_stare.nc\r\n",
      "htm-06.nc                   tmp.nc\r\n"
     ]
    }
   ],
   "source": [
    "!ls *.nc"
   ]
  },
  {
   "cell_type": "code",
   "execution_count": null,
   "id": "83824bd6",
   "metadata": {},
   "outputs": [],
   "source": [
    "# Load Granule\n",
    "fname = starepandas.datasets.get_path('MOD05_L2.A2019336.0000.061.2019336211522.hdf')\n",
    "modis = starepandas.read_granule(fname, latlon=True, sidecar=True)\n",
    "geom = geopandas.points_from_xy(modis.lon, modis.lat, crs='EPSG:4326')\n",
    "modis.set_geometry(geom, inplace=True)"
   ]
  }
 ],
 "metadata": {
  "kernelspec": {
   "display_name": "Python 3 (ipykernel)",
   "language": "python",
   "name": "python3"
  },
  "language_info": {
   "codemirror_mode": {
    "name": "ipython",
    "version": 3
   },
   "file_extension": ".py",
   "mimetype": "text/x-python",
   "name": "python",
   "nbconvert_exporter": "python",
   "pygments_lexer": "ipython3",
   "version": "3.10.4"
  }
 },
 "nbformat": 4,
 "nbformat_minor": 5
}
