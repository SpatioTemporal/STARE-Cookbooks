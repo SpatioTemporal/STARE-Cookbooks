{
 "cells": [
  {
   "cell_type": "markdown",
   "metadata": {},
   "source": [
    "# How to read and plot NetCDF MERRA-2 data in Python\n",
    "\n",
    "***\n",
    "\n",
    "## Overview:\n",
    "This How-To shows how to read and plot NetCDF4 data from the Modern-Era Retrospective analysis for Research and Applications version 2 (MERRA-2) using Python.\n",
    "\n",
    "## Example:\n",
    "**Example data:** MERRA-2 Monthly 0.5 x 0.625 degree 2 meter air temperature (M2TMNXSLV_V5.12.4) for January 2010.\n",
    "\n",
    "**Example image:**"
   ]
  },
  {
   "cell_type": "markdown",
   "metadata": {},
   "source": [
    "<img src=\"https://disc.gsfc.nasa.gov/media/image/1a640422eade4e1db30cc96ec37083ae/MERRA2_t2m.png\" title=\"Image1\"/>"
   ]
  },
  {
   "cell_type": "markdown",
   "metadata": {},
   "source": [
    "**Estimated Time to complete the following procedures:** 20 minutes\n",
    "\n",
    "## Prerequisites:\n",
    "\n",
    "Python and the free packages: [numpy](http://www.numpy.org/), [netCDF4](http://unidata.github.io/netcdf4-python/), [matplotlib](http://matplotlib.org/), and [cartopy](https://scitools.org.uk/cartopy/docs/latest/). Matplotlib and cartopy are only needed for plotting. This script was tested using Python 3.7."
   ]
  },
  {
   "cell_type": "markdown",
   "metadata": {},
   "source": [
    "## Procedure:\n",
    "The user must register with Earthdata to access the data. To register, follow the steps at: [data-access](https://disc.gsfc.nasa.gov/data-access)\n",
    "\n",
    "1. After registering with Earthdata, go to https://disc.gsfc.nasa.gov/\n",
    "\n",
    "2. Search for ‘M2TMNXSLV_5.12.4’ and click on the dataset link.\n",
    "\n",
    "3. Once on the dataset page, the data can be accessed by multiple means in the ‘Data Access’ box. For this HowTo, we will use an https service by clicking ‘Online Archive’.\n",
    "\n",
    "    - Click on the ‘2010’ folder and download the ‘[MERRA2_300.tavgM_2d_slv_Nx.201001.nc4](https://goldsmr4.gesdisc.eosdis.nasa.gov/data/MERRA2_MONTHLY/M2TMNXSLV.5.12.4/2010/MERRA2_300.tavgM_2d_slv_Nx.201001.nc4)’ file.\n",
    "    \n",
    "\n",
    "4. Run the following Python cells which will demonstrate how to read-in and plot 3-dimensional NetCDF data in Python"
   ]
  },
  {
   "cell_type": "markdown",
   "metadata": {},
   "source": [
    "The first step is to import the required Python libraries. They are used to read and plot the data. If any of the following import commands fail, check the local Python environment and install any missing packages. "
   ]
  },
  {
   "cell_type": "code",
   "execution_count": null,
   "metadata": {},
   "outputs": [],
   "source": [
    "import numpy as np\n",
    "from netCDF4 import Dataset\n",
    "import matplotlib.pyplot as plt\n",
    "import cartopy.crs as ccrs"
   ]
  },
  {
   "cell_type": "markdown",
   "metadata": {},
   "source": [
    "Open the NetCDF4 file (add a directory path if necessary) for reading:"
   ]
  },
  {
   "cell_type": "code",
   "execution_count": null,
   "metadata": {},
   "outputs": [],
   "source": [
    "data = Dataset('MERRA2_300.tavgM_2d_slv_Nx.201001.nc4', mode='r')"
   ]
  },
  {
   "cell_type": "markdown",
   "metadata": {},
   "source": [
    "Run the following line below to print MERRA2 metadata. This line will print attribute and variable information. From the 'variables(dimensions)' list, choose which variable(s) to read in below."
   ]
  },
  {
   "cell_type": "code",
   "execution_count": null,
   "metadata": {},
   "outputs": [],
   "source": [
    "print(data)"
   ]
  },
  {
   "cell_type": "markdown",
   "metadata": {},
   "source": [
    "Read in 'T2M' 2-meter air temperature variable:"
   ]
  },
  {
   "cell_type": "code",
   "execution_count": null,
   "metadata": {},
   "outputs": [],
   "source": [
    "lons = data.variables['lon'][:]\n",
    "lats = data.variables['lat'][:]\n",
    "lon, lat = np.meshgrid(lons, lats)\n",
    "T2M = data.variables['T2M'][:,:,:]"
   ]
  },
  {
   "cell_type": "markdown",
   "metadata": {},
   "source": [
    "If using MERRA-2 data with multiple time indices in the file, the following line will extract only the first time index.  \n",
    "_Note: Changing T2M\\[0,:,:\\] to T2M\\[10,:,:\\] will subset the 11th time index instead of the first._"
   ]
  },
  {
   "cell_type": "code",
   "execution_count": null,
   "metadata": {},
   "outputs": [],
   "source": [
    "T2M = T2M[0,:,:]"
   ]
  },
  {
   "cell_type": "markdown",
   "metadata": {},
   "source": [
    "### Start Plotting Data "
   ]
  },
  {
   "cell_type": "markdown",
   "metadata": {},
   "source": [
    "Plot the data using matplotlib and cartopy"
   ]
  },
  {
   "cell_type": "code",
   "execution_count": null,
   "metadata": {},
   "outputs": [],
   "source": [
    "# Set the figure size, projection, and extent\n",
    "fig = plt.figure(figsize=(8,4))\n",
    "ax = plt.axes(projection=ccrs.Robinson())\n",
    "ax.set_global()\n",
    "ax.coastlines(resolution=\"110m\",linewidth=1)\n",
    "ax.gridlines(linestyle='--',color='black')\n",
    "\n",
    "# Set contour levels, then draw the plot and a colorbar\n",
    "clevs = np.arange(230,311,5)\n",
    "plt.contourf(lon, lat, T2M, clevs, transform=ccrs.PlateCarree(),cmap=plt.cm.jet)\n",
    "plt.title('MERRA-2 Air Temperature at 2m, January 2010', size=14)\n",
    "cb = plt.colorbar(ax=ax, orientation=\"vertical\", pad=0.02, aspect=16, shrink=0.8)\n",
    "cb.set_label('K',size=12,rotation=0,labelpad=15)\n",
    "cb.ax.tick_params(labelsize=10)"
   ]
  },
  {
   "cell_type": "code",
   "execution_count": null,
   "metadata": {},
   "outputs": [],
   "source": [
    "# Save the figure as a PNG image\n",
    "fig.savefig('MERRA2_t2m.png', format='png', dpi=100)"
   ]
  },
  {
   "cell_type": "markdown",
   "metadata": {},
   "source": [
    "<font size=\"1\">THE SUBJECT FILE IS PROVIDED \"AS IS\" WITHOUT ANY WARRANTY OF ANY KIND, EITHER EXPRESSED, IMPLIED, OR STATUTORY, INCLUDING, BUT NOT LIMITED TO, ANY WARRANTY THAT THE SUBJECT FILE WILL CONFORM TO SPECIFICATIONS, ANY IMPLIED WARRANTIES OF MERCHANTABILITY, FITNESS FOR A PARTICULAR PURPOSE, OR FREEDOM FROM INFRINGEMENT, ANY WARRANTY THAT THE SUBJECT FILE WILL BE ERROR FREE, OR ANY WARRANTY THAT DOCUMENTATION, IF PROVIDED, WILL CONFORM TO THE SUBJECT FILE. THIS AGREEMENT DOES NOT, IN ANY MANNER, CONSTITUTE AN ENDORSEMENT BY GOVERNMENT AGENCY OR ANY PRIOR RECIPIENT OF ANY RESULTS, RESULTING DESIGNS, HARDWARE, SOFTWARE PRODUCTS OR ANY OTHER APPLICATIONS RESULTING FROM USE OF THE SUBJECT FILE. FURTHER, GOVERNMENT AGENCY DISCLAIMS ALL WARRANTIES AND LIABILITIES REGARDING THIRD-PARTY SOFTWARE, IF PRESENT IN THE SUBJECT FILE, AND DISTRIBUTES IT \"AS IS.\""
   ]
  }
 ],
 "metadata": {
  "kernelspec": {
   "display_name": "Python 3 (ipykernel)",
   "language": "python",
   "name": "python3"
  },
  "language_info": {
   "codemirror_mode": {
    "name": "ipython",
    "version": 3
   },
   "file_extension": ".py",
   "mimetype": "text/x-python",
   "name": "python",
   "nbconvert_exporter": "python",
   "pygments_lexer": "ipython3",
   "version": "3.9.7"
  }
 },
 "nbformat": 4,
 "nbformat_minor": 2
}
