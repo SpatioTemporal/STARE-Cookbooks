{
 "cells": [
  {
   "cell_type": "code",
   "execution_count": 1,
   "metadata": {},
   "outputs": [],
   "source": [
    "import os\n",
    "from dask_gateway import Gateway\n",
    "from dask_gateway import GatewayCluster\n",
    "from dask.distributed import Client\n"
   ]
  },
  {
   "cell_type": "code",
   "execution_count": 2,
   "metadata": {},
   "outputs": [],
   "source": [
    "# Dask helpers\n",
    "def slam(client,action,data,partition_factor=1.5):\n",
    "    np = sum(client.nthreads().values())\n",
    "    print('slam: np = %i'%np)\n",
    "    shard_bounds = [int(i*len(data)/(1.0*partition_factor*np)) for i in range(int(partition_factor*np))] \n",
    "    if shard_bounds[-1] != len(data):\n",
    "        print('a sb[-1]: ',shard_bounds[-1],len(data))\n",
    "        shard_bounds = shard_bounds + [len(data)]\n",
    "    print('sb: ',shard_bounds)\n",
    "    data_shards = [data[shard_bounds[i]:shard_bounds[i+1]] for i in range(len(shard_bounds)-1)]\n",
    "    print('ds len:        ',len(data_shards))\n",
    "    print('ds item len:   ',len(data_shards[0]))\n",
    "    print('ds type:       ',type(data_shards[0]))\n",
    "    try:\n",
    "        print('ds dtype:      ',data_shards[0].dtype)\n",
    "    except:\n",
    "        pass\n",
    "    big_future = client.scatter(data_shards)\n",
    "    results    = client.map(action,big_future)\n",
    "    return results\n"
   ]
  },
  {
   "cell_type": "code",
   "execution_count": null,
   "metadata": {},
   "outputs": [],
   "source": []
  },
  {
   "cell_type": "code",
   "execution_count": 3,
   "metadata": {},
   "outputs": [
    {
     "data": {
      "text/plain": [
       "Gateway<http://10.100.222.95:8000/services/dask-gateway>"
      ]
     },
     "execution_count": 3,
     "metadata": {},
     "output_type": "execute_result"
    }
   ],
   "source": [
    "gateway = Gateway(); gateway"
   ]
  },
  {
   "cell_type": "code",
   "execution_count": 4,
   "metadata": {},
   "outputs": [
    {
     "data": {
      "application/vnd.jupyter.widget-view+json": {
       "model_id": "d885814dd57d42d19bb19e56a951d87f",
       "version_major": 2,
       "version_minor": 0
      },
      "text/plain": [
       "VBox(children=(HTML(value='<h2>Cluster Options</h2>'), GridBox(children=(HTML(value=\"<p style='font-weight: bo…"
      ]
     },
     "metadata": {},
     "output_type": "display_data"
    }
   ],
   "source": [
    "options = gateway.cluster_options(); options"
   ]
  },
  {
   "cell_type": "code",
   "execution_count": 55,
   "metadata": {},
   "outputs": [
    {
     "data": {
      "application/vnd.jupyter.widget-view+json": {
       "model_id": "a82409b30c834042ad0dba56708586b5",
       "version_major": 2,
       "version_minor": 0
      },
      "text/plain": [
       "VBox(children=(HTML(value='<h2>GatewayCluster</h2>'), HBox(children=(HTML(value='\\n<div>\\n<style scoped>\\n    …"
      ]
     },
     "metadata": {},
     "output_type": "display_data"
    }
   ],
   "source": [
    "cluster = gateway.new_cluster(); cluster"
   ]
  },
  {
   "cell_type": "code",
   "execution_count": 56,
   "metadata": {},
   "outputs": [
    {
     "data": {
      "text/plain": [
       "[ClusterReport<name=daskhub.bd2909b4c461495e98f1a0686fe6cbaa, status=RUNNING>]"
      ]
     },
     "execution_count": 56,
     "metadata": {},
     "output_type": "execute_result"
    }
   ],
   "source": [
    "clusters = gateway.list_clusters(); clusters"
   ]
  },
  {
   "cell_type": "code",
   "execution_count": 57,
   "metadata": {},
   "outputs": [
    {
     "data": {
      "text/html": [
       "<table style=\"border: 2px solid white;\">\n",
       "<tr>\n",
       "<td style=\"vertical-align: top; border: 0px solid white\">\n",
       "<h3 style=\"text-align: left;\">Client</h3>\n",
       "<ul style=\"text-align: left; list-style: none; margin: 0; padding: 0;\">\n",
       "  <li><b>Scheduler: </b>gateway://traefik-dhub-dask-gateway.daskhub:80/daskhub.bd2909b4c461495e98f1a0686fe6cbaa</li>\n",
       "  <li><b>Dashboard: </b><a href='/services/dask-gateway/clusters/daskhub.bd2909b4c461495e98f1a0686fe6cbaa/status' target='_blank'>/services/dask-gateway/clusters/daskhub.bd2909b4c461495e98f1a0686fe6cbaa/status</a></li>\n",
       "</ul>\n",
       "</td>\n",
       "<td style=\"vertical-align: top; border: 0px solid white\">\n",
       "<h3 style=\"text-align: left;\">Cluster</h3>\n",
       "<ul style=\"text-align: left; list-style:none; margin: 0; padding: 0;\">\n",
       "  <li><b>Workers: </b>1</li>\n",
       "  <li><b>Cores: </b>2</li>\n",
       "  <li><b>Memory: </b>4.29 GB</li>\n",
       "</ul>\n",
       "</td>\n",
       "</tr>\n",
       "</table>"
      ],
      "text/plain": [
       "<Client: 'tls://192.168.30.65:8786' processes=1 threads=2, memory=4.29 GB>"
      ]
     },
     "execution_count": 57,
     "metadata": {},
     "output_type": "execute_result"
    }
   ],
   "source": [
    "client = cluster.get_client(); client"
   ]
  },
  {
   "cell_type": "code",
   "execution_count": 24,
   "metadata": {},
   "outputs": [
    {
     "data": {
      "text/plain": [
       "0"
      ]
     },
     "execution_count": 24,
     "metadata": {},
     "output_type": "execute_result"
    }
   ],
   "source": [
    "# file_name='/home/jovyan/data/tmp/MOD05_L2.A2019337.1225.061.2019338011744.hdf'\n",
    "# os.system('cd /home/jovyan/data/tmp; /home/jovyan/bin/createSidecarFile '+file_name)"
   ]
  },
  {
   "cell_type": "code",
   "execution_count": null,
   "metadata": {},
   "outputs": [],
   "source": [
    "# TODO Teach createSidecarFile to understand S3 files."
   ]
  },
  {
   "cell_type": "code",
   "execution_count": 63,
   "metadata": {},
   "outputs": [],
   "source": [
    "import subprocess\n",
    "\n",
    "def slam_action(inputs):\n",
    "    ret=[]\n",
    "    for vars in inputs:\n",
    "        file_name = vars\n",
    "        # ok = os.system('cd /home/jovyan/data/tmp; /home/jovyan/bin/createSidecarFile '+file_name) # nope\n",
    "#        exe = subprocess.Popen(['/home/jovyan/bin/createSidecarFile',file_name]\n",
    "#                               ,cwd='/home/jovyan/data/tmp'\n",
    "#                               ,stdout=subprocess.PIPE\n",
    "#                               ,stderr=subprocess.STDOUT\n",
    "#                              )\n",
    "        exe = subprocess.Popen(['ls','/home/jovyan']\n",
    "#                               ,cwd='/home/jovyan/data/tmp/'\n",
    "                               ,stdout=subprocess.PIPE\n",
    "                               ,stderr=subprocess.STDOUT\n",
    "                              )\n",
    "        stdout,stderr=exe.communicate()\n",
    "        # print('vars: ',file_name)\n",
    "        ret.append(\"status fn=%s\\nout=%s\\nerr=%s\"%(file_name,stdout,stderr))\n",
    "    return ret\n",
    "\n",
    "# result = slam(client,make_virtual_from,inputs,partition_factor=1)\n",
    "# client.gather(result)"
   ]
  },
  {
   "cell_type": "code",
   "execution_count": 23,
   "metadata": {},
   "outputs": [
    {
     "name": "stdout",
     "output_type": "stream",
     "text": [
      "-rw-r--r-- 1 jovyan root 0 Oct 19 06:34 /tmp/pig\n"
     ]
    }
   ],
   "source": [
    "os.system('touch /tmp/pig')\n",
    "!ls -l /tmp/pig; rm /tmp/pig"
   ]
  },
  {
   "cell_type": "code",
   "execution_count": 43,
   "metadata": {},
   "outputs": [
    {
     "name": "stdout",
     "output_type": "stream",
     "text": [
      "/home/jovyan/git/STARE-Cookbooks/contrib/jupyter\n"
     ]
    }
   ],
   "source": [
    "!pwd"
   ]
  },
  {
   "cell_type": "code",
   "execution_count": 59,
   "metadata": {},
   "outputs": [
    {
     "data": {
      "text/plain": [
       "['/home/jovyan/data/tmp/MOD05_L2.A2019337.1225.061.2019338011744.hdf']"
      ]
     },
     "execution_count": 59,
     "metadata": {},
     "output_type": "execute_result"
    }
   ],
   "source": [
    "import glob\n",
    "basedir = '/home/jovyan/data/tmp/'\n",
    "files = glob.glob(basedir+'MOD05_L2*.hdf')[0:1]\n",
    "files"
   ]
  },
  {
   "cell_type": "code",
   "execution_count": 60,
   "metadata": {},
   "outputs": [],
   "source": [
    "inputs=[\"a\",\"b\",\"c\",\"d\",\"e\",\"f\"]\n",
    "inputs=inputs+inputs\n",
    "inputs=[\"a\",\"b\",\"c\"]\n",
    "# inputs=[\"a\",\"b\"]\n",
    "inputs = files"
   ]
  },
  {
   "cell_type": "code",
   "execution_count": 61,
   "metadata": {},
   "outputs": [
    {
     "data": {
      "text/plain": [
       "['/home/jovyan/data/tmp/MOD05_L2.A2019337.1225.061.2019338011744.hdf']"
      ]
     },
     "execution_count": 61,
     "metadata": {},
     "output_type": "execute_result"
    }
   ],
   "source": [
    "inputs"
   ]
  },
  {
   "cell_type": "code",
   "execution_count": 64,
   "metadata": {},
   "outputs": [
    {
     "name": "stdout",
     "output_type": "stream",
     "text": [
      "slam: np = 2\n",
      "a sb[-1]:  0 1\n",
      "sb:  [0, 0, 0, 1]\n",
      "ds len:         3\n",
      "ds item len:    0\n",
      "ds type:        <class 'list'>\n"
     ]
    }
   ],
   "source": [
    "results = slam(client,slam_action,inputs)\n",
    "cgresults = client.gather(results)"
   ]
  },
  {
   "cell_type": "code",
   "execution_count": 65,
   "metadata": {},
   "outputs": [
    {
     "data": {
      "text/plain": [
       "[[],\n",
       " [],\n",
       " [\"status fn=/home/jovyan/data/tmp/MOD05_L2.A2019337.1225.061.2019338011744.hdf\\nout=b'Dockerfile\\\\nconda-linux-64.lock\\\\ndask-worker-space\\\\nenvironment.yml\\\\npostBuild\\\\nstart\\\\n'\\nerr=None\"]]"
      ]
     },
     "execution_count": 65,
     "metadata": {},
     "output_type": "execute_result"
    }
   ],
   "source": [
    "[i.result() for i in results]"
   ]
  },
  {
   "cell_type": "code",
   "execution_count": 66,
   "metadata": {},
   "outputs": [],
   "source": [
    "client.close()"
   ]
  },
  {
   "cell_type": "code",
   "execution_count": 67,
   "metadata": {},
   "outputs": [],
   "source": [
    "cluster.shutdown()"
   ]
  },
  {
   "cell_type": "code",
   "execution_count": 68,
   "metadata": {},
   "outputs": [],
   "source": [
    "cluster.close()"
   ]
  },
  {
   "cell_type": "code",
   "execution_count": 69,
   "metadata": {},
   "outputs": [
    {
     "data": {
      "text/plain": [
       "[]"
      ]
     },
     "execution_count": 69,
     "metadata": {},
     "output_type": "execute_result"
    }
   ],
   "source": [
    "gateway.list_clusters()"
   ]
  },
  {
   "cell_type": "code",
   "execution_count": 70,
   "metadata": {},
   "outputs": [],
   "source": [
    "gateway.close()"
   ]
  }
 ],
 "metadata": {
  "kernelspec": {
   "display_name": "Python 3",
   "language": "python",
   "name": "python3"
  },
  "language_info": {
   "codemirror_mode": {
    "name": "ipython",
    "version": 3
   },
   "file_extension": ".py",
   "mimetype": "text/x-python",
   "name": "python",
   "nbconvert_exporter": "python",
   "pygments_lexer": "ipython3",
   "version": "3.7.8"
  }
 },
 "nbformat": 4,
 "nbformat_minor": 4
}
