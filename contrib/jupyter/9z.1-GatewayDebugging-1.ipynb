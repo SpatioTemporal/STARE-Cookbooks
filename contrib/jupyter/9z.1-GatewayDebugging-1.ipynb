{
 "cells": [
  {
   "cell_type": "code",
   "execution_count": 1,
   "metadata": {},
   "outputs": [],
   "source": [
    "from dask_gateway import Gateway\n",
    "from dask_gateway import GatewayCluster\n",
    "from dask.distributed import Client\n",
    "\n",
    "import socket\n",
    "import pprint\n",
    "import numpy\n",
    "import pystare\n",
    "\n",
    "import os\n",
    "import sys"
   ]
  },
  {
   "cell_type": "code",
   "execution_count": 2,
   "metadata": {},
   "outputs": [
    {
     "data": {
      "text/plain": [
       "Gateway<http://10.100.222.95:8000/services/dask-gateway>"
      ]
     },
     "execution_count": 2,
     "metadata": {},
     "output_type": "execute_result"
    }
   ],
   "source": [
    "gateway = Gateway(); gateway"
   ]
  },
  {
   "cell_type": "code",
   "execution_count": 19,
   "metadata": {},
   "outputs": [
    {
     "data": {
      "text/plain": [
       "[ClusterReport<name=daskhub.fd3a2fb9478a4264b86a60ccd840de8c, status=PENDING>,\n",
       " ClusterReport<name=daskhub.286d06b40fc247928b672c51d7b63d09, status=PENDING>,\n",
       " ClusterReport<name=daskhub.dfb8280a091d4f329661cac343637a2c, status=RUNNING>]"
      ]
     },
     "execution_count": 19,
     "metadata": {},
     "output_type": "execute_result"
    }
   ],
   "source": [
    "clusters = gateway.list_clusters(); clusters"
   ]
  },
  {
   "cell_type": "code",
   "execution_count": null,
   "metadata": {},
   "outputs": [],
   "source": []
  }
 ],
 "metadata": {
  "kernelspec": {
   "display_name": "Python [conda env:stare-1]",
   "language": "python",
   "name": "conda-env-stare-1-py"
  },
  "language_info": {
   "codemirror_mode": {
    "name": "ipython",
    "version": 3
   },
   "file_extension": ".py",
   "mimetype": "text/x-python",
   "name": "python",
   "nbconvert_exporter": "python",
   "pygments_lexer": "ipython3",
   "version": "3.7.8"
  }
 },
 "nbformat": 4,
 "nbformat_minor": 4
}
