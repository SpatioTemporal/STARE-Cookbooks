{
 "cells": [
  {
   "cell_type": "code",
   "execution_count": 124,
   "id": "d02b61d4",
   "metadata": {},
   "outputs": [],
   "source": [
    "import pystare\n",
    "import pystareplotlib\n",
    "import pystareplotlib.pystareplotlib as psplot\n",
    "from pystareplotlib.pystareplotlib import *\n",
    "\n",
    "import matplotlib as mpl\n",
    "import matplotlib.pyplot as plt\n",
    "import matplotlib.tri as tri\n",
    "from matplotlib.colors import ListedColormap\n",
    "import matplotlib.cm as cm\n",
    "import matplotlib.ticker as mticker\n",
    "\n",
    "import cartopy.crs as ccrs\n",
    "import cartopy.feature as cf\n",
    "from cartopy.geodesic import Geodesic\n",
    "\n",
    "import numpy\n",
    "import math\n",
    "from math import sqrt,sin,cos\n",
    "\n",
    "import pyproj\n",
    "import scipy.linalg\n",
    "from scipy.linalg import expm, norm\n",
    "\n",
    "import geopandas\n",
    "import starepandas\n",
    "\n",
    "from time import process_time as clock"
   ]
  },
  {
   "cell_type": "code",
   "execution_count": 102,
   "id": "7c5bd27d",
   "metadata": {},
   "outputs": [],
   "source": [
    "from dask.distributed import Client\n",
    "# client = Client(processes=False) # local workers are threads\n",
    "client = Client()"
   ]
  },
  {
   "cell_type": "code",
   "execution_count": 101,
   "id": "f0ee55b2",
   "metadata": {},
   "outputs": [],
   "source": [
    "client.shutdown()"
   ]
  },
  {
   "cell_type": "code",
   "execution_count": 3,
   "id": "3ace9da7",
   "metadata": {},
   "outputs": [],
   "source": [
    "import h5py"
   ]
  },
  {
   "cell_type": "code",
   "execution_count": 4,
   "id": "9c2cc789",
   "metadata": {},
   "outputs": [
    {
     "name": "stdout",
     "output_type": "stream",
     "text": [
      "Current DPI:  100.0\n"
     ]
    }
   ],
   "source": [
    "# Define Global Constants and State Variables\n",
    "# -------------------------------------------\n",
    "\n",
    "# Set up the projection and transformation\n",
    "PROJ = ccrs.PlateCarree()\n",
    "# PROJ = ccrs.Robinson()\n",
    "# PROJ = ccrs.Mollweide()\n",
    "TRANSF = ccrs.Geodetic()\n",
    "USR_SET_GLOBAL = True\n",
    "\n",
    "# Plot options\n",
    "#matplotlib notebook\n",
    "%matplotlib inline\n",
    "\n",
    "usr_plot_options = {'projection': PROJ, 'transform': TRANSF}\n",
    "DEFAULT_DPI = mpl.rcParamsDefault['figure.dpi']\n",
    "\n",
    "#mpl.rcParams['figure.dpi'] = 1.5 * DEFAULT_DPI\n",
    "#mpl.rcParams['legend.fontsize'] = 6\n",
    "\n",
    "mpl.rcParams['figure.dpi'] = 2 * DEFAULT_DPI\n",
    "mpl.rcParams['legend.fontsize'] = 6\n",
    "mpl.rcParams['figure.figsize'] = [3, 3]\n",
    "\n",
    "print('Current DPI: ',mpl.rcParamsDefault['figure.dpi'])"
   ]
  },
  {
   "cell_type": "code",
   "execution_count": 5,
   "id": "b2220949",
   "metadata": {},
   "outputs": [],
   "source": [
    "nearside_plot_options = {\n",
    "    'projection':\n",
    "    ccrs.NearsidePerspective(central_longitude=-179.9\n",
    "                             ,central_latitude=-89.9\n",
    "                             ,satellite_height=35785831\n",
    "                             ,false_easting=0\n",
    "                             ,false_northing=0\n",
    "                             ,globe=None)\n",
    "    ,'transform': ccrs.Geodetic()\n",
    "}"
   ]
  },
  {
   "cell_type": "markdown",
   "id": "104f2ce5",
   "metadata": {},
   "source": [
    "From [The IMERG multi-satellite precipitation estimates reformatted as 2-byte GeoTIFF files\n",
    "for display in a Geographic Information System](https://gpm.nasa.gov/sites/default/files/2020-06/IMERG-GIS-Readme_4_22_20.pdf).\n",
    "\n",
    "Both the HDF5 and GIS versions of IMERG contain rectangular latitude-longitude grids that have 3600 columns for longitude and 1800 rows for latitude. This grid covers the globe (90°S to 90°N and 180°W to 180°E) at 0.1° resolution."
   ]
  },
  {
   "cell_type": "code",
   "execution_count": 6,
   "id": "3e5c27bd",
   "metadata": {},
   "outputs": [],
   "source": [
    "def mp(l):\n",
    "    return list(l)+[l[0]]"
   ]
  },
  {
   "cell_type": "code",
   "execution_count": 24,
   "id": "53526310",
   "metadata": {},
   "outputs": [],
   "source": [
    "del grid"
   ]
  },
  {
   "cell_type": "code",
   "execution_count": 186,
   "id": "d3d1e134",
   "metadata": {},
   "outputs": [],
   "source": [
    "class grid:\n",
    "    def __init__(self,x,y,nx_intervals,ny_intervals,name=''):\n",
    "        self.x = x\n",
    "        self.y = y\n",
    "        self.nx_intervals = nx_intervals\n",
    "        self.ny_intervals = ny_intervals\n",
    "        self.Lx=x[1]-x[0]\n",
    "        self.Ly=y[1]-y[0]\n",
    "        self.dx=self.Lx/nx_intervals\n",
    "        self.dy=self.Ly/ny_intervals\n",
    "        self.name = name\n",
    "    def corners(self,i,j):\n",
    "        dx = self.dx\n",
    "        dy = self.dy\n",
    "        x0 = self.x[0]\n",
    "        y0 = self.y[0]\n",
    "        corners = []\n",
    "        x = x0 + i*dx; y = y0 + j*dy\n",
    "        corners = corners + [(x,y)]\n",
    "        x = x0 + (i+1)*dx; y = y0 + j*dy\n",
    "        corners = corners + [(x,y)]\n",
    "        x = x0 + (i+1)*dx; y = y0 + (j+1)*dy\n",
    "        corners = corners + [(x,y)]\n",
    "        x = x0 + i*dx; y = y0 + (j+1)*dy\n",
    "        corners = corners + [(x,y)]\n",
    "        return corners\n",
    "#        return [(i*dx,j*dy),((i+1)*dx,j*dy),((i+1)*dx,(j+1)*dy),((i)*dx,(j+1)*dy)]\n",
    "    def corners2(self,i,j):\n",
    "        return zip(*self.corners(i,j))\n",
    "    def centroid(self,i,j):\n",
    "        corners2 = list(self.corners2(i,j))\n",
    "#        print(corners2)\n",
    "#        print(list(corners2[0]))\n",
    "        lon = sum(list(corners2[0]))/4.0\n",
    "        lat = sum(list(corners2[1]))/4.0\n",
    "        return lon,lat\n",
    "    def sivs(self,i,j,level=None):\n",
    "        lonlats = list(self.corners2(i,j))\n",
    "        lons = lonlats[0]\n",
    "        lats = lonlats[1]\n",
    "        lon_,lat_=self.centroid(i,j)\n",
    "#        print(lons,lats,lon_,lat_)\n",
    "\n",
    "        center = pystare.from_latlon([lat_],[lon_],27)\n",
    "        corners = pystare.from_latlon(lats,lons,27)\n",
    "#        print('corners: ',corners)\n",
    "        corners = pystare.adapt_resolution_to_proximity([corners[0],corners[2]])\n",
    "#        print('corners: ',corners)\n",
    "        corner_level = corners[0] & 31\n",
    "        center[0] = (center[0] & ~31) + corner_level\n",
    "#        center[0] = (center[0] & ~31) + (corner_level - 1)\n",
    "    \n",
    "#        print('cl: ',corner_level+1)\n",
    "\n",
    "#        print('level: ',level,type(level))\n",
    "        if level is None:\n",
    "            cover = pystare.cover_from_ring(lats,lons,level=int(corner_level + 4))\n",
    "        else:\n",
    "            cover = pystare.cover_from_ring(lats,lons,level=int(level))\n",
    "        \n",
    "        return \\\n",
    "            [cover,lons,lats]\\\n",
    "            ,[center,[lon_],[lat_]]\\\n",
    "            ,i,j,level\n",
    "    \n",
    "    def sivs1(self,arg):\n",
    "        return self.sivs(arg[0],arg[1],level=arg[2])\n",
    "    \n",
    "    def open_h5(self,filename):\n",
    "        f = h5py.File(filename,'w')\n",
    "        # f = h5py.File(filename,'w',libver='latest')\n",
    "        info = f.create_group('info')\n",
    "        cells = f.create_group('cells')\n",
    "        index = f.create_group('stare_index')\n",
    "        info.create_dataset('name',data = filename)\n",
    "        info.create_dataset('nx_intervals',data = self.nx_intervals)\n",
    "        info.create_dataset('ny_intervals',data = self.ny_intervals)\n",
    "        return f,info,cells,index\n",
    "    \n",
    "#    def close_h5(self):\n",
    "#        self.f.close()\n",
    "#        return True\n",
    "\n",
    "# This is just sivs\n",
    "#    def calc_cell(self,i,j,level=None):\n",
    "#        sivs,centroid = self.sivs(i,j,level)\n",
    "#        return self.sivs(i,j,level)\n",
    "    \n",
    "    def cell_to_h5(self,c,file=None):\n",
    "        f = file[0]\n",
    "        info = file[1]\n",
    "        cells = file[2]\n",
    "        index = file[3]\n",
    "        \n",
    "        sivs     = c[0]\n",
    "        centroid = c[1]\n",
    "        i        = c[2]\n",
    "        j        = c[3]\n",
    "        level    = c[4]\n",
    "\n",
    "        if j is not None:\n",
    "            if i is not None:\n",
    "#        for j in range(self.ny_intervals):\n",
    "#            for i in range(self.nx_intervals):\n",
    "#                sivs,centroid [,i,j,level] = self.sivs(i,j,level)\n",
    "\n",
    "                \n",
    "                if level is None:\n",
    "                    level = (centroid[0][0] & 31) + 4\n",
    "                \n",
    "                l = i + self.nx_intervals*j\n",
    "\n",
    "                try:\n",
    "                    jgroup = cells.create_group(str(i)+'/'+str(j))\n",
    "                except ValueError:\n",
    "                    pass\n",
    "                \n",
    "                jgroup.create_dataset('i',data   = i)\n",
    "                jgroup.create_dataset('j',data   = j)\n",
    "                jgroup.create_dataset('ij',data  = l)\n",
    "                \n",
    "                jgroup.create_dataset('ncorners',data = len(sivs[1]))\n",
    "                jgroup.create_dataset('level',   data = level)\n",
    "                \n",
    "                jgroup.create_dataset('lons',data  = sivs[1])\n",
    "                jgroup.create_dataset('lats',data  = sivs[2])\n",
    "                jgroup.create_dataset('lon_centroid',data  = centroid[1][0])\n",
    "                jgroup.create_dataset('lat_centroid',data  = centroid[2][0])\n",
    "                \n",
    "                jgroup.create_dataset('sivs',data  = sivs[0])\n",
    "                jgroup.create_dataset('sidx',data  = centroid[0][0])\n",
    "                \n",
    "                c_level = centroid[0][0] & 31\n",
    "                \n",
    "                for s in sivs[0]:\n",
    "                    s_c_level = pystare.spatial_clear_to_resolution(\n",
    "                        pystare.spatial_coerce_resolution(s,c_level))\n",
    "                    # hidx  = hex((s_c_level & ~31)/2)\n",
    "                    # bug hidx0 = hex(s_c_level)\n",
    "                    hidx0 = '0x{n:016x}'.format(n=s_c_level)\n",
    "                    hidx = hidx0[0:4]+'/'+hidx0[4:6]+'/'+hidx0[6:8]+'/'+hidx0[8:10]+'/'+hidx0[10:12]+'/'+hidx0[12:]\n",
    "                    try:\n",
    "                        s_c_group = index.create_group(hidx)\n",
    "                    except ValueError:\n",
    "                        s_c_group = index[hidx]\n",
    "                    try:\n",
    "                        s_c_ij_group = s_c_group.create_group(str(i)+'/'+str(j))\n",
    "                        s_c_ij_group.create_dataset('i', data = i)\n",
    "                        s_c_ij_group.create_dataset('j', data = j)\n",
    "                    except ValueError:\n",
    "                        pass\n",
    "        \n",
    "        return True\n",
    "    \n",
    "#    def to_h5(self,level=None):\n",
    "#        for j in range(self.ny_intervals):\n",
    "#            for i in range(self.nx_intervals):\n",
    "#                self.cell_to_h5(i,j,level=level)\n",
    "#        return True\n",
    "                \n"
   ]
  },
  {
   "cell_type": "code",
   "execution_count": 137,
   "id": "6e3c231a",
   "metadata": {},
   "outputs": [],
   "source": [
    "del g10\n",
    "del gr"
   ]
  },
  {
   "cell_type": "code",
   "execution_count": 138,
   "id": "c553a839",
   "metadata": {},
   "outputs": [],
   "source": [
    "g10 = grid((0,1),(0,1),10,10)\n",
    "gr = g10"
   ]
  },
  {
   "cell_type": "code",
   "execution_count": 182,
   "id": "d7ed36e7",
   "metadata": {},
   "outputs": [],
   "source": [
    "g10 = grid((-180,180),(-90,90),256,256)\n",
    "gr = g10"
   ]
  },
  {
   "cell_type": "code",
   "execution_count": 188,
   "id": "e491f8c9",
   "metadata": {},
   "outputs": [],
   "source": [
    "gImerg = grid((-180,180),(-90,90),3600,1800)\n",
    "gr = gImerg"
   ]
  },
  {
   "cell_type": "code",
   "execution_count": 173,
   "id": "bbc8a8a4",
   "metadata": {},
   "outputs": [
    {
     "data": {
      "text/plain": [
       "16.0"
      ]
     },
     "execution_count": 173,
     "metadata": {},
     "output_type": "execute_result"
    }
   ],
   "source": [
    "(256 ** 2.0)/4096."
   ]
  },
  {
   "cell_type": "code",
   "execution_count": 174,
   "id": "06c12084",
   "metadata": {},
   "outputs": [
    {
     "data": {
      "text/plain": [
       "65536"
      ]
     },
     "execution_count": 174,
     "metadata": {},
     "output_type": "execute_result"
    }
   ],
   "source": [
    "(256**2)"
   ]
  },
  {
   "cell_type": "code",
   "execution_count": 183,
   "id": "a8322723",
   "metadata": {},
   "outputs": [],
   "source": [
    "# gr\n",
    "\n",
    "def calc_cell(c):\n",
    "    return gr.sivs1(c)"
   ]
  },
  {
   "cell_type": "code",
   "execution_count": 177,
   "id": "b7d8101c",
   "metadata": {},
   "outputs": [
    {
     "data": {
      "text/plain": [
       "1024"
      ]
     },
     "execution_count": 177,
     "metadata": {},
     "output_type": "execute_result"
    }
   ],
   "source": [
    "min(gr.nx_intervals*gr.ny_intervals,1024)"
   ]
  },
  {
   "cell_type": "code",
   "execution_count": 187,
   "id": "4c97acdf",
   "metadata": {},
   "outputs": [],
   "source": [
    "! mv tmp.h5 lon256_lat256.h5"
   ]
  },
  {
   "cell_type": "code",
   "execution_count": 189,
   "id": "961c35fe",
   "metadata": {},
   "outputs": [
    {
     "name": "stdout",
     "output_type": "stream",
     "text": [
      "rm: tmp.h5: No such file or directory\n"
     ]
    }
   ],
   "source": [
    "!rm tmp.h5"
   ]
  },
  {
   "cell_type": "code",
   "execution_count": 168,
   "id": "32c347c8",
   "metadata": {},
   "outputs": [
    {
     "data": {
      "text/plain": [
       "8192"
      ]
     },
     "execution_count": 168,
     "metadata": {},
     "output_type": "execute_result"
    }
   ],
   "source": [
    "2*4096"
   ]
  },
  {
   "cell_type": "code",
   "execution_count": 126,
   "id": "5d4e8f1e",
   "metadata": {},
   "outputs": [],
   "source": [
    "f[0].close()"
   ]
  },
  {
   "cell_type": "code",
   "execution_count": 190,
   "id": "2a326603",
   "metadata": {},
   "outputs": [
    {
     "name": "stdout",
     "output_type": "stream",
     "text": [
      "setup time (s) =  670.113222  output time (s) =  3024.487316999999  ratio =  4.513397464346703  n_left:  6414463\n",
      "setup time (s) =  690.8412690000005  output time (s) =  4608.094711999998  ratio =  6.670265542575736  n_left:  6348926\n",
      "setup time (s) =  589.7544239999988  output time (s) =  4154.997463000003  ratio =  7.045301050594597  n_left:  6283389\n",
      "setup time (s) =  571.6248379999997  output time (s) =  3663.8332439999976  ratio =  6.409506726158039  n_left:  6217852\n",
      "setup time (s) =  583.8867979999995  output time (s) =  3979.4077840000027  ratio =  6.81537551051121  n_left:  6152315\n",
      "setup time (s) =  608.8207059999986  output time (s) =  4051.165676000004  ratio =  6.654119408350105  n_left:  6086778\n",
      "setup time (s) =  594.4320570000054  output time (s) =  4048.959874  ratio =  6.811476309730656  n_left:  6021241\n",
      "setup time (s) =  587.2814779999972  output time (s) =  4068.654279000002  ratio =  6.927945851205649  n_left:  5955704\n",
      "setup time (s) =  595.1402670000025  output time (s) =  4074.5982039999944  ratio =  6.846450206670316  n_left:  5890167\n",
      "setup time (s) =  587.4976790000001  output time (s) =  4136.009145999997  ratio =  7.0400433803245654  n_left:  5824630\n",
      "setup time (s) =  654.9503970000005  output time (s) =  4099.984293000009  ratio =  6.259992072346214  n_left:  5759093\n",
      "setup time (s) =  643.3171589999984  output time (s) =  4445.645403000002  ratio =  6.9105033820495585  n_left:  5693556\n",
      "setup time (s) =  630.8555720000004  output time (s) =  4507.860480000003  ratio =  7.145629966790561  n_left:  5628019\n",
      "setup time (s) =  559.0453310000012  output time (s) =  2837.4226380000036  ratio =  5.075478643072681  n_left:  5562482\n",
      "setup time (s) =  553.5039759999927  output time (s) =  5893.786453000008  ratio =  10.64813751762478  n_left:  5496945\n",
      "setup time (s) =  638.9499650000071  output time (s) =  7604.163058999999  ratio =  11.901030558785482  n_left:  5431408\n",
      "setup time (s) =  671.9838120000059  output time (s) =  7997.847974999997  ratio =  11.90184619358052  n_left:  5365871\n",
      "setup time (s) =  718.2807450000109  output time (s) =  7260.1617750000005  ratio =  10.107693719396432  n_left:  5300334\n",
      "setup time (s) =  619.0838760000042  output time (s) =  6789.988692999992  ratio =  10.96780090102031  n_left:  5234797\n",
      "setup time (s) =  646.1628020000062  output time (s) =  7018.246727999998  ratio =  10.861421775250893  n_left:  5169260\n",
      "setup time (s) =  642.0389940000023  output time (s) =  6994.294440999991  ratio =  10.893877951905155  n_left:  5103723\n"
     ]
    },
    {
     "ename": "KilledWorker",
     "evalue": "('calc_cell-b9ec526397884da0ed182101e7c9f7e5', <WorkerState 'tcp://127.0.0.1:54823', name: 1, status: closed, memory: 0, processing: 4327>)",
     "output_type": "error",
     "traceback": [
      "\u001b[0;31m---------------------------------------------------------------------------\u001b[0m",
      "\u001b[0;31mKilledWorker\u001b[0m                              Traceback (most recent call last)",
      "\u001b[0;32m/var/folders/q9/t6pps0j954l457p2dlg95bw00000gn/T/ipykernel_85980/732870063.py\u001b[0m in \u001b[0;36m<module>\u001b[0;34m\u001b[0m\n\u001b[1;32m     22\u001b[0m             \u001b[0mts1\u001b[0m \u001b[0;34m=\u001b[0m \u001b[0mt0\u001b[0m\u001b[0;34m\u001b[0m\u001b[0;34m\u001b[0m\u001b[0m\n\u001b[1;32m     23\u001b[0m             \u001b[0;32mfor\u001b[0m \u001b[0mr\u001b[0m \u001b[0;32min\u001b[0m \u001b[0mblock_results\u001b[0m\u001b[0;34m:\u001b[0m\u001b[0;34m\u001b[0m\u001b[0;34m\u001b[0m\u001b[0m\n\u001b[0;32m---> 24\u001b[0;31m                 \u001b[0mgr\u001b[0m\u001b[0;34m.\u001b[0m\u001b[0mcell_to_h5\u001b[0m\u001b[0;34m(\u001b[0m\u001b[0mr\u001b[0m\u001b[0;34m.\u001b[0m\u001b[0mresult\u001b[0m\u001b[0;34m(\u001b[0m\u001b[0;34m)\u001b[0m\u001b[0;34m,\u001b[0m\u001b[0mfile\u001b[0m\u001b[0;34m=\u001b[0m\u001b[0mf\u001b[0m\u001b[0;34m)\u001b[0m\u001b[0;34m\u001b[0m\u001b[0;34m\u001b[0m\u001b[0m\n\u001b[0m\u001b[1;32m     25\u001b[0m             \u001b[0mt1\u001b[0m \u001b[0;34m=\u001b[0m \u001b[0mclock\u001b[0m\u001b[0;34m(\u001b[0m\u001b[0;34m)\u001b[0m\u001b[0;34m\u001b[0m\u001b[0;34m\u001b[0m\u001b[0m\n\u001b[1;32m     26\u001b[0m             \u001b[0mprint\u001b[0m\u001b[0;34m(\u001b[0m\u001b[0;34m'setup time (s) = '\u001b[0m\u001b[0;34m,\u001b[0m\u001b[0mts1\u001b[0m\u001b[0;34m-\u001b[0m\u001b[0mts0\u001b[0m\u001b[0;34m,\u001b[0m\u001b[0;34m' output time (s) = '\u001b[0m\u001b[0;34m,\u001b[0m\u001b[0mt1\u001b[0m\u001b[0;34m-\u001b[0m\u001b[0mt0\u001b[0m\u001b[0;34m,\u001b[0m\u001b[0;34m' ratio = '\u001b[0m\u001b[0;34m,\u001b[0m\u001b[0;34m(\u001b[0m\u001b[0mt1\u001b[0m\u001b[0;34m-\u001b[0m\u001b[0mt0\u001b[0m\u001b[0;34m)\u001b[0m\u001b[0;34m/\u001b[0m\u001b[0;34m(\u001b[0m\u001b[0mts1\u001b[0m\u001b[0;34m-\u001b[0m\u001b[0mts0\u001b[0m\u001b[0;34m)\u001b[0m\u001b[0;34m,\u001b[0m\u001b[0;34m' n_left: '\u001b[0m\u001b[0;34m,\u001b[0m\u001b[0mn_cells_left\u001b[0m\u001b[0;34m)\u001b[0m\u001b[0;34m\u001b[0m\u001b[0;34m\u001b[0m\u001b[0m\n",
      "\u001b[0;32m~/opt/anaconda3/envs/stare/lib/python3.9/site-packages/distributed/client.py\u001b[0m in \u001b[0;36mresult\u001b[0;34m(self, timeout)\u001b[0m\n\u001b[1;32m    231\u001b[0m         \u001b[0;32mif\u001b[0m \u001b[0mself\u001b[0m\u001b[0;34m.\u001b[0m\u001b[0mstatus\u001b[0m \u001b[0;34m==\u001b[0m \u001b[0;34m\"error\"\u001b[0m\u001b[0;34m:\u001b[0m\u001b[0;34m\u001b[0m\u001b[0;34m\u001b[0m\u001b[0m\n\u001b[1;32m    232\u001b[0m             \u001b[0mtyp\u001b[0m\u001b[0;34m,\u001b[0m \u001b[0mexc\u001b[0m\u001b[0;34m,\u001b[0m \u001b[0mtb\u001b[0m \u001b[0;34m=\u001b[0m \u001b[0mresult\u001b[0m\u001b[0;34m\u001b[0m\u001b[0;34m\u001b[0m\u001b[0m\n\u001b[0;32m--> 233\u001b[0;31m             \u001b[0;32mraise\u001b[0m \u001b[0mexc\u001b[0m\u001b[0;34m.\u001b[0m\u001b[0mwith_traceback\u001b[0m\u001b[0;34m(\u001b[0m\u001b[0mtb\u001b[0m\u001b[0;34m)\u001b[0m\u001b[0;34m\u001b[0m\u001b[0;34m\u001b[0m\u001b[0m\n\u001b[0m\u001b[1;32m    234\u001b[0m         \u001b[0;32melif\u001b[0m \u001b[0mself\u001b[0m\u001b[0;34m.\u001b[0m\u001b[0mstatus\u001b[0m \u001b[0;34m==\u001b[0m \u001b[0;34m\"cancelled\"\u001b[0m\u001b[0;34m:\u001b[0m\u001b[0;34m\u001b[0m\u001b[0;34m\u001b[0m\u001b[0m\n\u001b[1;32m    235\u001b[0m             \u001b[0;32mraise\u001b[0m \u001b[0mresult\u001b[0m\u001b[0;34m\u001b[0m\u001b[0;34m\u001b[0m\u001b[0m\n",
      "\u001b[0;31mKilledWorker\u001b[0m: ('calc_cell-b9ec526397884da0ed182101e7c9f7e5', <WorkerState 'tcp://127.0.0.1:54823', name: 1, status: closed, memory: 0, processing: 4327>)"
     ]
    }
   ],
   "source": [
    "f = gr.open_h5('tmp.h5')\n",
    "\n",
    "n_cells_left = gr.nx_intervals*gr.ny_intervals\n",
    "\n",
    "block = min(n_cells_left,65536)\n",
    "iblock = 0\n",
    "block_results = []\n",
    "\n",
    "ts0 = clock()\n",
    "total_setup_time = 0\n",
    "total_output_time  = 0\n",
    "total0 = ts0\n",
    "\n",
    "for j in range(gr.ny_intervals):\n",
    "    for i in range(gr.nx_intervals):\n",
    "        block_results.append(client.submit(calc_cell,(i,j,None)))\n",
    "        iblock += 1\n",
    "        n_cells_left -= 1\n",
    "        \n",
    "        if iblock > block or n_cells_left < 1 :\n",
    "            t0 = clock()\n",
    "            ts1 = t0\n",
    "            for r in block_results:\n",
    "                gr.cell_to_h5(r.result(),file=f)\n",
    "            t1 = clock()\n",
    "            print('setup time (s) = ',ts1-ts0,' output time (s) = ',t1-t0,' ratio = ',(t1-t0)/(ts1-ts0),' n_left: ',n_cells_left)\n",
    "            total_output_time  += t1-t0\n",
    "            total_setup_time   += ts1-ts0\n",
    "            ts0=clock()\n",
    "                \n",
    "            iblock = 0\n",
    "            block_results = []\n",
    "\n",
    "total_time = clock()-total0\n",
    "print('block:             ',block)\n",
    "print('nx,ny,nx*ny:       ',gr.nx_intervals,gr.ny_intervals,gr.nx_intervals*gr.ny_intervals)\n",
    "print('total_setup_time:  ',total_setup_time)\n",
    "print('total_output_time: ',total_output_time)\n",
    "print('total_time:        ',total_time)\n",
    "print('ratio io/compute:  ',total_output_time/total_setup_time)\n",
    "print('imerg estimate:    ',total_time*(3600*1800/( (gr.nx_intervals*gr.ny_intervals) * (3600.0 * 24.) )))\n",
    "\n",
    "            \n",
    "f[0].close()\n"
   ]
  },
  {
   "cell_type": "code",
   "execution_count": 155,
   "id": "38818a12",
   "metadata": {},
   "outputs": [
    {
     "name": "stdout",
     "output_type": "stream",
     "text": [
      "imerg estimate:     5.88\n"
     ]
    }
   ],
   "source": [
    "total_time = 196\n",
    "print('imerg estimate:    ',total_time*(3600*1800/( (gr.nx_intervals*gr.ny_intervals) * (3600.0 * 24.) )))"
   ]
  },
  {
   "cell_type": "markdown",
   "id": "b3b3a3eb",
   "metadata": {},
   "source": [
    "\n",
    "setup time (s) =  37.147598000000016  output time (s) =  246.88737500000025  ratio =  6.646119487994894  n_left:  12287\n",
    "setup time (s) =  40.676710999999614  output time (s) =  267.23900900000035  ratio =  6.5698283472329635  n_left:  8190\n",
    "setup time (s) =  38.99926400000004  output time (s) =  268.71246699999983  ratio =  6.890193286724579  n_left:  4093\n",
    "setup time (s) =  40.02590000000009  output time (s) =  241.230137  ratio =  6.026851038952265  n_left:  0\n",
    "block:              4096\n",
    "nx,ny,nx*ny:        128 128 16384\n",
    "total_setup_time:   156.84947299999976\n",
    "total_output_time:  1024.0689880000004\n",
    "total_time:         1181.8311910000002\n",
    "ratio io/compute:   6.528992214082875\n",
    "imerg estimate:     5.409993855285646\n",
    "\n",
    "setup time (s) =  84.45048799999995  output time (s) =  518.5870029999996  ratio =  6.140722395825587  n_left:  8191\n",
    "setup time (s) =  90.01747299999988  output time (s) =  519.2807619999994  ratio =  5.768666289932401  n_left:  0\n",
    "block:              8192\n",
    "nx,ny,nx*ny:        128 128 16384\n",
    "total_setup_time:   174.46796099999983\n",
    "total_output_time:  1037.867764999999\n",
    "total_time:         1214.2452559999997\n",
    "ratio io/compute:   5.948758494403451\n",
    "imerg estimate:     5.558373669433593\n",
    "\n",
    "setup time (s) =  634.992139  output time (s) =  4192.6424879999995  ratio =  6.602668333190184  n_left:  0\n",
    "block:              65536\n",
    "nx,ny,nx*ny:        256 256 65536\n",
    "total_setup_time:   634.992139\n",
    "total_output_time:  4192.6424879999995\n",
    "total_time:         4843.300666000001\n",
    "ratio io/compute:   6.602668333190184\n",
    "imerg estimate:     5.5427177421569835\n",
    "\n",
    "setup time (s) =  641.7057609999993  output time (s) =  4389.06511  ratio =  6.839684753897674  n_left:  0\n",
    "block:              65536\n",
    "nx,ny,nx*ny:        256 256 65536\n",
    "total_setup_time:   641.7057609999993\n",
    "total_output_time:  4389.06511\n",
    "total_time:         5045.694835\n",
    "ratio io/compute:   6.839684753897674\n",
    "imerg estimate:     5.774339487075806\n"
   ]
  },
  {
   "cell_type": "code",
   "execution_count": null,
   "id": "a9bf70ac",
   "metadata": {},
   "outputs": [],
   "source": []
  },
  {
   "cell_type": "code",
   "execution_count": null,
   "id": "2f41cb5b",
   "metadata": {},
   "outputs": [],
   "source": [
    "! mv tmp.h5 "
   ]
  },
  {
   "cell_type": "code",
   "execution_count": 133,
   "id": "a6aea6b0",
   "metadata": {},
   "outputs": [
    {
     "name": "stdout",
     "output_type": "stream",
     "text": [
      "48\ttmp.h5\n"
     ]
    }
   ],
   "source": [
    "! du -sm tmp.h5"
   ]
  },
  {
   "cell_type": "code",
   "execution_count": 134,
   "id": "aa166ea8",
   "metadata": {},
   "outputs": [
    {
     "data": {
      "text/plain": [
       "124416.0"
      ]
     },
     "execution_count": 134,
     "metadata": {},
     "output_type": "execute_result"
    }
   ],
   "source": [
    "48 * (3600*1800) / (50*50)"
   ]
  },
  {
   "cell_type": "code",
   "execution_count": 135,
   "id": "0ace3cda",
   "metadata": {},
   "outputs": [
    {
     "data": {
      "text/plain": [
       "5.4"
      ]
     },
     "execution_count": 135,
     "metadata": {},
     "output_type": "execute_result"
    }
   ],
   "source": [
    " ( 3 * (3600*1800) / (50 ** 2) ) / ( 60.0 * 24 )"
   ]
  },
  {
   "cell_type": "code",
   "execution_count": 89,
   "id": "920b239f",
   "metadata": {},
   "outputs": [],
   "source": [
    "! open tmp.h5"
   ]
  },
  {
   "cell_type": "code",
   "execution_count": 75,
   "id": "37af509d",
   "metadata": {},
   "outputs": [
    {
     "data": {
      "text/plain": [
       "(<HDF5 file \"tmp.h5\" (mode r+)>,\n",
       " <HDF5 group \"/info\" (3 members)>,\n",
       " <HDF5 group \"/cells\" (10 members)>,\n",
       " <HDF5 group \"/stare_index\" (1 members)>)"
      ]
     },
     "execution_count": 75,
     "metadata": {},
     "output_type": "execute_result"
    }
   ],
   "source": [
    "f"
   ]
  },
  {
   "cell_type": "markdown",
   "id": "f9706b34",
   "metadata": {},
   "source": [
    "    def to_folder(self,foldername,level=None,irange=None,jrange=None):\n",
    "        \n",
    "        irange = range(self.nx_intervals) if irange is None else irange\n",
    "        jrange = range(self.ny_intervals) if jrange is None else jrange\n",
    "\n",
    "        for j in jrange:\n",
    "            for i in irange:\n",
    "                \n",
    "                destfolder = os.path.join(foldername+str(i)+str(j))\n",
    "                if not os.path.exists(destfolder):\n",
    "                    os.mkdir(destfolder)\n",
    "                    \n",
    "                filename=os.path.join(destfolder,'cell.h5')\n",
    "                \n",
    "                f = h5py.File(filename,'w')\n",
    "                info = f.create_group('info')\n",
    "                info.create_dataset('name',data = filename)\n",
    "                info.create_dataset('nx_intervals',data = self.nx_intervals)\n",
    "                info.create_dataset('ny_intervals',data = self.ny_intervals)\n",
    "\n",
    "                cells = f.create_group('cell')\n",
    "                index = f.create_group('stare_index')           \n",
    "\n",
    "                sivs,centroid = self.sivs(i,j,level)\n",
    "                \n",
    "                if level is None:\n",
    "                    level = (centroid[0][0] & 31) + 4\n",
    "                \n",
    "                l = i + self.nx_intervals*j\n",
    "\n",
    "                jgroup = cells.create_group(str(i)+'/'+str(j))\n",
    "                \n",
    "                jgroup.create_dataset('i',data   = i)\n",
    "                jgroup.create_dataset('j',data   = j)\n",
    "                jgroup.create_dataset('ij',data  = l)\n",
    "                \n",
    "                jgroup.create_dataset('ncorners',data = len(sivs[1]))\n",
    "                jgroup.create_dataset('level',   data = level)\n",
    "                \n",
    "                jgroup.create_dataset('lons',data  = sivs[1])\n",
    "                jgroup.create_dataset('lats',data  = sivs[2])\n",
    "                jgroup.create_dataset('lon_centroid',data  = centroid[1][0])\n",
    "                jgroup.create_dataset('lat_centroid',data  = centroid[2][0])\n",
    "                \n",
    "                jgroup.create_dataset('sivs',data  = sivs[0])\n",
    "                jgroup.create_dataset('sidx',data  = centroid[0][0])\n",
    "                \n",
    "                c_level = centroid[0][0] & 31\n",
    "                \n",
    "                for s in sivs[0]:\n",
    "                    s_c_level = pystare.spatial_clear_to_resolution(\n",
    "                        pystare.spatial_coerce_resolution(s,c_level))\n",
    "                    hidx0 = hex(s_c_level)\n",
    "                    # hidx  = hex((s_c_level & ~31)/2)\n",
    "                    hidx = hidx0[0:4]+'/'+hidx0[4:6]+'/'+hidx0[6:8]+'/'+hidx0[8:10]+'/'+hidx0[10:12]+'/'+hidx0[12:]\n",
    "                    try:\n",
    "                        s_c_group = index.create_group(hidx)\n",
    "                    except ValueError:\n",
    "                        s_c_group = index[hidx]\n",
    "                    try:\n",
    "                        s_c_ij_group = s_c_group.create_group(str(i)+'/'+str(j))\n",
    "                        s_c_ij_group.create_dataset('i', data = i)\n",
    "                        s_c_ij_group.create_dataset('j', data = j)\n",
    "                    except ValueError:\n",
    "                        pass\n",
    "                \n",
    "                f.close()\n",
    "        return True"
   ]
  },
  {
   "cell_type": "code",
   "execution_count": 7,
   "id": "67b757e9",
   "metadata": {},
   "outputs": [],
   "source": [
    "g10 = grid((0,1),(0,1),10,10)"
   ]
  },
  {
   "cell_type": "code",
   "execution_count": 8,
   "id": "bae6ac33",
   "metadata": {},
   "outputs": [
    {
     "data": {
      "text/plain": [
       "True"
      ]
     },
     "execution_count": 8,
     "metadata": {},
     "output_type": "execute_result"
    }
   ],
   "source": [
    "g10.to_h5('g10.h5')"
   ]
  },
  {
   "cell_type": "code",
   "execution_count": null,
   "id": "1eb48cf1",
   "metadata": {},
   "outputs": [],
   "source": [
    "!open g10.h5"
   ]
  },
  {
   "cell_type": "code",
   "execution_count": null,
   "id": "80a0ccab",
   "metadata": {},
   "outputs": [],
   "source": [
    "!rm g10.h5"
   ]
  },
  {
   "cell_type": "code",
   "execution_count": null,
   "id": "231fe211",
   "metadata": {},
   "outputs": [],
   "source": [
    "hex(4430990060083997897)"
   ]
  },
  {
   "cell_type": "code",
   "execution_count": null,
   "id": "b0ec2988",
   "metadata": {},
   "outputs": [],
   "source": [
    "list(map(hex,[4431031859937280009, 4431036257983791113, 4431038457007046665]))"
   ]
  },
  {
   "cell_type": "markdown",
   "id": "35850252",
   "metadata": {},
   "source": []
  },
  {
   "cell_type": "code",
   "execution_count": null,
   "id": "a95a0e0c",
   "metadata": {},
   "outputs": [],
   "source": [
    "sivs,centroid=g10.sivs(0,6,9)\n",
    "sivs,centroid,list(map(hex,sivs[0]))"
   ]
  },
  {
   "cell_type": "code",
   "execution_count": null,
   "id": "c9b3bce0",
   "metadata": {},
   "outputs": [],
   "source": [
    "s1 = int(4431101784210725450)\n",
    "for r in [11,10,9,8,7,6,5,4,3,2,1,0]:\n",
    "    s = pystare.spatial_clear_to_resolution(pystare.spatial_coerce_resolution(s1,r))\n",
    "    print(\n",
    "#        r,'\\n'\n",
    "#         ,hex(int((s & ~31))),'\\n'\n",
    "         hex(int((s & ~31)/2))\n",
    "    )"
   ]
  },
  {
   "cell_type": "code",
   "execution_count": null,
   "id": "3c03fa11",
   "metadata": {},
   "outputs": [],
   "source": []
  },
  {
   "cell_type": "code",
   "execution_count": null,
   "id": "58317536",
   "metadata": {},
   "outputs": [],
   "source": []
  },
  {
   "cell_type": "code",
   "execution_count": null,
   "id": "b15ad99f",
   "metadata": {},
   "outputs": [],
   "source": [
    "sivs,centroid"
   ]
  },
  {
   "cell_type": "code",
   "execution_count": null,
   "id": "c0b21980",
   "metadata": {},
   "outputs": [],
   "source": [
    "centroid[0][0] & 31"
   ]
  },
  {
   "cell_type": "code",
   "execution_count": null,
   "id": "b365a960",
   "metadata": {},
   "outputs": [],
   "source": [
    "g10.corners(0,0)"
   ]
  },
  {
   "cell_type": "code",
   "execution_count": null,
   "id": "72bdcdd7",
   "metadata": {},
   "outputs": [],
   "source": [
    "g10.centroid(0,0)"
   ]
  },
  {
   "cell_type": "code",
   "execution_count": null,
   "id": "c6e4a9ad",
   "metadata": {},
   "outputs": [],
   "source": [
    "g20 = grid((0,1),(0,1),20,20)"
   ]
  },
  {
   "cell_type": "code",
   "execution_count": 11,
   "id": "4830129f",
   "metadata": {},
   "outputs": [],
   "source": [
    "gImerg = grid((-180,180),(-90,90),3600,1800)"
   ]
  },
  {
   "cell_type": "code",
   "execution_count": null,
   "id": "0f2616a6",
   "metadata": {},
   "outputs": [],
   "source": [
    "gImerg.corners(0,0)"
   ]
  },
  {
   "cell_type": "code",
   "execution_count": null,
   "id": "d06ad110",
   "metadata": {},
   "outputs": [],
   "source": [
    "# i=1800; j=900\n",
    "# i=50; j=50\n",
    "# i=5; j = 5\n",
    "i=0; j = 1\n",
    "\n",
    "lonlats = list(gImerg.corners2(i,j))\n",
    "lons = lonlats[0]\n",
    "lats = lonlats[1]\n",
    "lon_,lat_=gImerg.centroid(i,j)"
   ]
  },
  {
   "cell_type": "code",
   "execution_count": 28,
   "id": "fdd61588",
   "metadata": {},
   "outputs": [],
   "source": [
    "gImerg = grid((-180,180),(-90,90),3600,1800)"
   ]
  },
  {
   "cell_type": "code",
   "execution_count": null,
   "id": "df79dbee",
   "metadata": {},
   "outputs": [],
   "source": [
    "gImerg.to_h5('imerg.h5')"
   ]
  },
  {
   "cell_type": "code",
   "execution_count": 29,
   "id": "320a481e",
   "metadata": {},
   "outputs": [
    {
     "name": "stdout",
     "output_type": "stream",
     "text": [
      "rm: imerg.h5: No such file or directory\n"
     ]
    }
   ],
   "source": [
    "! rm imerg.h5"
   ]
  },
  {
   "cell_type": "code",
   "execution_count": null,
   "id": "3a51d827",
   "metadata": {},
   "outputs": [],
   "source": [
    "gr = gImerg"
   ]
  },
  {
   "cell_type": "code",
   "execution_count": null,
   "id": "72a4cca2",
   "metadata": {},
   "outputs": [],
   "source": [
    "gr = g10"
   ]
  },
  {
   "cell_type": "code",
   "execution_count": null,
   "id": "2f70c28e",
   "metadata": {},
   "outputs": [],
   "source": [
    "# i=1800; j=900\n",
    "i=500; j=500\n",
    "# i=50; j=50\n",
    "# i=5; j = 5\n",
    "# i=0; j = 1\n",
    "\n",
    "level = 13\n",
    "\n",
    "# sivs,centroid = gr.sivs(i,j,level)\n",
    "sivs,centroid = gr.sivs(i,j)\n",
    "\n",
    "lons = sivs[1]\n",
    "lats = sivs[2]\n",
    "lon_ = centroid[1][0]\n",
    "lat_ = centroid[2][0]\n",
    "sivs = sivs[0]"
   ]
  },
  {
   "cell_type": "code",
   "execution_count": null,
   "id": "54d9292a",
   "metadata": {},
   "outputs": [],
   "source": []
  },
  {
   "cell_type": "code",
   "execution_count": 95,
   "id": "0b1657dd",
   "metadata": {},
   "outputs": [],
   "source": [
    "# f = h5py.File('imerg.h5','r')\n",
    "f = h5py.File('tmp.h5','r')\n",
    "\n",
    "cells = f.get('cells')"
   ]
  },
  {
   "cell_type": "code",
   "execution_count": 94,
   "id": "12750f47",
   "metadata": {},
   "outputs": [],
   "source": [
    "f.close()"
   ]
  },
  {
   "cell_type": "code",
   "execution_count": 98,
   "id": "25e76006",
   "metadata": {},
   "outputs": [],
   "source": [
    "ij = '1800/900/'\n",
    "ij = '900/900/'\n",
    "ij = '10/10/'\n",
    "\n",
    "sivs = cells[ij+'sivs'][:]\n",
    "\n",
    "lons = cells[ij+'lons'][:]\n",
    "lats = cells[ij+'lats'][:]\n",
    "lon_ = cells[ij+'lon_centroid'][()]\n",
    "lat_ = cells[ij+'lat_centroid'][()]\n",
    "\n",
    "sidx = [cells[ij+'sidx'][()]]"
   ]
  },
  {
   "cell_type": "code",
   "execution_count": null,
   "id": "e46c98f7",
   "metadata": {},
   "outputs": [],
   "source": []
  },
  {
   "cell_type": "code",
   "execution_count": 99,
   "id": "ef9ab6ce",
   "metadata": {},
   "outputs": [],
   "source": [
    "nearside_plot_options = {\n",
    "    'projection':\n",
    "    ccrs.NearsidePerspective(central_longitude=lon_\n",
    "                             ,central_latitude=lat_\n",
    "#                             ,satellite_height=35785831\n",
    "                             ,satellite_height= 3000000\n",
    "                             ,false_easting=0\n",
    "                             ,false_northing=0\n",
    "                             ,globe=None)\n",
    "    ,'transform': ccrs.Geodetic()\n",
    "}"
   ]
  },
  {
   "cell_type": "code",
   "execution_count": null,
   "id": "5dd731c7",
   "metadata": {},
   "outputs": [],
   "source": [
    "hex(centroid[0][0])"
   ]
  },
  {
   "cell_type": "code",
   "execution_count": null,
   "id": "9068afff",
   "metadata": {},
   "outputs": [],
   "source": [
    "hex(pystare.spatial_clear_to_resolution(centroid[0][0]))"
   ]
  },
  {
   "cell_type": "code",
   "execution_count": null,
   "id": "5203bc53",
   "metadata": {},
   "outputs": [],
   "source": [
    "figax,sivs_cache,sivs_triang = hello_plot(\n",
    "    spatial_index_values=sivs\n",
    "    ,set_coastlines=False\n",
    "    ,plot_options=nearside_plot_options\n",
    "#    ,plot_options=usr_plot_options\n",
    "#    ,set_global=True\n",
    "    ,set_global=False\n",
    "    ,show_fig=False\n",
    "    ,color='g'\n",
    ")\n",
    "\n",
    "if True:\n",
    "    figax,sivs_cache_2,sivs_triang_2 = hello_plot(\n",
    "        figax=figax\n",
    "        ,spatial_index_values=centroid[0]\n",
    "    #    ,spatial_index_values = sivs\n",
    "        ,plot_options=nearside_plot_options\n",
    "    #    ,plot_options=usr_plot_options\n",
    "    #    ,set_global=True\n",
    "        ,show_fig=False\n",
    "        ,color='b')\n",
    "\n",
    "if True:\n",
    "    color='r'\n",
    "    ls='-'\n",
    "    lw=1\n",
    "    figax.ax.plot(mp(lons),mp(lats)\n",
    "                    ,transform=nearside_plot_options['transform']\n",
    "                    ,color=color\n",
    "                    ,linestyle=ls\n",
    "                    ,lw=lw*0.6)\n",
    "\n",
    "plt.show() # May have to Cell->Current Outputs->Toggle Scrolling to see full figure.\n",
    "del figax"
   ]
  },
  {
   "cell_type": "code",
   "execution_count": 100,
   "id": "ae25d673",
   "metadata": {},
   "outputs": [
    {
     "name": "stdout",
     "output_type": "stream",
     "text": [
      "100\n",
      "200\n",
      "300\n"
     ]
    },
    {
     "data": {
      "image/png": "[encoded data removed]",
      "text/plain": [
       "<Figure size 600x600 with 1 Axes>"
      ]
     },
     "metadata": {
      "needs_background": "light"
     },
     "output_type": "display_data"
    }
   ],
   "source": [
    "print('100')\n",
    "figax,sivs_cache,sivs_triang = hello_plot(\n",
    "    spatial_index_values=sivs\n",
    "    ,set_coastlines=False\n",
    "    ,plot_options=nearside_plot_options\n",
    "#    ,plot_options=usr_plot_options\n",
    "#    ,set_global=True\n",
    "    ,set_global=False\n",
    "    ,show_fig=False\n",
    "    ,color='g'\n",
    ")\n",
    "\n",
    "# sidx = centroid[0]\n",
    "\n",
    "if True:\n",
    "    print('200')\n",
    "    figax,sivs_cache_2,sivs_triang_2 = hello_plot(\n",
    "        figax=figax\n",
    "        ,spatial_index_values=sidx\n",
    "    #    ,spatial_index_values = sivs\n",
    "        ,plot_options=nearside_plot_options\n",
    "    #    ,plot_options=usr_plot_options\n",
    "    #    ,set_global=True\n",
    "        ,show_fig=False\n",
    "        ,color='b')\n",
    "\n",
    "if True:\n",
    "    print('300')\n",
    "    color='r'\n",
    "    ls='-'\n",
    "    lw=1\n",
    "    figax.ax.plot(mp(lons),mp(lats)\n",
    "                    ,transform=nearside_plot_options['transform']\n",
    "                    ,color=color\n",
    "                    ,linestyle=ls\n",
    "                    ,lw=lw*0.6)\n",
    "\n",
    "plt.show() # May have to Cell->Current Outputs->Toggle Scrolling to see full figure.\n",
    "del figax"
   ]
  },
  {
   "cell_type": "code",
   "execution_count": null,
   "id": "b18ef949",
   "metadata": {},
   "outputs": [],
   "source": []
  }
 ],
 "metadata": {
  "kernelspec": {
   "display_name": "Python 3 (ipykernel)",
   "language": "python",
   "name": "python3"
  },
  "language_info": {
   "codemirror_mode": {
    "name": "ipython",
    "version": 3
   },
   "file_extension": ".py",
   "mimetype": "text/x-python",
   "name": "python",
   "nbconvert_exporter": "python",
   "pygments_lexer": "ipython3",
   "version": "3.8.10"
  }
 },
 "nbformat": 4,
 "nbformat_minor": 5
}
