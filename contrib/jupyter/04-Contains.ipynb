{
 "cells": [
  {
   "cell_type": "code",
   "execution_count": 1,
   "metadata": {},
   "outputs": [],
   "source": [
    "import pystare as ps\n",
    "\n",
    "import matplotlib as mpl\n",
    "import matplotlib.pyplot as plt\n",
    "import matplotlib.tri as tri\n",
    "import cartopy.crs as ccrs\n",
    "\n",
    "import numpy"
   ]
  },
  {
   "cell_type": "code",
   "execution_count": 2,
   "metadata": {},
   "outputs": [],
   "source": [
    "# Some helper functions for plotting & printing.\n",
    "\n",
    "class figax_container(object):\n",
    "    def __init__(self,figax):\n",
    "        self.fig = figax[0]\n",
    "        self.ax  = figax[1]\n",
    "        return\n",
    "\n",
    "def add_coastlines(figax,set_global=False):\n",
    "    \"Add coastlines to the plot.\"\n",
    "    ax = figax.ax\n",
    "    if set_global:\n",
    "        ax.set_global()\n",
    "    ax.coastlines()\n",
    "    return figax\n",
    "\n",
    "def hello_plot(\n",
    "        spatial_index_values=None\n",
    "        ,figax=None\n",
    "        ,plot_options={'projection':ccrs.PlateCarree(),'transform':ccrs.Geodetic()}\n",
    "        ,set_global=False\n",
    "        ,show=True\n",
    "        ,color=None\n",
    "        ):\n",
    "\n",
    "    if figax is None:\n",
    "        figax = figax_container(plt.subplots(1,subplot_kw=plot_options))\n",
    "        if set_global:\n",
    "            figax.ax.set_global()\n",
    "        figax.ax.coastlines()\n",
    "    else:\n",
    "        ax = figax.ax\n",
    "    \n",
    "    if spatial_index_values is not None:\n",
    "        # Calculate vertices and interconnection matrix\n",
    "        lons,lats,intmat = ps.triangulate_indices(spatial_index_values)\n",
    "        \n",
    "        # Make triangulation object & plot\n",
    "        siv_triang = tri.Triangulation(lons,lats,intmat)\n",
    "        figax.ax.triplot(siv_triang,c=color,transform=plot_options['transform'])\n",
    "    \n",
    "    if show:\n",
    "        plt.show()\n",
    "        \n",
    "    return figax\n",
    "\n",
    "def hex16(i):\n",
    "    return \"0x%016x\"%i\n",
    "\n",
    "km  = 1 # Unit of length\n",
    "deg = 1 # Unit of angle"
   ]
  },
  {
   "cell_type": "code",
   "execution_count": 3,
   "metadata": {},
   "outputs": [],
   "source": [
    "# Set up the projection and transformation\n",
    "proj         = ccrs.PlateCarree()\n",
    "# proj        = ccrs.Robinson() # Drives matplotlib bug.\n",
    "# proj        = ccrs.Mollweide() # Drives matplotlib bug.\n",
    "transf       = ccrs.Geodetic()\n",
    "plot_options = {'projection':proj,'transform':transf}"
   ]
  },
  {
   "cell_type": "code",
   "execution_count": 4,
   "metadata": {},
   "outputs": [
    {
     "data": {
      "image/png": "[encoded data removed]",
      "text/plain": [
       "<Figure size 432x288 with 1 Axes>"
      ]
     },
     "metadata": {
      "needs_background": "light"
     },
     "output_type": "display_data"
    }
   ],
   "source": [
    "spatial_index_MaunaLoa  = 0x2c2401f47797ec49 # Mauna Loa ~ 20 km\n",
    "spatial_index_Waikoloa  = 0x2c321dafde0f61a9 # Waikoloa  ~ 20 km\n",
    "spatial_index_Haleakala = 0x2c326749360621c6 # Haleakala ~ 160 km\n",
    "\n",
    "# Set up a test index using a resolution 7 (~80 km) neighborhood of Waikoloa\n",
    "test_index = spatial_index_Waikoloa - 2 # Go 2 levels coarser (2**2 times larger)\n",
    "\n",
    "figax = hello_plot([spatial_index_MaunaLoa],show=False)        # Small Blue\n",
    "figax = hello_plot([spatial_index_Waikoloa],figax,show=False)  # Small Green\n",
    "figax = hello_plot([spatial_index_Haleakala],figax,show=False) # Big Purple\n",
    "\n",
    "figax = hello_plot([test_index],figax) # Medium Pink\n"
   ]
  },
  {
   "cell_type": "code",
   "execution_count": 5,
   "metadata": {},
   "outputs": [
    {
     "data": {
      "image/png": "[encoded data removed]",
      "text/plain": [
       "<Figure size 432x288 with 1 Axes>"
      ]
     },
     "metadata": {
      "needs_background": "light"
     },
     "output_type": "display_data"
    }
   ],
   "source": [
    "# Try out cmp_spatial for the simple case of 1 element arrays (or lists).\n",
    "\n",
    "# Set up the colors to indicate the results of pystare.cmp_spatial([a...],[b...])\n",
    "def contains_color(i):\n",
    "    \"Return a color based on the input. Works if i isa numpy array.\"\n",
    "    ret = 'k'\n",
    "    if i == -1:   # for a in b\n",
    "        ret = 'r'\n",
    "    elif i == 0:  # neither a nor b contains the other\n",
    "        ret = 'g'\n",
    "    elif i == 1:  # for b in a\n",
    "        ret = 'b'\n",
    "    return ret\n",
    "\n",
    "# Check to see if test_index contains Waikoloa. Test contains Waikoloa so it's blue.\n",
    "figax = hello_plot([spatial_index_Waikoloa]\n",
    "                   ,color=contains_color(\n",
    "                       ps.cmp_spatial([test_index],[spatial_index_Waikoloa])) # test contains waikoloa?\n",
    "                   ,show=False)\n",
    "\n",
    "# Check to see if Waikoloa contains test_index. Test contains Waikoloa so color Test red.\n",
    "figax = hello_plot([test_index],figax\n",
    "                   ,color=contains_color(\n",
    "                       ps.cmp_spatial([spatial_index_Waikoloa],[test_index])) # waikoloa contains test?\n",
    "                   ,show=False)\n",
    "\n",
    "# Check to see if test_index contains Mauna Loa. Mauna Loa is outside Test, so color Mauna Loa green.\n",
    "figax = hello_plot([spatial_index_MaunaLoa],figax\n",
    "                   ,color=contains_color(\n",
    "                       ps.cmp_spatial([test_index],[spatial_index_MaunaLoa])) # test contains M. Loa?\n",
    "                   ,show=True)\n"
   ]
  },
  {
   "cell_type": "code",
   "execution_count": 6,
   "metadata": {},
   "outputs": [
    {
     "name": "stdout",
     "output_type": "stream",
     "text": [
      "Test contains Waikoloa? result = 1, color = b \n",
      "Test contains Mauna Loa? result = 0, color = g \n",
      "Test contains Haleakala? result = -1, color = r \n",
      "Test contains Test? result = 1, color = b \n"
     ]
    },
    {
     "data": {
      "image/png": "[encoded data removed]",
      "text/plain": [
       "<Figure size 432x288 with 1 Axes>"
      ]
     },
     "metadata": {
      "needs_background": "light"
     },
     "output_type": "display_data"
    }
   ],
   "source": [
    "# Show a simple use of a STARE spatial index as a key.\n",
    "# Note, this approach can become very sophisticated.\n",
    "\n",
    "query_names   = {spatial_index_Waikoloa:  'Waikoloa'\n",
    "                ,spatial_index_MaunaLoa:  'Mauna Loa'\n",
    "                ,spatial_index_Haleakala: 'Haleakala'\n",
    "                ,test_index:              'Test'}\n",
    "\n",
    "# Show a simple use of cmp_spatial's 'exterior' product.\n",
    "test_results = dict(zip(query_names.keys()\n",
    "                        ,ps.cmp_spatial([test_index]\n",
    "                                        ,list(query_names.keys()))))\n",
    "\n",
    "# Initialize the plot\n",
    "figax = hello_plot(show=False)\n",
    "\n",
    "# Loop over the results\n",
    "for qi in query_names:\n",
    "    figax = hello_plot([qi],figax\n",
    "                   ,color=contains_color(test_results[qi])\n",
    "                   ,show=False)\n",
    "    print('%s contains %s? result = %i, color = %s '\n",
    "          %(query_names[test_index]\n",
    "            ,query_names[qi]\n",
    "            ,test_results[qi]\n",
    "            ,contains_color(test_results[qi])))\n",
    "plt.show()\n",
    "\n",
    "# Note cmp_spatial([test_index],[test_index]), i.e. test_index contains test_index\n",
    "# 'short circuits' to '1'.\n",
    "# Note 'Haleakala' contains Test, hence cmp_spatial returns -1."
   ]
  }
 ],
 "metadata": {
  "kernelspec": {
   "display_name": "Python 3",
   "language": "python",
   "name": "python3"
  },
  "language_info": {
   "codemirror_mode": {
    "name": "ipython",
    "version": 3
   },
   "file_extension": ".py",
   "mimetype": "text/x-python",
   "name": "python",
   "nbconvert_exporter": "python",
   "pygments_lexer": "ipython3",
   "version": "3.7.6"
  }
 },
 "nbformat": 4,
 "nbformat_minor": 4
}
